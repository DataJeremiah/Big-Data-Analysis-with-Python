{
 "cells": [
  {
   "cell_type": "code",
   "execution_count": 1,
   "metadata": {},
   "outputs": [],
   "source": [
    "import requests\n",
    "\n",
    "# PySpark API:\n",
    "#http://spark.apache.org/docs/latest/api/python/index.html\n",
    "\n",
    "import os\n",
    "import sys\n",
    " \n",
    "os.environ[\"SPARK_HOME\"] = \"/usr/spark2.4.3\"\n",
    "os.environ[\"PYLIB\"] = os.environ[\"SPARK_HOME\"] + \"/python/lib\"\n",
    "# In below two lines, use /usr/bin/python2.7 if you want to use Python 2\n",
    "os.environ[\"PYSPARK_PYTHON\"] = \"/usr/local/anaconda/bin/python\" \n",
    "os.environ[\"PYSPARK_DRIVER_PYTHON\"] = \"/usr/local/anaconda/bin/python\"\n",
    "sys.path.insert(0, os.environ[\"PYLIB\"] +\"/py4j-0.10.7-src.zip\")\n",
    "sys.path.insert(0, os.environ[\"PYLIB\"] +\"/pyspark.zip\")\n",
    "\n",
    "from pyspark import SparkContext, SparkConf\n",
    "conf = SparkConf().setAppName(\"appName\")\n",
    "sc = SparkContext(conf=conf)\n",
    "\n",
    "# define SQLContext\n",
    "from pyspark.sql import SQLContext\n",
    "sqlContext = SQLContext(sc)"
   ]
  },
  {
   "cell_type": "code",
   "execution_count": 2,
   "metadata": {},
   "outputs": [],
   "source": [
    "import os\n",
    "import sys\n",
    "\n",
    "os.environ[\"SPARK_HOME\"] = \"/usr/spark2.4.3\"\n",
    "os.environ[\"PYLIB\"] = os.environ[\"SPARK_HOME\"] + \"/python/lib\"\n",
    "os.environ[\"PYSPARK_PYTHON\"] = \"/usr/local/anaconda/bin/python\" \n",
    "os.environ[\"PYSPARK_DRIVER_PYTHON\"] = \"/usr/local/anaconda/bin/python\"\n",
    "sys.path.insert(0, os.environ[\"PYLIB\"] +\"/py4j-0.10.7-src.zip\")\n",
    "sys.path.insert(0, os.environ[\"PYLIB\"] +\"/pyspark.zip\")\n",
    " \n",
    "from pyspark import SparkContext, SparkConf\n",
    "from pyspark.sql import SQLContext\n",
    "\n",
    "from pyspark.sql import SparkSession\n",
    "from functools import reduce\n",
    "from pyspark.sql.functions import col, lit, when\n",
    "#from graphframes import *\n",
    "\n",
    "\n",
    "spark = SparkSession.builder.appName(\"accident\").config(\"spark.jars.packages\", \"graphframes:graphframes:0.6.0-spark2.3-s_2.11\").enableHiveSupport().getOrCreate()\n",
    "\n",
    "sqlContext = SQLContext(spark)\n",
    "\n"
   ]
  },
  {
   "cell_type": "code",
   "execution_count": 3,
   "metadata": {},
   "outputs": [],
   "source": [
    "# Import libraries and other functions\n",
    "from io import StringIO\n",
    "from collections import namedtuple\n",
    "from pyspark.sql import Row\n",
    "from pyspark.sql.types import *\n",
    "from pyspark.sql.functions import *\n",
    "\n",
    "import csv\n",
    "import matplotlib.pyplot as plt\n",
    "import gmplot\n",
    "import pandas as pd\n",
    "import numpy as np\n",
    "\n",
    "#create an instance of SQLContext\n",
    "sqlContext = SQLContext(spark)"
   ]
  },
  {
   "cell_type": "markdown",
   "metadata": {},
   "source": [
    "# Create \"accident\" and \"vehicle\" Dataframe\n"
   ]
  },
  {
   "cell_type": "code",
   "execution_count": 4,
   "metadata": {},
   "outputs": [],
   "source": [
    "#create a DataFrame directly from Accidents2020 csv file \n",
    "\n",
    "accidents_2020DF = spark.read.option(\"header\", \"true\").option(\"delimiter\", \",\")\\\n",
    ".option(\"inferSchema\", \"true\").csv(\"hdfs:///user/imat5322_1396023/*accident-2020.csv\")\n"
   ]
  },
  {
   "cell_type": "code",
   "execution_count": 5,
   "metadata": {},
   "outputs": [
    {
     "name": "stdout",
     "output_type": "stream",
     "text": [
      "root\n",
      " |-- accident_index: string (nullable = true)\n",
      " |-- accident_year: integer (nullable = true)\n",
      " |-- accident_reference: string (nullable = true)\n",
      " |-- location_easting_osgr: string (nullable = true)\n",
      " |-- location_northing_osgr: string (nullable = true)\n",
      " |-- longitude: string (nullable = true)\n",
      " |-- latitude: string (nullable = true)\n",
      " |-- police_force: integer (nullable = true)\n",
      " |-- accident_severity: integer (nullable = true)\n",
      " |-- number_of_vehicles: integer (nullable = true)\n",
      " |-- number_of_casualties: integer (nullable = true)\n",
      " |-- date: string (nullable = true)\n",
      " |-- day_of_week: integer (nullable = true)\n",
      " |-- time: string (nullable = true)\n",
      " |-- local_authority_district: integer (nullable = true)\n",
      " |-- local_authority_ons_district: string (nullable = true)\n",
      " |-- local_authority_highway: string (nullable = true)\n",
      " |-- first_road_class: integer (nullable = true)\n",
      " |-- first_road_number: integer (nullable = true)\n",
      " |-- road_type: integer (nullable = true)\n",
      " |-- speed_limit: integer (nullable = true)\n",
      " |-- junction_detail: integer (nullable = true)\n",
      " |-- junction_control: integer (nullable = true)\n",
      " |-- second_road_class: integer (nullable = true)\n",
      " |-- second_road_number: integer (nullable = true)\n",
      " |-- pedestrian_crossing_human_control: integer (nullable = true)\n",
      " |-- pedestrian_crossing_physical_facilities: integer (nullable = true)\n",
      " |-- light_conditions: integer (nullable = true)\n",
      " |-- weather_conditions: integer (nullable = true)\n",
      " |-- road_surface_conditions: integer (nullable = true)\n",
      " |-- special_conditions_at_site: integer (nullable = true)\n",
      " |-- carriageway_hazards: integer (nullable = true)\n",
      " |-- urban_or_rural_area: integer (nullable = true)\n",
      " |-- did_police_officer_attend_scene_of_accident: integer (nullable = true)\n",
      " |-- trunk_road_flag: integer (nullable = true)\n",
      " |-- lsoa_of_accident_location: string (nullable = true)\n",
      "\n"
     ]
    }
   ],
   "source": [
    "accidents_2020DF.printSchema()"
   ]
  },
  {
   "cell_type": "code",
   "execution_count": 6,
   "metadata": {},
   "outputs": [],
   "source": [
    "#create a DataFrame directly from Vehicle2020 csv file \n",
    "\n",
    "vehicle_2020DF = spark.read.option(\"header\", \"true\").option(\"delimiter\", \",\")\\\n",
    ".option(\"inferSchema\", \"true\").csv(\"hdfs:///user/imat5322_1396023/*vehicle-2020.csv\")"
   ]
  },
  {
   "cell_type": "code",
   "execution_count": 7,
   "metadata": {},
   "outputs": [
    {
     "name": "stdout",
     "output_type": "stream",
     "text": [
      "root\n",
      " |-- accident_index: string (nullable = true)\n",
      " |-- accident_year: integer (nullable = true)\n",
      " |-- accident_reference: string (nullable = true)\n",
      " |-- vehicle_reference: integer (nullable = true)\n",
      " |-- vehicle_type: integer (nullable = true)\n",
      " |-- towing_and_articulation: integer (nullable = true)\n",
      " |-- vehicle_manoeuvre: integer (nullable = true)\n",
      " |-- vehicle_direction_from: integer (nullable = true)\n",
      " |-- vehicle_direction_to: integer (nullable = true)\n",
      " |-- vehicle_location_restricted_lane: integer (nullable = true)\n",
      " |-- junction_location: integer (nullable = true)\n",
      " |-- skidding_and_overturning: integer (nullable = true)\n",
      " |-- hit_object_in_carriageway: integer (nullable = true)\n",
      " |-- vehicle_leaving_carriageway: integer (nullable = true)\n",
      " |-- hit_object_off_carriageway: integer (nullable = true)\n",
      " |-- first_point_of_impact: integer (nullable = true)\n",
      " |-- vehicle_left_hand_drive: integer (nullable = true)\n",
      " |-- journey_purpose_of_driver: integer (nullable = true)\n",
      " |-- sex_of_driver: integer (nullable = true)\n",
      " |-- age_of_driver: integer (nullable = true)\n",
      " |-- age_band_of_driver: integer (nullable = true)\n",
      " |-- engine_capacity_cc: integer (nullable = true)\n",
      " |-- propulsion_code: integer (nullable = true)\n",
      " |-- age_of_vehicle: integer (nullable = true)\n",
      " |-- generic_make_model: string (nullable = true)\n",
      " |-- driver_imd_decile: integer (nullable = true)\n",
      " |-- driver_home_area_type: integer (nullable = true)\n",
      "\n"
     ]
    }
   ],
   "source": [
    "vehicle_2020DF.printSchema()"
   ]
  },
  {
   "cell_type": "code",
   "execution_count": 8,
   "metadata": {},
   "outputs": [
    {
     "data": {
      "text/plain": [
       "[Row(accident_index='2.02001E+12', accident_year=2020, accident_reference='10219808', location_easting_osgr='521389', location_northing_osgr='175144', longitude='-0.254001', latitude='51.462262', police_force=1, accident_severity=3, number_of_vehicles=1, number_of_casualties=1, date='04/02/2020', day_of_week=3, time='09:00', local_authority_district=10, local_authority_ons_district='E09000032', local_authority_highway='E09000032', first_road_class=6, first_road_number=0, road_type=6, speed_limit=20, junction_detail=0, junction_control=-1, second_road_class=0, second_road_number=-1, pedestrian_crossing_human_control=9, pedestrian_crossing_physical_facilities=9, light_conditions=1, weather_conditions=9, road_surface_conditions=9, special_conditions_at_site=0, carriageway_hazards=0, urban_or_rural_area=1, did_police_officer_attend_scene_of_accident=3, trunk_road_flag=2, lsoa_of_accident_location='E01004576')]"
      ]
     },
     "execution_count": 8,
     "metadata": {},
     "output_type": "execute_result"
    }
   ],
   "source": [
    "#call action\n",
    "accidents_2020DF.take(1)"
   ]
  },
  {
   "cell_type": "code",
   "execution_count": 9,
   "metadata": {},
   "outputs": [
    {
     "data": {
      "text/plain": [
       "[Row(accident_index='2020010219808', accident_year=2020, accident_reference='010219808', vehicle_reference=1, vehicle_type=9, towing_and_articulation=9, vehicle_manoeuvre=5, vehicle_direction_from=1, vehicle_direction_to=5, vehicle_location_restricted_lane=0, junction_location=0, skidding_and_overturning=0, hit_object_in_carriageway=0, vehicle_leaving_carriageway=0, hit_object_off_carriageway=0, first_point_of_impact=4, vehicle_left_hand_drive=9, journey_purpose_of_driver=6, sex_of_driver=2, age_of_driver=32, age_band_of_driver=6, engine_capacity_cc=1968, propulsion_code=2, age_of_vehicle=6, generic_make_model='AUDI Q5', driver_imd_decile=4, driver_home_area_type=1)]"
      ]
     },
     "execution_count": 9,
     "metadata": {},
     "output_type": "execute_result"
    }
   ],
   "source": [
    "#callaction\n",
    "vehicle_2020DF.take(1)"
   ]
  },
  {
   "cell_type": "code",
   "execution_count": 10,
   "metadata": {},
   "outputs": [
    {
     "name": "stdout",
     "output_type": "stream",
     "text": [
      "+--------------+-------------+------------------+---------------------+----------------------+---------+---------+------------+-----------------+------------------+--------------------+----------+-----------+-----+------------------------+----------------------------+-----------------------+----------------+-----------------+---------+-----------+---------------+----------------+-----------------+------------------+---------------------------------+---------------------------------------+----------------+------------------+-----------------------+--------------------------+-------------------+-------------------+-------------------------------------------+---------------+-------------------------+\n",
      "|accident_index|accident_year|accident_reference|location_easting_osgr|location_northing_osgr|longitude| latitude|police_force|accident_severity|number_of_vehicles|number_of_casualties|      date|day_of_week| time|local_authority_district|local_authority_ons_district|local_authority_highway|first_road_class|first_road_number|road_type|speed_limit|junction_detail|junction_control|second_road_class|second_road_number|pedestrian_crossing_human_control|pedestrian_crossing_physical_facilities|light_conditions|weather_conditions|road_surface_conditions|special_conditions_at_site|carriageway_hazards|urban_or_rural_area|did_police_officer_attend_scene_of_accident|trunk_road_flag|lsoa_of_accident_location|\n",
      "+--------------+-------------+------------------+---------------------+----------------------+---------+---------+------------+-----------------+------------------+--------------------+----------+-----------+-----+------------------------+----------------------------+-----------------------+----------------+-----------------+---------+-----------+---------------+----------------+-----------------+------------------+---------------------------------+---------------------------------------+----------------+------------------+-----------------------+--------------------------+-------------------+-------------------+-------------------------------------------+---------------+-------------------------+\n",
      "|   2.02001E+12|         2020|          10219808|               521389|                175144|-0.254001|51.462262|           1|                3|                 1|                   1|04/02/2020|          3|09:00|                      10|                   E09000032|              E09000032|               6|                0|        6|         20|              0|              -1|                0|                -1|                                9|                                      9|               1|                 9|                      9|                         0|                  0|                  1|                                          3|              2|                E01004576|\n",
      "|   2.02001E+12|         2020|          10220496|               529337|                176237|-0.139253|51.470327|           1|                3|                 1|                   2|27/04/2020|          2|13:55|                       9|                   E09000022|              E09000022|               3|             3036|        6|         20|              9|               2|                6|                 0|                                0|                                      4|               1|                 1|                      1|                         0|                  0|                  1|                                          1|              2|                E01003034|\n",
      "|   2.02001E+12|         2020|          10228005|               526432|                182761|-0.178719|51.529614|           1|                3|                 1|                   1|01/01/2020|          4|01:25|                       1|                   E09000033|              E09000033|               5|                0|        6|         30|              3|               1|                6|                 0|                                0|                                      0|               4|                 1|                      2|                         0|                  0|                  1|                                          1|              2|                E01004726|\n",
      "|   2.02001E+12|         2020|          10228006|               538676|                184371|-0.001683| 51.54121|           1|                2|                 1|                   1|01/01/2020|          4|01:50|                      17|                   E09000025|              E09000025|               3|               11|        6|         30|              0|              -1|                0|                -1|                                0|                                      4|               4|                 1|                      1|                         0|                  0|                  1|                                          1|              2|                E01003617|\n",
      "|   2.02001E+12|         2020|          10228011|               529324|                181286|-0.137592|51.515704|           1|                3|                 1|                   2|01/01/2020|          4|02:25|                       1|                   E09000033|              E09000033|               3|               40|        6|         30|              3|               4|                5|                 0|                                0|                                      0|               4|                 1|                      1|                         0|                  0|                  1|                                          1|              2|                E01004763|\n",
      "|   2.02001E+12|         2020|          10228012|               537193|                177105| -0.02588|51.476278|           1|                3|                 1|                   1|01/01/2020|          4|01:30|                       7|                   E09000023|              E09000023|               3|             2209|        2|         20|              3|               4|                6|                 0|                                0|                                      0|               4|                 1|                      1|                         0|                  0|                  1|                                          1|              2|                E01003304|\n",
      "|   2.02001E+12|         2020|          10228014|               539764|                179234| 0.011959| 51.49478|           1|                3|                 2|                   1|01/01/2020|          4|03:43|                       6|                   E09000011|              E09000011|               6|                0|        6|         30|              3|               4|                6|                 0|                                0|                                      0|               4|                 1|                      2|                         0|                  0|                  1|                                          1|              2|                E01001667|\n",
      "|   2.02001E+12|         2020|          10228017|               536115|                182297| -0.03939|51.523195|           1|                2|                 2|                   1|01/01/2020|          4|03:00|                       5|                   E09000030|              E09000030|               3|               11|        3|         30|              9|               4|                6|                 0|                                0|                                      0|               4|                 8|                      2|                         0|                  0|                  1|                                          1|              2|                E01004261|\n",
      "|   2.02001E+12|         2020|          10228018|               530876|                191335|  -0.1115|51.605653|           1|                3|                 2|                   1|01/01/2020|          4|04:00|                      31|                   E09000014|              E09000014|               3|              105|        6|         20|              9|               4|                6|                 0|                                0|                                      0|               4|                 1|                      1|                         0|                  0|                  1|                                          1|              2|                E01002102|\n",
      "|   2.02001E+12|         2020|          10228020|               529718|                192342| -0.12784|51.614971|           1|                3|                 2|                   1|01/01/2020|          4|03:25|                      32|                   E09000010|              E09000010|               3|              406|        3|         30|              6|               2|                3|               406|                                0|                                      5|               4|                 1|                      1|                         0|                  0|                  1|                                          1|              2|                E01001530|\n",
      "|   2.02001E+12|         2020|          10228022|               542576|                167312| 0.047641| 51.38695|           1|                3|                 1|                   1|01/01/2020|          4|04:00|                      19|                   E09000006|              E09000006|               6|                0|        6|         20|              9|               4|                6|                 0|                                0|                                      0|               4|                 1|                      1|                         0|                  2|                  1|                                          1|              2|                E01000662|\n",
      "|   2.02001E+12|         2020|          10228024|               534377|                197476| -0.05862|51.660013|           1|                2|                 3|                   4|01/01/2020|          4|03:40|                      32|                   E09000010|              E09000010|               3|               10|        3|         40|              6|               2|                5|                 0|                                0|                                      5|               4|                 1|                      2|                         0|                  0|                  1|                                          1|              2|                E01001516|\n",
      "|   2.02001E+12|         2020|          10228031|               553943|                190802| 0.221108|51.595036|           1|                3|                 2|                   2|01/01/2020|          4|04:46|                      15|                   E09000016|              E09000016|               3|               12|        3|         50|              0|              -1|                0|                -1|                                9|                                      9|               1|                 7|                      1|                         0|                  0|                  1|                                          3|              2|                E01002293|\n",
      "|   2.02001E+12|         2020|          10228032|               526375|                174240|-0.182588|51.453048|           1|                2|                 3|                   1|01/01/2020|          4|01:10|                      10|                   E09000032|              E09000032|               6|                0|        6|         20|              0|              -1|                0|                -1|                                0|                                      0|               4|                 1|                      2|                         0|                  0|                  1|                                          1|              2|                E01004620|\n",
      "|   2.02001E+12|         2020|          10228037|               529918|                163201|-0.135664| 51.35304|           1|                3|                 1|                   1|01/01/2020|          4|01:45|                      21|                   E09000029|              E09000029|               5|                0|        6|         30|              3|               4|                6|                 0|                                0|                                      0|               4|                 1|                      1|                         0|                  0|                  1|                                          1|              2|                E01004089|\n",
      "|   2.02001E+12|         2020|          10228038|               553007|                190580|  0.20751|51.593297|           1|                1|                 1|                   1|01/01/2020|          4|04:30|                      15|                   E09000016|              E09000016|               3|               12|        3|         50|              0|              -1|                0|                -1|                                0|                                      0|               4|                 7|                      2|                         0|                  0|                  2|                                          1|              2|                E01002337|\n",
      "|   2.02001E+12|         2020|          10228039|               532463|                182404|-0.091959|51.525025|           1|                3|                 2|                   2|01/01/2020|          4|04:09|                       3|                   E09000019|              E09000019|               3|             5201|        3|         30|              6|               2|                6|                 0|                                0|                                      4|               4|                 1|                      1|                         0|                  0|                  1|                                          1|              2|                E01002706|\n",
      "|   2.02001E+12|         2020|          10228045|               534220|                181589|-0.066958|51.517286|           1|                3|                 2|                   1|01/01/2020|          4|05:12|                       5|                   E09000030|              E09000030|               3|               11|        7|         20|              3|               1|                5|                 0|                                0|                                      9|               4|                 1|                      1|                         0|                  0|                  1|                                          3|              2|                E01004309|\n",
      "|   2.02001E+12|         2020|          10228060|               517380|                184787|-0.308476|51.549775|           1|                3|                 2|                   1|01/01/2020|          4|10:25|                      28|                   E09000005|              E09000005|               6|                0|        6|         30|              9|               4|                6|                 0|                                0|                                      0|               1|                 1|                      1|                         0|                  0|                  1|                                          1|              2|                E01000612|\n",
      "|   2.02001E+12|         2020|          10228077|               531477|                174550|-0.109087|51.454673|           1|                2|                 2|                   1|01/01/2020|          4|08:00|                       9|                   E09000022|              E09000022|               3|             2214|        6|         30|              3|               4|                6|                 0|                                0|                                      0|               1|                 1|                      1|                         0|                  0|                  1|                                          1|              2|                E01003074|\n",
      "+--------------+-------------+------------------+---------------------+----------------------+---------+---------+------------+-----------------+------------------+--------------------+----------+-----------+-----+------------------------+----------------------------+-----------------------+----------------+-----------------+---------+-----------+---------------+----------------+-----------------+------------------+---------------------------------+---------------------------------------+----------------+------------------+-----------------------+--------------------------+-------------------+-------------------+-------------------------------------------+---------------+-------------------------+\n",
      "only showing top 20 rows\n",
      "\n"
     ]
    }
   ],
   "source": [
    "#Call action\n",
    "accidents_2020DF.show()"
   ]
  },
  {
   "cell_type": "code",
   "execution_count": 11,
   "metadata": {
    "scrolled": false
   },
   "outputs": [
    {
     "name": "stdout",
     "output_type": "stream",
     "text": [
      "+--------------+-------------+------------------+-----------------+------------+-----------------------+-----------------+----------------------+--------------------+--------------------------------+-----------------+------------------------+-------------------------+---------------------------+--------------------------+---------------------+-----------------------+-------------------------+-------------+-------------+------------------+------------------+---------------+--------------+------------------+-----------------+---------------------+\n",
      "|accident_index|accident_year|accident_reference|vehicle_reference|vehicle_type|towing_and_articulation|vehicle_manoeuvre|vehicle_direction_from|vehicle_direction_to|vehicle_location_restricted_lane|junction_location|skidding_and_overturning|hit_object_in_carriageway|vehicle_leaving_carriageway|hit_object_off_carriageway|first_point_of_impact|vehicle_left_hand_drive|journey_purpose_of_driver|sex_of_driver|age_of_driver|age_band_of_driver|engine_capacity_cc|propulsion_code|age_of_vehicle|generic_make_model|driver_imd_decile|driver_home_area_type|\n",
      "+--------------+-------------+------------------+-----------------+------------+-----------------------+-----------------+----------------------+--------------------+--------------------------------+-----------------+------------------------+-------------------------+---------------------------+--------------------------+---------------------+-----------------------+-------------------------+-------------+-------------+------------------+------------------+---------------+--------------+------------------+-----------------+---------------------+\n",
      "| 2020010219808|         2020|         010219808|                1|           9|                      9|                5|                     1|                   5|                               0|                0|                       0|                        0|                          0|                         0|                    4|                      9|                        6|            2|           32|                 6|              1968|              2|             6|           AUDI Q5|                4|                    1|\n",
      "| 2020010220496|         2020|         010220496|                1|           9|                      0|                4|                     2|                   6|                               0|                2|                       0|                        0|                          0|                         0|                    1|                      1|                        2|            1|           45|                 7|              1395|              1|             2|           AUDI A1|                7|                    1|\n",
      "| 2020010228005|         2020|         010228005|                1|           9|                      0|               18|                    -1|                  -1|                               0|                0|                       0|                        0|                          0|                         0|                    1|                      1|                        6|            3|           -1|                -1|                -1|             -1|            -1|                -1|               -1|                   -1|\n",
      "| 2020010228006|         2020|         010228006|                1|           8|                      0|               18|                     1|                   5|                               0|                0|                       0|                        0|                          0|                         0|                    1|                      1|                        1|            1|           44|                 7|              1798|              8|             8|      TOYOTA PRIUS|                2|                    1|\n",
      "| 2020010228011|         2020|         010228011|                1|           9|                      0|               18|                     3|                   7|                               9|                1|                       0|                        0|                          0|                         0|                    1|                      1|                        6|            1|           20|                 4|              2993|              2|             4|      BMW 4 SERIES|               -1|                   -1|\n",
      "| 2020010228012|         2020|         010228012|                1|           9|                      0|               18|                     1|                   5|                               0|                1|                       0|                       10|                          0|                         0|                    1|                      1|                        6|            1|           25|                 5|              1390|              1|             5|           AUDI A1|                4|                    1|\n",
      "| 2020010228014|         2020|         010228014|                1|           9|                      0|               18|                     5|                   1|                               0|                1|                       0|                        0|                          0|                         0|                    1|                      1|                        1|            1|           41|                 7|              1969|              2|             4|         VOLVO V60|                3|                    1|\n",
      "| 2020010228014|         2020|         010228014|                2|           9|                      3|               18|                     1|                   5|                               0|                1|                       0|                        0|                          0|                         0|                    1|                      1|                        6|            3|           19|                 4|              2143|              2|             4|  MERCEDES C CLASS|               -1|                   -1|\n",
      "| 2020010228017|         2020|         010228017|                1|           9|                      0|               18|                     3|                   7|                               0|                6|                       0|                        0|                          0|                         0|                    1|                      1|                        1|            1|           32|                 6|              2993|              2|             8|  JAGUAR XF SERIES|                8|                    1|\n",
      "| 2020010228017|         2020|         010228017|                2|           9|                      0|                3|                     3|                   7|                               0|                6|                       0|                        0|                          0|                         0|                    0|                      1|                        6|            1|           26|                 6|              2993|              2|             0|            BMW X5|                2|                    1|\n",
      "| 2020010228018|         2020|         010228018|                1|           9|                      0|               18|                     1|                   5|                               0|                2|                       0|                        4|                          0|                         0|                    1|                      1|                        6|            1|           62|                 9|                -1|             -1|            -1|                -1|                6|                    1|\n",
      "| 2020010228018|         2020|         010228018|                2|           9|                      0|                2|                     0|                   0|                               0|                2|                       0|                        0|                          0|                         0|                    2|                      1|                        6|            3|           -1|                -1|              1984|              1|             1|           AUDI Q5|               -1|                   -1|\n",
      "| 2020010228020|         2020|         010228020|                1|           3|                      0|                3|                     7|                   3|                               0|                1|                       0|                        0|                          0|                         0|                    2|                      1|                        6|            1|           37|                 7|               114|              1|             5|      YAMAHA XC115|                8|                    1|\n",
      "| 2020010228020|         2020|         010228020|                2|           9|                      0|                4|                     7|                   3|                               0|                1|                       0|                        0|                          0|                         0|                    1|                      1|                        6|            1|           40|                 7|              1600|              1|             8|      BMW 1 SERIES|                5|                    1|\n",
      "| 2020010228022|         2020|         010228022|                1|           9|                      0|               18|                     7|                   3|                               9|                1|                       0|                       11|                          7|                        11|                    1|                      1|                        6|            1|           -1|                -1|                -1|             -1|            -1|                -1|               -1|                   -1|\n",
      "| 2020010228024|         2020|         010228024|                1|           9|                      0|               18|                     1|                   5|                               0|                1|                       2|                        0|                          1|                         2|                    1|                      1|                        6|            1|           33|                 6|              4134|              2|             4|   PORSCHE CAYENNE|                6|                    1|\n",
      "| 2020010228024|         2020|         010228024|                2|           9|                      0|                3|                     5|                   1|                               0|                1|                       1|                        0|                          0|                         0|                    1|                      1|                        6|            1|           41|                 7|              1986|              2|            14|           AUDI A4|                4|                    1|\n",
      "| 2020010228024|         2020|         010228024|                3|           9|                      0|                3|                     5|                   1|                               0|                1|                       0|                        0|                          0|                         0|                    1|                      1|                        6|            1|           51|                 8|              1968|              2|             1|  VOLKSWAGEN CADDY|                1|                    1|\n",
      "| 2020010228031|         2020|         010228031|                1|           9|                      0|               99|                     9|                   9|                              99|                0|                       9|                       99|                          9|                        99|                    2|                      9|                        2|            1|           30|                 6|              1597|              2|             5|         HONDA CRV|                2|                    1|\n",
      "| 2020010228031|         2020|         010228031|                2|           9|                      9|               99|                     9|                   9|                              99|                0|                       9|                       99|                          9|                        99|                    9|                      9|                        6|            3|           -1|                -1|              1229|              1|             8|    VAUXHALL CORSA|               -1|                   -1|\n",
      "+--------------+-------------+------------------+-----------------+------------+-----------------------+-----------------+----------------------+--------------------+--------------------------------+-----------------+------------------------+-------------------------+---------------------------+--------------------------+---------------------+-----------------------+-------------------------+-------------+-------------+------------------+------------------+---------------+--------------+------------------+-----------------+---------------------+\n",
      "only showing top 20 rows\n",
      "\n"
     ]
    }
   ],
   "source": [
    "#call action\n",
    "vehicle_2020DF.show()"
   ]
  },
  {
   "cell_type": "markdown",
   "metadata": {},
   "source": [
    "# Joined Accident and Vehicle dataset\n"
   ]
  },
  {
   "cell_type": "code",
   "execution_count": 12,
   "metadata": {},
   "outputs": [],
   "source": [
    "#Join accident and vehicle dataset 2020 \n",
    "combined_df = accidents_2020DF.join(vehicle_2020DF, accidents_2020DF.accident_index == vehicle_2020DF.accident_index)"
   ]
  },
  {
   "cell_type": "code",
   "execution_count": 13,
   "metadata": {
    "scrolled": true
   },
   "outputs": [
    {
     "name": "stdout",
     "output_type": "stream",
     "text": [
      "root\n",
      " |-- accident_index: string (nullable = true)\n",
      " |-- accident_year: integer (nullable = true)\n",
      " |-- accident_reference: string (nullable = true)\n",
      " |-- location_easting_osgr: string (nullable = true)\n",
      " |-- location_northing_osgr: string (nullable = true)\n",
      " |-- longitude: string (nullable = true)\n",
      " |-- latitude: string (nullable = true)\n",
      " |-- police_force: integer (nullable = true)\n",
      " |-- accident_severity: integer (nullable = true)\n",
      " |-- number_of_vehicles: integer (nullable = true)\n",
      " |-- number_of_casualties: integer (nullable = true)\n",
      " |-- date: string (nullable = true)\n",
      " |-- day_of_week: integer (nullable = true)\n",
      " |-- time: string (nullable = true)\n",
      " |-- local_authority_district: integer (nullable = true)\n",
      " |-- local_authority_ons_district: string (nullable = true)\n",
      " |-- local_authority_highway: string (nullable = true)\n",
      " |-- first_road_class: integer (nullable = true)\n",
      " |-- first_road_number: integer (nullable = true)\n",
      " |-- road_type: integer (nullable = true)\n",
      " |-- speed_limit: integer (nullable = true)\n",
      " |-- junction_detail: integer (nullable = true)\n",
      " |-- junction_control: integer (nullable = true)\n",
      " |-- second_road_class: integer (nullable = true)\n",
      " |-- second_road_number: integer (nullable = true)\n",
      " |-- pedestrian_crossing_human_control: integer (nullable = true)\n",
      " |-- pedestrian_crossing_physical_facilities: integer (nullable = true)\n",
      " |-- light_conditions: integer (nullable = true)\n",
      " |-- weather_conditions: integer (nullable = true)\n",
      " |-- road_surface_conditions: integer (nullable = true)\n",
      " |-- special_conditions_at_site: integer (nullable = true)\n",
      " |-- carriageway_hazards: integer (nullable = true)\n",
      " |-- urban_or_rural_area: integer (nullable = true)\n",
      " |-- did_police_officer_attend_scene_of_accident: integer (nullable = true)\n",
      " |-- trunk_road_flag: integer (nullable = true)\n",
      " |-- lsoa_of_accident_location: string (nullable = true)\n",
      " |-- accident_index: string (nullable = true)\n",
      " |-- accident_year: integer (nullable = true)\n",
      " |-- accident_reference: string (nullable = true)\n",
      " |-- vehicle_reference: integer (nullable = true)\n",
      " |-- vehicle_type: integer (nullable = true)\n",
      " |-- towing_and_articulation: integer (nullable = true)\n",
      " |-- vehicle_manoeuvre: integer (nullable = true)\n",
      " |-- vehicle_direction_from: integer (nullable = true)\n",
      " |-- vehicle_direction_to: integer (nullable = true)\n",
      " |-- vehicle_location_restricted_lane: integer (nullable = true)\n",
      " |-- junction_location: integer (nullable = true)\n",
      " |-- skidding_and_overturning: integer (nullable = true)\n",
      " |-- hit_object_in_carriageway: integer (nullable = true)\n",
      " |-- vehicle_leaving_carriageway: integer (nullable = true)\n",
      " |-- hit_object_off_carriageway: integer (nullable = true)\n",
      " |-- first_point_of_impact: integer (nullable = true)\n",
      " |-- vehicle_left_hand_drive: integer (nullable = true)\n",
      " |-- journey_purpose_of_driver: integer (nullable = true)\n",
      " |-- sex_of_driver: integer (nullable = true)\n",
      " |-- age_of_driver: integer (nullable = true)\n",
      " |-- age_band_of_driver: integer (nullable = true)\n",
      " |-- engine_capacity_cc: integer (nullable = true)\n",
      " |-- propulsion_code: integer (nullable = true)\n",
      " |-- age_of_vehicle: integer (nullable = true)\n",
      " |-- generic_make_model: string (nullable = true)\n",
      " |-- driver_imd_decile: integer (nullable = true)\n",
      " |-- driver_home_area_type: integer (nullable = true)\n",
      "\n"
     ]
    }
   ],
   "source": [
    "combined_df.printSchema()"
   ]
  },
  {
   "cell_type": "code",
   "execution_count": 14,
   "metadata": {
    "scrolled": true
   },
   "outputs": [
    {
     "data": {
      "text/plain": [
       "[Row(accident_index='2020010228951', accident_year=2020, accident_reference='010228951', location_easting_osgr='526921', location_northing_osgr='175757', longitude='-0.174191', latitude='51.466559', police_force=1, accident_severity=3, number_of_vehicles=2, number_of_casualties=1, date='07/01/2020', day_of_week=3, time='13:00', local_authority_district=10, local_authority_ons_district='E09000032', local_authority_highway='E09000032', first_road_class=6, first_road_number=0, road_type=9, speed_limit=20, junction_detail=0, junction_control=-1, second_road_class=0, second_road_number=-1, pedestrian_crossing_human_control=9, pedestrian_crossing_physical_facilities=0, light_conditions=1, weather_conditions=1, road_surface_conditions=1, special_conditions_at_site=0, carriageway_hazards=0, urban_or_rural_area=1, did_police_officer_attend_scene_of_accident=3, trunk_road_flag=2, lsoa_of_accident_location='E01004535', accident_index='2020010228951', accident_year=2020, accident_reference='010228951', vehicle_reference=1, vehicle_type=3, towing_and_articulation=0, vehicle_manoeuvre=99, vehicle_direction_from=9, vehicle_direction_to=9, vehicle_location_restricted_lane=99, junction_location=0, skidding_and_overturning=9, hit_object_in_carriageway=99, vehicle_leaving_carriageway=9, hit_object_off_carriageway=99, first_point_of_impact=9, vehicle_left_hand_drive=1, journey_purpose_of_driver=6, sex_of_driver=1, age_of_driver=25, age_band_of_driver=5, engine_capacity_cc=125, propulsion_code=1, age_of_vehicle=5, generic_make_model='HONDA WW125EX2', driver_imd_decile=5, driver_home_area_type=1)]"
      ]
     },
     "execution_count": 14,
     "metadata": {},
     "output_type": "execute_result"
    }
   ],
   "source": [
    "combined_df.take(1)"
   ]
  },
  {
   "cell_type": "markdown",
   "metadata": {},
   "source": [
    "# Renaming numbers to meaninful words\n"
   ]
  },
  {
   "cell_type": "code",
   "execution_count": 15,
   "metadata": {},
   "outputs": [],
   "source": [
    "#changing value labels from numbers to meaningful words using regexp_replace\n",
    "\n",
    "combined_df = combined_df.withColumn('day_of_week', regexp_replace('day_of_week', '1', 'Sunday'))\\\n",
    ".withColumn('day_of_week', regexp_replace('day_of_week', '2', 'Monday'))\\\n",
    ".withColumn('day_of_week', regexp_replace('day_of_week', '3', 'Tuesday'))\\\n",
    ".withColumn('day_of_week', regexp_replace('day_of_week', '4', 'Wednesday'))\\\n",
    ".withColumn('day_of_week', regexp_replace('day_of_week', '5', 'Thursday'))\\\n",
    ".withColumn('day_of_week', regexp_replace('day_of_week', '6', 'Friday'))\\\n",
    ".withColumn('day_of_week', regexp_replace('day_of_week', '7', 'Saturday'))\\\n",
    ".withColumn('road_type', when(combined_df.road_type == \"1\", regexp_replace(combined_df.\\\n",
    "road_type, \"1\", \"Roundabout\")).\\\n",
    "when(combined_df.road_type == \"2\", regexp_replace(combined_df.\\\n",
    "road_type, \"2\", \"One way street\")).\\\n",
    "when(combined_df.road_type == \"3\", regexp_replace(combined_df.\\\n",
    "road_type, \"3\", \"Dual carriageway\")).\\\n",
    "when(combined_df.road_type == \"6\", regexp_replace(combined_df.\\\n",
    "road_type, \"6\", \"Single carriageway\")).\\\n",
    "when(combined_df.road_type == \"7\", regexp_replace(combined_df.\\\n",
    "road_type, \"7\", \"Slip road\")).\\\n",
    "when(combined_df.road_type == \"9\", regexp_replace(combined_df.\\\n",
    "road_type, \"9\", \"Unknown\")).\\\n",
    "when(combined_df.road_type == \"12\", regexp_replace(combined_df.\\\n",
    "road_type, \"12\", \"One way street/Slip road\")).\\\n",
    "when(combined_df.road_type == \"-1\", regexp_replace(combined_df.\\\n",
    "road_type, \"-1\", \"Data missing or out of range\")).otherwise(combined_df.road_type))\\\n",
    ".withColumn('light_conditions', when(combined_df.light_conditions == \"1\", regexp_replace(combined_df.\\\n",
    "light_conditions, \"1\", \"Daylight\")).\\\n",
    "when(combined_df.light_conditions == \"4\", regexp_replace(combined_df.\\\n",
    "light_conditions, \"4\", \"Darkness - lights lit\")).\\\n",
    "when(combined_df.light_conditions == \"5\", regexp_replace(combined_df.\\\n",
    "light_conditions, \"5\", \"Darkness - lights unlit\")).\\\n",
    "when(combined_df.light_conditions == \"6\", regexp_replace(combined_df.\\\n",
    "light_conditions, \"6\", \"Darkness - no lighting\")).\\\n",
    "when(combined_df.light_conditions == \"7\", regexp_replace(combined_df.\\\n",
    "light_conditions, \"7\", \"Darkness - lighting unknown\")).\\\n",
    "when(combined_df.light_conditions == \"-1\", regexp_replace(combined_df.\\\n",
    "light_conditions, \"-1\", \"Data missing or out of range\")).otherwise(combined_df.light_conditions))\\\n",
    ".withColumn('weather_conditions', when(combined_df.weather_conditions == \"1\", regexp_replace(combined_df.\\\n",
    "weather_conditions, \"1\", \"Fine no high winds\")).\\\n",
    "when(combined_df.weather_conditions == \"2\", regexp_replace(combined_df.\\\n",
    "weather_conditions, \"2\", \"Raining no high winds\")).\\\n",
    "when(combined_df.weather_conditions == \"3\", regexp_replace(combined_df.\\\n",
    "weather_conditions, \"3\", \"Snowing no high winds\")).\\\n",
    "when(combined_df.weather_conditions == \"4\", regexp_replace(combined_df.\\\n",
    "weather_conditions, \"4\", \"Fine + high winds\")).\\\n",
    "when(combined_df.weather_conditions == \"5\", regexp_replace(combined_df.\\\n",
    "weather_conditions, \"5\", \"Raining + high winds\")).\\\n",
    "when(combined_df.weather_conditions == \"6\", regexp_replace(combined_df.\\\n",
    "weather_conditions, \"6\", \"Snowing + high winds\")).\\\n",
    "when(combined_df.weather_conditions == \"7\", regexp_replace(combined_df.\\\n",
    "weather_conditions, \"7\", \"Fog or mist\")).\\\n",
    "when(combined_df.weather_conditions == \"8\", regexp_replace(combined_df.\\\n",
    "weather_conditions, \"8\", \"Other\")).\\\n",
    "when(combined_df.weather_conditions == \"9\", regexp_replace(combined_df.\\\n",
    "weather_conditions, \"9\", \"Unknown\")).\\\n",
    "when(combined_df.weather_conditions == \"-1\", regexp_replace(combined_df.\\\n",
    "weather_conditions, \"-1\", \"Data missing or out of range\")).otherwise(combined_df.weather_conditions))\\\n",
    ".withColumn('road_surface_conditions', when(combined_df.road_surface_conditions == \"1\", regexp_replace(combined_df.\\\n",
    "road_surface_conditions, \"1\", \"Dry\")).\\\n",
    "when(combined_df.road_surface_conditions == \"2\", regexp_replace(combined_df.\\\n",
    "road_surface_conditions, \"2\", \"Wet or damp\")).\\\n",
    "when(combined_df.road_surface_conditions == \"3\", regexp_replace(combined_df.\\\n",
    "road_surface_conditions, \"3\", \"Snow\")).\\\n",
    "when(combined_df.road_surface_conditions == \"4\", regexp_replace(combined_df.\\\n",
    "road_surface_conditions, \"4\", \"Frost or ice\")).\\\n",
    "when(combined_df.road_surface_conditions == \"5\", regexp_replace(combined_df.\\\n",
    "road_surface_conditions, \"5\", \"Flood over 3cm. deep\")).\\\n",
    "when(combined_df.road_surface_conditions == \"6\", regexp_replace(combined_df.\\\n",
    "road_surface_conditions, \"6\", \"Oil or diesel\")).\\\n",
    "when(combined_df.road_surface_conditions == \"7\", regexp_replace(combined_df.\\\n",
    "road_surface_conditions, \"7\", \"Mud\")).\\\n",
    "when(combined_df.road_surface_conditions == \"9\", regexp_replace(combined_df.\\\n",
    "road_surface_conditions, \"9\", \"unknown (self reported)\")).\\\n",
    "when(combined_df.road_surface_conditions == \"-1\", regexp_replace(combined_df.\\\n",
    "road_surface_conditions, \"-1\", \"Data missing or out of range\")).otherwise(combined_df.road_surface_conditions))\\\n",
    ".withColumn('special_conditions_at_site', when(combined_df.special_conditions_at_site == \"0\", regexp_replace(combined_df.\\\n",
    "special_conditions_at_site, \"0\", \"None\")).\\\n",
    "when(combined_df.special_conditions_at_site == \"1\", regexp_replace(combined_df.\\\n",
    "special_conditions_at_site, \"1\", \"Auto traffic signal - out\")).\\\n",
    "when(combined_df.special_conditions_at_site == \"2\", regexp_replace(combined_df.\\\n",
    "special_conditions_at_site, \"2\", \"Auto signal part defective\")).\\\n",
    "when(combined_df.special_conditions_at_site == \"3\", regexp_replace(combined_df.\\\n",
    "special_conditions_at_site, \"3\", \"Road sign or marking defective or obscured\")).\\\n",
    "when(combined_df.special_conditions_at_site == \"4\", regexp_replace(combined_df.\\\n",
    "special_conditions_at_site, \"4\", \"Roadworks\")).\\\n",
    "when(combined_df.special_conditions_at_site == \"5\", regexp_replace(combined_df.\\\n",
    "special_conditions_at_site, \"5\", \"Road surface defective\")).\\\n",
    "when(combined_df.special_conditions_at_site == \"6\", regexp_replace(combined_df.\\\n",
    "special_conditions_at_site, \"6\", \"Oil or diesel\")).\\\n",
    "when(combined_df.special_conditions_at_site == \"7\", regexp_replace(combined_df.\\\n",
    "special_conditions_at_site, \"7\", \"Mud\")).\\\n",
    "when(combined_df.special_conditions_at_site == \"9\", regexp_replace(combined_df.\\\n",
    "special_conditions_at_site, \"9\", \"unknown (self reported)\")).\\\n",
    "when(combined_df.special_conditions_at_site == \"-1\", regexp_replace(combined_df.\\\n",
    "special_conditions_at_site, \"-1\", \"Data missing or out of range\")).otherwise(combined_df.special_conditions_at_site))\\\n",
    ".withColumn('Accident_Severity', regexp_replace('Accident_Severity', '1', 'Fatal'))\\\n",
    ".withColumn('Accident_Severity', regexp_replace('Accident_Severity', '2', 'Serious'))\\\n",
    ".withColumn('Accident_Severity', regexp_replace('Accident_Severity', '3', 'Slight'))\\\n",
    ".withColumn('junction_control', when(combined_df.junction_control == \"0\", regexp_replace(combined_df.\\\n",
    "junction_control, \"0\", \"Not at or within 20 metres of junction\")).\\\n",
    "when(combined_df.junction_control == \"1\", regexp_replace(combined_df.\\\n",
    "junction_control, \"1\", \"Approaching junction or waiting/parked at junction approach\")).\\\n",
    "when(combined_df.junction_control == \"2\", regexp_replace(combined_df.\\\n",
    "junction_control, \"2\", \"Cleared junction or waiting/parked at junction exit\")).\\\n",
    "when(combined_df.junction_control == \"3\", regexp_replace(combined_df.\\\n",
    "junction_control, \"3\", \"Leaving roundabout\")).\\\n",
    "when(combined_df.junction_control == \"4\", regexp_replace(combined_df.\\\n",
    "junction_control, \"4\", \"Entering roundabout\")).\\\n",
    "when(combined_df.junction_control == \"5\", regexp_replace(combined_df.\\\n",
    "junction_control, \"5\", \"Leaving main road\")).\\\n",
    "when(combined_df.junction_control == \"6\", regexp_replace(combined_df.\\\n",
    "junction_control, \"6\", \"Entering main road\")).\\\n",
    "when(combined_df.junction_control == \"7\", regexp_replace(combined_df.\\\n",
    "junction_control, \"7\", \"Entering from slip road\")).\\\n",
    "when(combined_df.junction_control == \"8\", regexp_replace(combined_df.\\\n",
    "junction_control, \"8\", \"Mid Junction - on roundabout or on main road\")).\\\n",
    "when(combined_df.junction_control == \"9\", regexp_replace(combined_df.\\\n",
    "junction_control, \"9\", \"unknown (self reported)\")).\\\n",
    "when(combined_df.junction_control == \"-1\", regexp_replace(combined_df.\\\n",
    "junction_control, \"-1\", \"Data missing or out of range\")).otherwise(combined_df.junction_control))\\\n",
    ".withColumn('did_police_officer_attend_scene_of_accident', when(combined_df.did_police_officer_attend_scene_of_accident == \"1\", regexp_replace(combined_df.\\\n",
    "did_police_officer_attend_scene_of_accident, \"1\", \"Yes\")).\\\n",
    "when(combined_df.did_police_officer_attend_scene_of_accident == \"2\", regexp_replace(combined_df.\\\n",
    "did_police_officer_attend_scene_of_accident, \"2\", \"No\")).\\\n",
    "when(combined_df.did_police_officer_attend_scene_of_accident == \"3\", regexp_replace(combined_df.\\\n",
    "did_police_officer_attend_scene_of_accident, \"3\", \"No - accident was reported (self rep only)\")).\\\n",
    "when(combined_df.did_police_officer_attend_scene_of_accident == \"-1\", regexp_replace(combined_df.\\\n",
    "did_police_officer_attend_scene_of_accident, \"-1\", \"Data missing or out of range\")).otherwise(combined_df.did_police_officer_attend_scene_of_accident))\\\n",
    ".withColumn('urban_or_rural_area', when(combined_df.urban_or_rural_area == \"1\", regexp_replace(combined_df.\\\n",
    "urban_or_rural_area, \"1\", \"Urban\")).\\\n",
    "when(combined_df.urban_or_rural_area == \"2\", regexp_replace(combined_df.\\\n",
    "urban_or_rural_area, \"2\", \"Rural\")).\\\n",
    "when(combined_df.urban_or_rural_area == \"3\", regexp_replace(combined_df.\\\n",
    "urban_or_rural_area, \"3\", \"Unallocated\")).\\\n",
    "when(combined_df.urban_or_rural_area == \"-1\", regexp_replace(combined_df.\\\n",
    "urban_or_rural_area, \"-1\", \"null\")).otherwise(combined_df.urban_or_rural_area))\n"
   ]
  },
  {
   "cell_type": "code",
   "execution_count": 16,
   "metadata": {},
   "outputs": [],
   "source": [
    "combined_df = combined_df.withColumn('sex_of_driver', when(combined_df.sex_of_driver == \"1\", regexp_replace(combined_df.\\\n",
    "sex_of_driver, \"1\", \"Male\")).\\\n",
    "when(combined_df.sex_of_driver == \"2\", regexp_replace(combined_df.\\\n",
    "sex_of_driver, \"2\", \"Female\")).\\\n",
    "when(combined_df.sex_of_driver == \"3\", regexp_replace(combined_df.\\\n",
    "sex_of_driver, \"3\", \"Unknow\")).\\\n",
    "when(combined_df.sex_of_driver == \"-1\", regexp_replace(combined_df.\\\n",
    "sex_of_driver, \"-1\", \"Data missing or out of range\")).otherwise(combined_df.sex_of_driver))\n"
   ]
  },
  {
   "cell_type": "code",
   "execution_count": 17,
   "metadata": {},
   "outputs": [],
   "source": [
    "combined_df = combined_df.withColumn('age_band_of_driver', when(combined_df.age_band_of_driver == \"1\", regexp_replace(combined_df.\\\n",
    "age_band_of_driver, \"1\", \"0-5\")).\\\n",
    "when(combined_df.age_band_of_driver == \"2\", regexp_replace(combined_df.\\\n",
    "age_band_of_driver, \"2\", \"6-10\")).\\\n",
    "when(combined_df.age_band_of_driver == \"3\", regexp_replace(combined_df.\\\n",
    "age_band_of_driver, \"3\", \"11-15\")).\\\n",
    "when(combined_df.age_band_of_driver == \"4\", regexp_replace(combined_df.\\\n",
    "age_band_of_driver, \"4\", \"16-20\")).\\\n",
    "when(combined_df.age_band_of_driver == \"5\", regexp_replace(combined_df.\\\n",
    "age_band_of_driver, \"5\", \"21-25\")).\\\n",
    "when(combined_df.age_band_of_driver == \"6\", regexp_replace(combined_df.\\\n",
    "age_band_of_driver, \"6\", \"26-35\")).\\\n",
    "when(combined_df.age_band_of_driver == \"7\", regexp_replace(combined_df.\\\n",
    "age_band_of_driver, \"7\", \"36-45\")).\\\n",
    "when(combined_df.age_band_of_driver == \"8\", regexp_replace(combined_df.\\\n",
    "age_band_of_driver, \"8\", \"46-55\")).\\\n",
    "when(combined_df.age_band_of_driver == \"9\", regexp_replace(combined_df.\\\n",
    "age_band_of_driver, \"9\", \"56-65\")).\\\n",
    "when(combined_df.age_band_of_driver == \"10\", regexp_replace(combined_df.\\\n",
    "age_band_of_driver, \"9\", \"56-65\")).\\\n",
    "when(combined_df.age_band_of_driver == \"11\", regexp_replace(combined_df.\\\n",
    "age_band_of_driver, \"9\", \"56-65\")).\\\n",
    "when(combined_df.age_band_of_driver == \"-1\", regexp_replace(combined_df.\\\n",
    "age_band_of_driver, \"-1\", \"Null\")).otherwise(combined_df.age_band_of_driver))\n"
   ]
  },
  {
   "cell_type": "code",
   "execution_count": 18,
   "metadata": {},
   "outputs": [
    {
     "name": "stdout",
     "output_type": "stream",
     "text": [
      "+-----------+\n",
      "|day_of_week|\n",
      "+-----------+\n",
      "|  Wednesday|\n",
      "|    Tuesday|\n",
      "|     Friday|\n",
      "|   Thursday|\n",
      "|   Saturday|\n",
      "|     Monday|\n",
      "|     Sunday|\n",
      "+-----------+\n",
      "\n"
     ]
    }
   ],
   "source": [
    "#Show meaningful words for values day of week\n",
    "\n",
    "combined_df.select(\"day_of_week\").distinct().show()"
   ]
  },
  {
   "cell_type": "code",
   "execution_count": 19,
   "metadata": {},
   "outputs": [
    {
     "name": "stdout",
     "output_type": "stream",
     "text": [
      "+--------------------+\n",
      "|       sex_of_driver|\n",
      "+--------------------+\n",
      "|              Female|\n",
      "|                Male|\n",
      "|Data missing or o...|\n",
      "|              Unknow|\n",
      "+--------------------+\n",
      "\n"
     ]
    }
   ],
   "source": [
    "#Show meaningful words for values sex of driver\n",
    "combined_df.select(\"sex_of_driver\").distinct().show()"
   ]
  },
  {
   "cell_type": "code",
   "execution_count": 20,
   "metadata": {},
   "outputs": [
    {
     "name": "stdout",
     "output_type": "stream",
     "text": [
      "+-----------------+\n",
      "|Accident_Severity|\n",
      "+-----------------+\n",
      "|           Slight|\n",
      "|            Fatal|\n",
      "|          Serious|\n",
      "+-----------------+\n",
      "\n"
     ]
    }
   ],
   "source": [
    "#Show meaningful words for values day of Accident Severity\n",
    "combined_df.select(\"Accident_Severity\").distinct().show()"
   ]
  },
  {
   "cell_type": "markdown",
   "metadata": {},
   "source": [
    "#  Register the DataFrame as a Table"
   ]
  },
  {
   "cell_type": "code",
   "execution_count": 21,
   "metadata": {},
   "outputs": [],
   "source": [
    "#Register dataframe as a table \n",
    "sqlContext.registerDataFrameAsTable(combined_df, \"table_combined\")"
   ]
  },
  {
   "cell_type": "code",
   "execution_count": 22,
   "metadata": {
    "scrolled": false
   },
   "outputs": [
    {
     "name": "stdout",
     "output_type": "stream",
     "text": [
      "+--------------+-------------+------------------+---------------------+----------------------+---------+---------+------------+-----------------+------------------+--------------------+----------+-----------+-----+------------------------+----------------------------+-----------------------+----------------+-----------------+------------------+-----------+---------------+--------------------+-----------------+------------------+---------------------------------+---------------------------------------+--------------------+--------------------+-----------------------+--------------------------+-------------------+-------------------+-------------------------------------------+---------------+-------------------------+--------------+-------------+------------------+-----------------+------------+-----------------------+-----------------+----------------------+--------------------+--------------------------------+-----------------+------------------------+-------------------------+---------------------------+--------------------------+---------------------+-----------------------+-------------------------+-------------+-------------+------------------+------------------+---------------+--------------+------------------+-----------------+---------------------+\n",
      "|accident_index|accident_year|accident_reference|location_easting_osgr|location_northing_osgr|longitude| latitude|police_force|Accident_Severity|number_of_vehicles|number_of_casualties|      date|day_of_week| time|local_authority_district|local_authority_ons_district|local_authority_highway|first_road_class|first_road_number|         road_type|speed_limit|junction_detail|    junction_control|second_road_class|second_road_number|pedestrian_crossing_human_control|pedestrian_crossing_physical_facilities|    light_conditions|  weather_conditions|road_surface_conditions|special_conditions_at_site|carriageway_hazards|urban_or_rural_area|did_police_officer_attend_scene_of_accident|trunk_road_flag|lsoa_of_accident_location|accident_index|accident_year|accident_reference|vehicle_reference|vehicle_type|towing_and_articulation|vehicle_manoeuvre|vehicle_direction_from|vehicle_direction_to|vehicle_location_restricted_lane|junction_location|skidding_and_overturning|hit_object_in_carriageway|vehicle_leaving_carriageway|hit_object_off_carriageway|first_point_of_impact|vehicle_left_hand_drive|journey_purpose_of_driver|sex_of_driver|age_of_driver|age_band_of_driver|engine_capacity_cc|propulsion_code|age_of_vehicle|generic_make_model|driver_imd_decile|driver_home_area_type|\n",
      "+--------------+-------------+------------------+---------------------+----------------------+---------+---------+------------+-----------------+------------------+--------------------+----------+-----------+-----+------------------------+----------------------------+-----------------------+----------------+-----------------+------------------+-----------+---------------+--------------------+-----------------+------------------+---------------------------------+---------------------------------------+--------------------+--------------------+-----------------------+--------------------------+-------------------+-------------------+-------------------------------------------+---------------+-------------------------+--------------+-------------+------------------+-----------------+------------+-----------------------+-----------------+----------------------+--------------------+--------------------------------+-----------------+------------------------+-------------------------+---------------------------+--------------------------+---------------------+-----------------------+-------------------------+-------------+-------------+------------------+------------------+---------------+--------------+------------------+-----------------+---------------------+\n",
      "| 2020010228951|         2020|         010228951|               526921|                175757|-0.174191|51.466559|           1|           Slight|                 2|                   1|07/01/2020|    Tuesday|13:00|                      10|                   E09000032|              E09000032|               6|                0|           Unknown|         20|              0|Data missing or o...|                0|                -1|                                9|                                      0|            Daylight|  Fine no high winds|                    Dry|                      None|                  0|              Urban|                       No - accident was...|              2|                E01004535| 2020010228951|         2020|         010228951|                1|           3|                      0|               99|                     9|                   9|                              99|                0|                       9|                       99|                          9|                        99|                    9|                      1|                        6|         Male|           25|             21-25|               125|              1|             5|    HONDA WW125EX2|                5|                    1|\n",
      "| 2020010228951|         2020|         010228951|               526921|                175757|-0.174191|51.466559|           1|           Slight|                 2|                   1|07/01/2020|    Tuesday|13:00|                      10|                   E09000032|              E09000032|               6|                0|           Unknown|         20|              0|Data missing or o...|                0|                -1|                                9|                                      0|            Daylight|  Fine no high winds|                    Dry|                      None|                  0|              Urban|                       No - accident was...|              2|                E01004535| 2020010228951|         2020|         010228951|                2|           9|                      0|               99|                     9|                   9|                              99|                0|                       9|                       99|                          9|                        99|                    9|                      9|                        6|       Unknow|           -1|              Null|              1797|              8|             5|      TOYOTA PRIUS|                6|                    1|\n",
      "| 2020010230360|         2020|         010230360|               531948|                182416|-0.099374|51.525253|           1|          Serious|                 2|                   1|08/01/2020|  Wednesday|10:30|                       3|                   E09000019|              E09000019|               3|                1|Single carriageway|         20|              0|Data missing or o...|                0|                -1|                                9|                                      1|            Daylight|  Fine no high winds|                    Dry|                      None|                  0|              Urban|                       No - accident was...|              2|                E01033489| 2020010230360|         2020|         010230360|                1|           1|                      9|               99|                     9|                   9|                              99|                0|                       9|                       99|                          9|                        99|                    1|                      1|                        6|         Male|           38|             36-45|                -1|             -1|            -1|                -1|                4|                    1|\n",
      "| 2020010230360|         2020|         010230360|               531948|                182416|-0.099374|51.525253|           1|          Serious|                 2|                   1|08/01/2020|  Wednesday|10:30|                       3|                   E09000019|              E09000019|               3|                1|Single carriageway|         20|              0|Data missing or o...|                0|                -1|                                9|                                      1|            Daylight|  Fine no high winds|                    Dry|                      None|                  0|              Urban|                       No - accident was...|              2|                E01033489| 2020010230360|         2020|         010230360|                2|           9|                      0|               99|                     9|                   9|                              99|                0|                       9|                       99|                          9|                        99|                    9|                      9|                        6|       Unknow|           -1|              Null|              1798|              8|             2|      TOYOTA PRIUS|                1|                    1|\n",
      "| 2020010230651|         2020|         010230651|               523699|                183033|-0.218002|51.532663|           1|           Slight|                 2|                   1|15/01/2020|  Wednesday|19:56|                      28|                   E09000005|              E09000005|               5|                0|Single carriageway|         30|              3| Entering roundabout|                6|                 0|                                0|                                      0|Darkness - lights...|  Fine no high winds|                    Dry|                      None|                  0|              Urban|                                        Yes|              2|                E01000586| 2020010230651|         2020|         010230651|                1|           9|                      0|                9|                     1|                   6|                               0|                7|                       0|                        0|                          1|                         0|                    1|                      1|                        2|       Female|           46|             46-55|               998|              1|             3|       FORD FIESTA|                6|                    1|\n",
      "| 2020010230651|         2020|         010230651|               523699|                183033|-0.218002|51.532663|           1|           Slight|                 2|                   1|15/01/2020|  Wednesday|19:56|                      28|                   E09000005|              E09000005|               5|                0|Single carriageway|         30|              3| Entering roundabout|                6|                 0|                                0|                                      0|Darkness - lights...|  Fine no high winds|                    Dry|                      None|                  0|              Urban|                                        Yes|              2|                E01000586| 2020010230651|         2020|         010230651|                2|           3|                      0|               18|                     1|                   5|                               0|                8|                       0|                        0|                          7|                         0|                    4|                      1|                        4|         Male|           32|             26-35|               125|              1|             2|    YAMAHA GPD 125|                1|                    1|\n",
      "| 2020010230824|         2020|         010230824|               516933|                179553|-0.316657|51.502826|           1|           Slight|                 2|                   1|07/01/2020|    Tuesday|08:20|                      27|                   E09000009|              E09000009|               6|                0|Single carriageway|         20|              0|Data missing or o...|                0|                -1|                                9|                                      1|            Daylight|             Unknown|   unknown (self rep...|      unknown (self rep...|                  0|              Urban|                       No - accident was...|              2|                E01001385| 2020010230824|         2020|         010230824|                1|           9|                      0|               99|                     9|                   9|                              99|                0|                       9|                       99|                          9|                        99|                    9|                      9|                        2|       Female|           49|             46-55|              1199|              1|            20|    VAUXHALL AGILA|                9|                    1|\n",
      "| 2020010230824|         2020|         010230824|               516933|                179553|-0.316657|51.502826|           1|           Slight|                 2|                   1|07/01/2020|    Tuesday|08:20|                      27|                   E09000009|              E09000009|               6|                0|Single carriageway|         20|              0|Data missing or o...|                0|                -1|                                9|                                      1|            Daylight|             Unknown|   unknown (self rep...|      unknown (self rep...|                  0|              Urban|                       No - accident was...|              2|                E01001385| 2020010230824|         2020|         010230824|                2|           9|                      0|               99|                     9|                   9|                              99|                9|                       9|                       99|                          9|                        99|                    9|                      9|                        6|       Unknow|           -1|              Null|                -1|             -1|            -1|                -1|               -1|                   -1|\n",
      "| 2020010231463|         2020|         010231463|               535498|                176492|-0.050507|51.471177|           1|            Fatal|                 3|                   2|19/01/2020|     Sunday|15:31|                       7|                   E09000023|              E09000023|               6|                0|Single carriageway|         30|              3| Entering roundabout|                6|                 0|                                0|                                      0|            Daylight|  Fine no high winds|                    Dry|                      None|                  0|              Urban|                                        Yes|              2|                E01003339| 2020010231463|         2020|         010231463|                1|           3|                      0|                7|                     8|                   2|                               0|                2|                       0|                        0|                          7|                        11|                    1|                      1|                        6|         Male|           50|             46-55|               124|              1|             4|                -1|                3|                    1|\n",
      "| 2020010231463|         2020|         010231463|               535498|                176492|-0.050507|51.471177|           1|            Fatal|                 3|                   2|19/01/2020|     Sunday|15:31|                       7|                   E09000023|              E09000023|               6|                0|Single carriageway|         30|              3| Entering roundabout|                6|                 0|                                0|                                      0|            Daylight|  Fine no high winds|                    Dry|                      None|                  0|              Urban|                                        Yes|              2|                E01003339| 2020010231463|         2020|         010231463|                2|           9|                      0|               18|                     1|                   5|                               0|                1|                       1|                        4|                          0|                         0|                    1|                      1|                        6|         Male|           23|             21-25|              1995|              2|             9|      BMW 5 SERIES|                3|                    1|\n",
      "| 2020010231463|         2020|         010231463|               535498|                176492|-0.050507|51.471177|           1|            Fatal|                 3|                   2|19/01/2020|     Sunday|15:31|                       7|                   E09000023|              E09000023|               6|                0|Single carriageway|         30|              3| Entering roundabout|                6|                 0|                                0|                                      0|            Daylight|  Fine no high winds|                    Dry|                      None|                  0|              Urban|                                        Yes|              2|                E01003339| 2020010231463|         2020|         010231463|                3|           9|                      0|                4|                     5|                   1|                               0|                2|                       0|                        0|                          1|                        11|                    1|                      1|                        6|         Male|           57|             56-65|              2143|              2|             5|MERCEDES CLS CLASS|                5|                    1|\n",
      "| 2020010232086|         2020|         010232086|               545235|                178624| 0.090464|51.487921|           1|           Slight|                 2|                   1|22/01/2020|  Wednesday|17:15|                       6|                   E09000011|              E09000011|               3|              206|Single carriageway|         30|              9| Entering roundabout|                6|                 0|                                0|                                      0|Darkness - lights...|Raining no high w...|            Wet or damp|                      None|                  6|              Urban|                                        Yes|              2|                E01001673| 2020010232086|         2020|         010232086|                1|           9|                      0|               18|                     7|                   3|                               9|                6|                       0|                        0|                          7|                        11|                    3|                      1|                        6|         Male|           68|                10|              2143|              2|             3|  MERCEDES B CLASS|                6|                    1|\n",
      "| 2020010232086|         2020|         010232086|               545235|                178624| 0.090464|51.487921|           1|           Slight|                 2|                   1|22/01/2020|  Wednesday|17:15|                       6|                   E09000011|              E09000011|               3|              206|Single carriageway|         30|              9| Entering roundabout|                6|                 0|                                0|                                      0|Darkness - lights...|Raining no high w...|            Wet or damp|                      None|                  6|              Urban|                                        Yes|              2|                E01001673| 2020010232086|         2020|         010232086|                2|           9|                      0|                3|                     7|                   3|                               0|                1|                       0|                        0|                          0|                         0|                    0|                      1|                        2|         Male|           33|             26-35|              1395|              1|             2|           AUDI A4|                9|                    1|\n",
      "| 2020010232164|         2020|         010232164|               528423|                168542|-0.155193|51.401379|           1|           Slight|                 1|                   1|23/01/2020|   Thursday|08:16|                      22|                   E09000024|              E09000024|               5|                0|Single carriageway|         20|              0|Data missing or o...|                0|                -1|                                0|                                      0|            Daylight|  Fine no high winds|                    Dry|                      None|                  0|              Urban|                                        Yes|              2|                E01003435| 2020010232164|         2020|         010232164|                1|           9|                      0|               18|                     7|                   3|                               0|                0|                       0|                        0|                          0|                         0|                    1|                      1|                        6|       Female|           39|             36-45|              1461|              2|             2|  MERCEDES A CLASS|                7|                    1|\n",
      "| 2020010232242|         2020|         010232242|               538358|                183601|-0.006568|51.534369|           1|           Slight|                 2|                   1|22/01/2020|  Wednesday|19:00|                      17|                   E09000025|              E09000025|               3|               11|Single carriageway|         30|              0|Data missing or o...|                0|                -1|                                9|                                      9|Darkness - lighti...|  Fine no high winds|                    Dry|                      None|                  0|              Urban|                       No - accident was...|              2|                E01033578| 2020010232242|         2020|         010232242|                1|           9|                      0|               99|                     9|                   9|                              99|                0|                       9|                       99|                          9|                        99|                    1|                      9|                        6|         Male|           33|             26-35|              1968|              2|             9|   VOLKSWAGEN GOLF|                2|                    1|\n",
      "| 2020010232242|         2020|         010232242|               538358|                183601|-0.006568|51.534369|           1|           Slight|                 2|                   1|22/01/2020|  Wednesday|19:00|                      17|                   E09000025|              E09000025|               3|               11|Single carriageway|         30|              0|Data missing or o...|                0|                -1|                                9|                                      9|Darkness - lighti...|  Fine no high winds|                    Dry|                      None|                  0|              Urban|                       No - accident was...|              2|                E01033578| 2020010232242|         2020|         010232242|                2|          19|                      0|               99|                     9|                   9|                              99|                0|                       9|                       99|                          9|                        99|                    2|                      9|                        6|       Unknow|           -1|              Null|              1598|              2|             2|   VAUXHALL VIVARO|               -1|                   -1|\n",
      "| 2020010233581|         2020|         010233581|               531728|                165054|-0.109001|51.369276|           1|           Slight|                 1|                   1|30/01/2020|   Thursday|15:30|                      20|                   E09000008|              E09000008|               6|                0|Single carriageway|         20|              3| Entering roundabout|                6|                 0|                                0|                                      0|            Daylight|  Fine no high winds|                    Dry|                      None|                  0|              Urban|                                        Yes|              2|                E01001168| 2020010233581|         2020|         010233581|                1|           9|                      0|               18|                     1|                   5|                               0|                1|                       0|                        0|                          0|                         0|                    1|                      1|                        3|       Female|           48|             46-55|              1364|              1|             2|    VAUXHALL MOKKA|                2|                    1|\n",
      "| 2020010234199|         2020|         010234199|               522615|                168745|-0.238575|51.404487|           1|           Slight|                 2|                   1|02/02/2020|     Sunday|13:10|                      22|                   E09000024|              E09000024|               3|              298|  Dual carriageway|         40|              0|Data missing or o...|                0|                -1|                                0|                                      9|            Daylight|  Fine no high winds|                    Dry|      unknown (self rep...|                  9|              Urban|                       No - accident was...|              2|                E01003447| 2020010234199|         2020|         010234199|                1|           9|                      0|               99|                     9|                   9|                              99|                0|                       9|                       99|                          9|                        99|                    2|                      9|                        6|       Female|           27|             26-35|              1197|              1|             5|        SEAT IBIZA|                7|                    1|\n",
      "| 2020010234199|         2020|         010234199|               522615|                168745|-0.238575|51.404487|           1|           Slight|                 2|                   1|02/02/2020|     Sunday|13:10|                      22|                   E09000024|              E09000024|               3|              298|  Dual carriageway|         40|              0|Data missing or o...|                0|                -1|                                0|                                      9|            Daylight|  Fine no high winds|                    Dry|      unknown (self rep...|                  9|              Urban|                       No - accident was...|              2|                E01003447| 2020010234199|         2020|         010234199|                2|           9|                      0|               99|                     9|                   9|                              99|                0|                       9|                       99|                          9|                        99|                    1|                      9|                        6|       Unknow|           -1|              Null|              1783|              1|            17|         VOLVO V40|                6|                    1|\n",
      "| 2020010235727|         2020|         010235727|               536837|                169687|-0.033868|51.409703|           1|           Slight|                 2|                   1|10/02/2020|     Monday|14:04|                      19|                   E09000006|              E09000006|               6|                0|Single carriageway|         30|              8| Entering roundabout|                6|                 0|                                0|                                      0|            Daylight|   Fine + high winds|                    Dry|                      None|                  0|              Urban|                                        Yes|              2|                E01000709| 2020010235727|         2020|         010235727|                1|           9|                      0|               18|                     5|                   1|                               0|                6|                       0|                        0|                          0|                         0|                    1|                      1|                        6|         Male|           49|             46-55|              1598|              1|            13|       NISSAN NOTE|                6|                    1|\n",
      "+--------------+-------------+------------------+---------------------+----------------------+---------+---------+------------+-----------------+------------------+--------------------+----------+-----------+-----+------------------------+----------------------------+-----------------------+----------------+-----------------+------------------+-----------+---------------+--------------------+-----------------+------------------+---------------------------------+---------------------------------------+--------------------+--------------------+-----------------------+--------------------------+-------------------+-------------------+-------------------------------------------+---------------+-------------------------+--------------+-------------+------------------+-----------------+------------+-----------------------+-----------------+----------------------+--------------------+--------------------------------+-----------------+------------------------+-------------------------+---------------------------+--------------------------+---------------------+-----------------------+-------------------------+-------------+-------------+------------------+------------------+---------------+--------------+------------------+-----------------+---------------------+\n",
      "only showing top 20 rows\n",
      "\n"
     ]
    }
   ],
   "source": [
    "#call action\n",
    "sqlContext.sql(\"select * from table_combined\").show()"
   ]
  },
  {
   "cell_type": "markdown",
   "metadata": {},
   "source": [
    "# Data Exploration"
   ]
  },
  {
   "cell_type": "code",
   "execution_count": 23,
   "metadata": {},
   "outputs": [
    {
     "name": "stdout",
     "output_type": "stream",
     "text": [
      "+-----+-----+\n",
      "|Month|Count|\n",
      "+-----+-----+\n",
      "|   04| 6647|\n",
      "|   05|11401|\n",
      "|   03|13176|\n",
      "|   06|13745|\n",
      "|   11|15420|\n",
      "|   12|16172|\n",
      "|   07|16807|\n",
      "|   02|17060|\n",
      "|   10|17848|\n",
      "|   08|18113|\n",
      "|   09|18855|\n",
      "|   01|19120|\n",
      "+-----+-----+\n",
      "\n"
     ]
    }
   ],
   "source": [
    "#Accident count across months\n",
    "sqlContext.sql(\"SELECT substring(Date, 4, 2) \\\n",
    "as Month, count(*) as Count FROM table_combined GROUP BY substring (Date, 4, 2)\").orderBy (asc('Count')).show()"
   ]
  },
  {
   "cell_type": "code",
   "execution_count": 24,
   "metadata": {},
   "outputs": [
    {
     "data": {
      "text/plain": [
       "70"
      ]
     },
     "execution_count": 24,
     "metadata": {},
     "output_type": "execute_result"
    }
   ],
   "source": [
    "# Total count returned for Casualties per day of week\n",
    "sqlContext.sql(\"select Day_of_Week, Number_of_Casualties, count(*) as Count from table_combined group \\\n",
    "by Day_of_Week, Number_of_Casualties\").count()"
   ]
  },
  {
   "cell_type": "code",
   "execution_count": 25,
   "metadata": {},
   "outputs": [],
   "source": [
    "# Casualties per day of week\n",
    "day_of_week = sqlContext.sql(\"select Day_of_Week, Number_of_Casualties, count(*) as Count from table_combined group \\\n",
    "by Day_of_Week, Number_of_Casualties\")"
   ]
  },
  {
   "cell_type": "code",
   "execution_count": 26,
   "metadata": {
    "pixiedust": {
     "displayParams": {
      "handlerId": "lineChart",
      "keyFields": "Day_of_Week",
      "orientation": "horizontal",
      "timeseries": "false",
      "valueFields": "Number_of_Casualties"
     }
    },
    "scrolled": false
   },
   "outputs": [
    {
     "data": {
      "text/plain": [
       "DataFrame[Day_of_Week: string, Number_of_Casualties: int, Count: bigint]"
      ]
     },
     "metadata": {},
     "output_type": "display_data"
    }
   ],
   "source": [
    "#Visual display day of week vs number of casualties\n",
    "display(day_of_week)"
   ]
  },
  {
   "cell_type": "code",
   "execution_count": 27,
   "metadata": {},
   "outputs": [],
   "source": [
    "# Accident count per day of week\n",
    "dow = sqlContext.sql(\"select Day_of_Week,count(*)as Count from table_combined group by Day_of_Week\")"
   ]
  },
  {
   "cell_type": "code",
   "execution_count": 28,
   "metadata": {},
   "outputs": [
    {
     "name": "stdout",
     "output_type": "stream",
     "text": [
      "+-----------+-----+\n",
      "|Day_of_Week|Count|\n",
      "+-----------+-----+\n",
      "|  Wednesday|27572|\n",
      "|    Tuesday|26890|\n",
      "|     Friday|30077|\n",
      "|   Thursday|28454|\n",
      "|   Saturday|24845|\n",
      "|     Monday|25864|\n",
      "|     Sunday|20662|\n",
      "+-----------+-----+\n",
      "\n"
     ]
    }
   ],
   "source": [
    "dow.show()"
   ]
  },
  {
   "cell_type": "code",
   "execution_count": 29,
   "metadata": {},
   "outputs": [
    {
     "name": "stdout",
     "output_type": "stream",
     "text": [
      "+-----------+\n",
      "|Speed_Limit|\n",
      "+-----------+\n",
      "|         -1|\n",
      "|         20|\n",
      "|         40|\n",
      "|         50|\n",
      "|         70|\n",
      "|         60|\n",
      "|         30|\n",
      "+-----------+\n",
      "\n"
     ]
    }
   ],
   "source": [
    "# Return distinct list of Speed Limits\n",
    "\n",
    "sqlContext.sql(\"SELECT distinct Speed_Limit FROM table_combined\").show()"
   ]
  },
  {
   "cell_type": "code",
   "execution_count": 30,
   "metadata": {},
   "outputs": [
    {
     "name": "stdout",
     "output_type": "stream",
     "text": [
      "+-----------+--------------------+-----+\n",
      "|Speed_Limit|Number_of_Casualties|Count|\n",
      "+-----------+--------------------+-----+\n",
      "|         40|                   6|   46|\n",
      "|         70|                   2| 2319|\n",
      "|         20|                   2| 1648|\n",
      "|         50|                  10|    2|\n",
      "|         60|                   3| 1534|\n",
      "|         70|                   7|   33|\n",
      "|         40|                   8|    6|\n",
      "|         60|                  12|    2|\n",
      "|         50|                   9|    4|\n",
      "|         50|                   4|  229|\n",
      "|         60|                  10|    5|\n",
      "|         60|                   2| 4928|\n",
      "|         20|                   3|  330|\n",
      "|         40|                   9|    4|\n",
      "|         30|                   9|   15|\n",
      "|         70|                   5|  144|\n",
      "|         40|                   5|  106|\n",
      "|         60|                   5|  169|\n",
      "|         40|                  17|    1|\n",
      "|         60|                   1|14727|\n",
      "+-----------+--------------------+-----+\n",
      "only showing top 20 rows\n",
      "\n"
     ]
    }
   ],
   "source": [
    "# Return speed limit with number of casualties\n",
    "\n",
    "sqlContext.sql(\"select Speed_Limit, Number_of_Casualties, count(*) as Count from table_combined group \\\n",
    "by Speed_Limit, Number_of_Casualties\").show()"
   ]
  },
  {
   "cell_type": "code",
   "execution_count": 31,
   "metadata": {},
   "outputs": [],
   "source": [
    "# Return speed limit cluster casaulties and accident severity\n",
    "\n",
    "SL_CS = sqlContext.sql(\"select Speed_Limit, Number_of_Casualties, Accident_Severity, count(*) as Count from table_combined group \\\n",
    "by Speed_Limit, Number_of_Casualties, Accident_Severity\")"
   ]
  },
  {
   "cell_type": "markdown",
   "metadata": {},
   "source": [
    "# Data Analysis"
   ]
  },
  {
   "cell_type": "code",
   "execution_count": 32,
   "metadata": {
    "pixiedust": {
     "displayParams": {
      "clusterby": "Speed_Limit",
      "handlerId": "barChart",
      "keyFields": "Accident_Severity",
      "title": "Speed Limit vs Accident Severity/Number of casualties",
      "valueFields": "Number_of_Casualties"
     }
    }
   },
   "outputs": [
    {
     "data": {
      "text/plain": [
       "DataFrame[Speed_Limit: int, Number_of_Casualties: int, Accident_Severity: string, Count: bigint]"
      ]
     },
     "metadata": {},
     "output_type": "display_data"
    }
   ],
   "source": [
    "#Visualisation Speed limit vs Accident severity/Number of Casualties\n",
    "display(SL_CS)"
   ]
  },
  {
   "cell_type": "code",
   "execution_count": 33,
   "metadata": {},
   "outputs": [
    {
     "name": "stdout",
     "output_type": "stream",
     "text": [
      "+-----------------+--------+\n",
      "|Accident_Severity|count(1)|\n",
      "+-----------------+--------+\n",
      "|            Fatal|    2768|\n",
      "|          Serious|   34914|\n",
      "|           Slight|  146682|\n",
      "+-----------------+--------+\n",
      "\n"
     ]
    }
   ],
   "source": [
    "#Accident count for Accident severity \n",
    "sqlContext.sql(\"SELECT Accident_Severity,COUNT(*) FROM table_combined GROUP BY Accident_Severity ORDER BY Accident_Severity\").show()"
   ]
  },
  {
   "cell_type": "code",
   "execution_count": 34,
   "metadata": {
    "scrolled": false
   },
   "outputs": [
    {
     "name": "stdout",
     "output_type": "stream",
     "text": [
      "+----------+--------+\n",
      "|      Date|count(1)|\n",
      "+----------+--------+\n",
      "|01/01/2020|     392|\n",
      "|01/02/2020|     568|\n",
      "|01/03/2020|     466|\n",
      "|01/04/2020|     152|\n",
      "|01/05/2020|     292|\n",
      "|01/06/2020|     490|\n",
      "|01/07/2020|     452|\n",
      "|01/08/2020|     591|\n",
      "|01/09/2020|     598|\n",
      "|01/10/2020|     665|\n",
      "|01/11/2020|     431|\n",
      "|01/12/2020|     692|\n",
      "|02/01/2020|     442|\n",
      "|02/02/2020|     448|\n",
      "|02/03/2020|     646|\n",
      "|02/04/2020|     164|\n",
      "|02/05/2020|     293|\n",
      "|02/06/2020|     496|\n",
      "|02/07/2020|     452|\n",
      "|02/08/2020|     521|\n",
      "|02/09/2020|     657|\n",
      "|02/10/2020|     717|\n",
      "|02/11/2020|     604|\n",
      "|02/12/2020|     673|\n",
      "|03/01/2020|     484|\n",
      "|03/02/2020|     543|\n",
      "|03/03/2020|     649|\n",
      "|03/04/2020|     158|\n",
      "|03/05/2020|     164|\n",
      "|03/06/2020|     356|\n",
      "+----------+--------+\n",
      "only showing top 30 rows\n",
      "\n"
     ]
    }
   ],
   "source": [
    "#Accident per date \n",
    "sqlContext.sql(\"SELECT Date, \\\n",
    "                        COUNT(*) \\\n",
    "                        FROM table_combined \\\n",
    "                        GROUP BY Date \\\n",
    "                        ORDER BY Date\").show(30)"
   ]
  },
  {
   "cell_type": "code",
   "execution_count": 35,
   "metadata": {
    "scrolled": true
   },
   "outputs": [
    {
     "name": "stdout",
     "output_type": "stream",
     "text": [
      "+-----+--------------------+-----+\n",
      "|Month|number_of_casualties|Count|\n",
      "+-----+--------------------+-----+\n",
      "|   01|                  17|    1|\n",
      "|   09|                  41|    1|\n",
      "|   10|                   7|    2|\n",
      "|   01|                   9|    2|\n",
      "|   10|                   8|    2|\n",
      "|   09|                  10|    2|\n",
      "|   04|                   9|    2|\n",
      "|   07|                  10|    2|\n",
      "|   03|                  19|    2|\n",
      "|   01|                  12|    2|\n",
      "|   08|                  13|    2|\n",
      "|   09|                  11|    3|\n",
      "|   04|                   6|    3|\n",
      "|   03|                  11|    4|\n",
      "|   04|                   7|    4|\n",
      "|   12|                   9|    4|\n",
      "|   06|                  10|    5|\n",
      "|   04|                   5|    5|\n",
      "|   09|                   9|    5|\n",
      "|   05|                   7|    6|\n",
      "+-----+--------------------+-----+\n",
      "only showing top 20 rows\n",
      "\n"
     ]
    }
   ],
   "source": [
    "#Accident count across months cluster with number of casualties\n",
    "month = sqlContext.sql(\"SELECT substring(Date, 4, 2) \\\n",
    "as Month, number_of_casualties, count(*) as Count FROM table_combined GROUP BY substring (Date, 4, 2), number_of_casualties\").orderBy (asc('Count')).show()"
   ]
  },
  {
   "cell_type": "markdown",
   "metadata": {},
   "source": [
    "# More data exploration"
   ]
  },
  {
   "cell_type": "code",
   "execution_count": 36,
   "metadata": {
    "scrolled": true
   },
   "outputs": [
    {
     "name": "stdout",
     "output_type": "stream",
     "text": [
      "+--------------------+------+\n",
      "|  weather_conditions| Count|\n",
      "+--------------------+------+\n",
      "|  Fine no high winds|144663|\n",
      "|Raining no high w...| 22765|\n",
      "|               Other|  5162|\n",
      "|             Unknown|  4455|\n",
      "|Raining + high winds|  3098|\n",
      "|   Fine + high winds|  2737|\n",
      "|         Fog or mist|   977|\n",
      "|Snowing no high w...|   366|\n",
      "|Snowing + high winds|   140|\n",
      "|Data missing or o...|     1|\n",
      "+--------------------+------+\n",
      "\n"
     ]
    }
   ],
   "source": [
    "#Accident per weather conditions\n",
    "sqlContext.sql(\"SELECT weather_conditions, count(*) as Count FROM table_combined GROUP BY weather_conditions\").orderBy (desc('Count')).show()"
   ]
  },
  {
   "cell_type": "code",
   "execution_count": 37,
   "metadata": {},
   "outputs": [
    {
     "name": "stdout",
     "output_type": "stream",
     "text": [
      "+--------------------+-----------------+------+\n",
      "|  weather_conditions|Accident_Severity| Count|\n",
      "+--------------------+-----------------+------+\n",
      "|  Fine no high winds|           Slight|114281|\n",
      "|  Fine no high winds|          Serious| 28115|\n",
      "|Raining no high w...|           Slight| 18515|\n",
      "|               Other|           Slight|  4358|\n",
      "|Raining no high w...|          Serious|  3991|\n",
      "|             Unknown|           Slight|  3932|\n",
      "|Raining + high winds|           Slight|  2441|\n",
      "|  Fine no high winds|            Fatal|  2267|\n",
      "|   Fine + high winds|           Slight|  2037|\n",
      "|               Other|          Serious|   756|\n",
      "|         Fog or mist|           Slight|   729|\n",
      "|   Fine + high winds|          Serious|   631|\n",
      "|Raining + high winds|          Serious|   599|\n",
      "|             Unknown|          Serious|   503|\n",
      "|Snowing no high w...|           Slight|   284|\n",
      "|Raining no high w...|            Fatal|   259|\n",
      "|         Fog or mist|          Serious|   206|\n",
      "|Snowing + high winds|           Slight|   105|\n",
      "|Snowing no high w...|          Serious|    79|\n",
      "|   Fine + high winds|            Fatal|    69|\n",
      "+--------------------+-----------------+------+\n",
      "only showing top 20 rows\n",
      "\n"
     ]
    }
   ],
   "source": [
    "#Accident per weather conditions vs severity \n",
    "sqlContext.sql(\"SELECT weather_conditions, Accident_Severity, count(*) as Count FROM table_combined GROUP BY weather_conditions, Accident_Severity\").orderBy (desc('Count')).show()\n"
   ]
  },
  {
   "cell_type": "code",
   "execution_count": 38,
   "metadata": {
    "code_folding": []
   },
   "outputs": [
    {
     "name": "stdout",
     "output_type": "stream",
     "text": [
      "+------------------+------+\n",
      "|         road_type| Count|\n",
      "+------------------+------+\n",
      "|Single carriageway|134378|\n",
      "|  Dual carriageway| 28061|\n",
      "|        Roundabout| 11729|\n",
      "|    One way street|  3641|\n",
      "|           Unknown|  3595|\n",
      "|         Slip road|  2960|\n",
      "+------------------+------+\n",
      "\n"
     ]
    }
   ],
   "source": [
    "#Accident per road type\n",
    "sqlContext.sql(\"SELECT road_type, count(*) as Count FROM table_combined GROUP BY road_type\").orderBy (desc('Count')).show()"
   ]
  },
  {
   "cell_type": "code",
   "execution_count": 39,
   "metadata": {},
   "outputs": [
    {
     "name": "stdout",
     "output_type": "stream",
     "text": [
      "+------------------+--------------------+------+\n",
      "|         road_type|Number_of_Casualties| Count|\n",
      "+------------------+--------------------+------+\n",
      "|Single carriageway|                   1|105606|\n",
      "|Single carriageway|                   2| 20170|\n",
      "|  Dual carriageway|                   1| 19967|\n",
      "|        Roundabout|                   1| 10149|\n",
      "|Single carriageway|                   3|  5664|\n",
      "|  Dual carriageway|                   2|  5195|\n",
      "|           Unknown|                   1|  3272|\n",
      "|    One way street|                   1|  3240|\n",
      "|         Slip road|                   1|  2247|\n",
      "|Single carriageway|                   4|  1907|\n",
      "|  Dual carriageway|                   3|  1776|\n",
      "|        Roundabout|                   2|  1238|\n",
      "|  Dual carriageway|                   4|   650|\n",
      "|Single carriageway|                   5|   640|\n",
      "|         Slip road|                   2|   480|\n",
      "|    One way street|                   2|   300|\n",
      "|  Dual carriageway|                   5|   265|\n",
      "|           Unknown|                   2|   252|\n",
      "|        Roundabout|                   3|   231|\n",
      "|Single carriageway|                   6|   227|\n",
      "+------------------+--------------------+------+\n",
      "only showing top 20 rows\n",
      "\n"
     ]
    }
   ],
   "source": [
    "#Accident per road type\n",
    "road_type = sqlContext.sql(\"SELECT road_type, Number_of_Casualties, count(*) as Count FROM table_combined GROUP BY road_type, Number_of_Casualties\").orderBy (desc('Count')).show()"
   ]
  },
  {
   "cell_type": "code",
   "execution_count": 40,
   "metadata": {
    "scrolled": true
   },
   "outputs": [
    {
     "name": "stdout",
     "output_type": "stream",
     "text": [
      "+-----------------------+-----------------+------+\n",
      "|road_surface_conditions|Accident_Severity| Count|\n",
      "+-----------------------+-----------------+------+\n",
      "|                    Dry|           Slight|101718|\n",
      "|            Wet or damp|           Slight| 41469|\n",
      "|                    Dry|          Serious| 24500|\n",
      "|            Wet or damp|          Serious|  9852|\n",
      "|                    Dry|            Fatal|  1851|\n",
      "|   unknown (self rep...|           Slight|  1368|\n",
      "|           Frost or ice|           Slight|  1003|\n",
      "|            Wet or damp|            Fatal|   885|\n",
      "|   Data missing or o...|           Slight|   634|\n",
      "|           Frost or ice|          Serious|   279|\n",
      "|                   Snow|           Slight|   259|\n",
      "|   Flood over 3cm. deep|           Slight|   231|\n",
      "|   unknown (self rep...|          Serious|   109|\n",
      "|   Data missing or o...|          Serious|    79|\n",
      "|   Flood over 3cm. deep|          Serious|    54|\n",
      "|                   Snow|          Serious|    41|\n",
      "|           Frost or ice|            Fatal|    21|\n",
      "|   Flood over 3cm. deep|            Fatal|     5|\n",
      "|   Data missing or o...|            Fatal|     5|\n",
      "|                   Snow|            Fatal|     1|\n",
      "+-----------------------+-----------------+------+\n",
      "\n"
     ]
    }
   ],
   "source": [
    "#Accident per road surface condition vs accident severity\n",
    "sqlContext.sql(\"SELECT road_surface_conditions, Accident_Severity, count(*) as Count FROM table_combined GROUP BY road_surface_conditions,Accident_Severity\").orderBy (desc('Count')).show()"
   ]
  },
  {
   "cell_type": "code",
   "execution_count": 41,
   "metadata": {},
   "outputs": [
    {
     "name": "stdout",
     "output_type": "stream",
     "text": [
      "+-----------------------+------+\n",
      "|road_surface_conditions| Count|\n",
      "+-----------------------+------+\n",
      "|                    Dry|128069|\n",
      "|            Wet or damp| 52206|\n",
      "|   unknown (self rep...|  1477|\n",
      "|           Frost or ice|  1303|\n",
      "|   Data missing or o...|   718|\n",
      "|                   Snow|   301|\n",
      "|   Flood over 3cm. deep|   290|\n",
      "+-----------------------+------+\n",
      "\n"
     ]
    }
   ],
   "source": [
    "#Accident per road surface condition\n",
    "sqlContext.sql(\"SELECT road_surface_conditions, count(*) as Count FROM table_combined GROUP BY road_surface_conditions\").orderBy (desc('Count')).show()"
   ]
  },
  {
   "cell_type": "code",
   "execution_count": 42,
   "metadata": {},
   "outputs": [
    {
     "name": "stdout",
     "output_type": "stream",
     "text": [
      "+------------------+------+\n",
      "|number_of_vehicles| Count|\n",
      "+------------------+------+\n",
      "|                 2|126150|\n",
      "|                 1| 28499|\n",
      "|                 3| 20760|\n",
      "|                 4|  5888|\n",
      "|                 5|  1810|\n",
      "|                 6|   648|\n",
      "|                 7|   350|\n",
      "|                 8|   144|\n",
      "|                11|    33|\n",
      "|                10|    30|\n",
      "|                 9|    27|\n",
      "|                13|    13|\n",
      "|                12|    12|\n",
      "+------------------+------+\n",
      "\n"
     ]
    }
   ],
   "source": [
    "#Accident and number of vehicles involve \n",
    "sqlContext.sql(\"SELECT number_of_vehicles, count(*) as Count FROM table_combined GROUP BY number_of_vehicles\").orderBy (desc('Count')).show()"
   ]
  },
  {
   "cell_type": "code",
   "execution_count": 43,
   "metadata": {
    "scrolled": true
   },
   "outputs": [
    {
     "name": "stdout",
     "output_type": "stream",
     "text": [
      "+------------------+-----+\n",
      "|age_band_of_driver|Count|\n",
      "+------------------+-----+\n",
      "|             26-35|40525|\n",
      "|             36-45|29778|\n",
      "|             46-55|26391|\n",
      "|              Null|25450|\n",
      "|             21-25|18394|\n",
      "|             56-65|17093|\n",
      "|             16-20|12201|\n",
      "|                10| 7693|\n",
      "|                11| 4761|\n",
      "|             11-15| 1701|\n",
      "|              6-10|  340|\n",
      "|               0-5|   37|\n",
      "+------------------+-----+\n",
      "\n"
     ]
    }
   ],
   "source": [
    "#Accident and number of vehicles involve \n",
    "sqlContext.sql(\"SELECT age_band_of_driver, count(*) as Count FROM table_combined GROUP BY age_band_of_driver\").orderBy (desc('Count')).show()"
   ]
  },
  {
   "cell_type": "markdown",
   "metadata": {},
   "source": [
    "# Some Visualisations"
   ]
  },
  {
   "cell_type": "code",
   "execution_count": 44,
   "metadata": {},
   "outputs": [],
   "source": [
    "Accident_type = combined_df.groupby(\"Accident_Severity\",\"Speed_limit\").count().sort(\"count\")\n"
   ]
  },
  {
   "cell_type": "code",
   "execution_count": 45,
   "metadata": {},
   "outputs": [
    {
     "data": {
      "image/png": "[encoded data removed]",
      "text/plain": [
       "<Figure size 720x360 with 1 Axes>"
      ]
     },
     "metadata": {
      "needs_background": "light"
     },
     "output_type": "display_data"
    }
   ],
   "source": [
    "import matplotlib.pyplot as plt\n",
    "import pandas as pd\n",
    "\n",
    "Panda_Accident_Type = Accident_type.toPandas()\n",
    "\n",
    "%matplotlib inline\n",
    "\n",
    "plot_Outcome=Panda_Accident_Type.pivot(index='Speed_limit', columns='Accident_Severity', values='count') \\\n",
    "                         .plot(kind='bar', figsize=(10,5))\n",
    "plot_Outcome.set_title(\"Speed Limit vs Accident Severity\",color=\"b\")\n",
    "plot_Outcome.set_ylim(0,58000)\n",
    "plot_Outcome.set_xlabel(\"Speed Limit\",color=\"b\")\n",
    "plt.legend(loc='center left', bbox_to_anchor=(1, 0.5));"
   ]
  },
  {
   "cell_type": "code",
   "execution_count": 46,
   "metadata": {},
   "outputs": [
    {
     "name": "stdout",
     "output_type": "stream",
     "text": [
      "Pixiedust database opened successfully\n"
     ]
    },
    {
     "data": {
      "text/html": [
       "\n",
       "        <div style=\"margin:10px\">\n",
       "            <a href=\"https://github.com/ibm-watson-data-lab/pixiedust\" target=\"_new\">\n",
       "                <img src=\"https://github.com/ibm-watson-data-lab/pixiedust/raw/master/docs/_static/pd_icon32.png\" style=\"float:left;margin-right:10px\"/>\n",
       "            </a>\n",
       "            <span>Pixiedust version 1.1.15</span>\n",
       "        </div>\n",
       "        "
      ],
      "text/plain": [
       "<IPython.core.display.HTML object>"
      ]
     },
     "metadata": {},
     "output_type": "display_data"
    },
    {
     "data": {
      "text/html": [
       "<div>Warning: You are not running the latest version of PixieDust. Current is 1.1.15, Latest is 1.1.19</div>"
      ],
      "text/plain": [
       "<IPython.core.display.HTML object>"
      ]
     },
     "metadata": {},
     "output_type": "display_data"
    },
    {
     "data": {
      "text/html": [
       "\n",
       "                <div>Please copy and run the following command in a new cell to upgrade: <span style=\"background-color:#ececec;font-family:monospace;padding:0 5px\">!pip install --user --upgrade pixiedust</span></div>\n",
       "            "
      ],
      "text/plain": [
       "<IPython.core.display.HTML object>"
      ]
     },
     "metadata": {},
     "output_type": "display_data"
    },
    {
     "data": {
      "text/html": [
       "<div>Please restart kernel after upgrading.</div>"
      ],
      "text/plain": [
       "<IPython.core.display.HTML object>"
      ]
     },
     "metadata": {},
     "output_type": "display_data"
    }
   ],
   "source": [
    "# https://pixiedust.github.io/pixiedust/use.html\n",
    "\n",
    "import pixiedust"
   ]
  },
  {
   "cell_type": "code",
   "execution_count": 47,
   "metadata": {
    "pixiedust": {
     "displayParams": {
      "charttype": "grouped",
      "clusterby": "Accident_Severity",
      "handlerId": "barChart",
      "keyFields": "day_of_week",
      "rendererId": "matplotlib",
      "title": "Day of week vs number of causalities/number of severity ",
      "valueFields": "number_of_casualties"
     }
    },
    "scrolled": false
   },
   "outputs": [
    {
     "data": {
      "text/html": [
       "<style type=\"text/css\">.pd_warning{display:none;}</style><div class=\"pd_warning\"><em>Hey, there's something awesome here! To see it, open this notebook outside GitHub, in a viewer like Jupyter</em></div>\n",
       "        <div class=\"pd_save is-viewer-good\" style=\"padding-right:10px;text-align: center;line-height:initial !important;font-size: xx-large;font-weight: 500;color: coral;\">\n",
       "            Day of week vs number of causalities/number of severity \n",
       "        </div>\n",
       "    <div id=\"chartFigurec6402c44\" class=\"pd_save is-viewer-good\" style=\"overflow-x:auto\">\n",
       "            \n",
       "                    \n",
       "                            <center><img style=\"max-width:initial !important\" src=\"data:image/png;base64,iVBORw0KGgoAAAANSUhEUgAAAtoAAAHOCAYAAACmQa4jAAAABHNCSVQICAgIfAhkiAAAAAlwSFlzAAAOwwAADsMBx2+oZAAAADh0RVh0U29mdHdhcmUAbWF0cGxvdGxpYiB2ZXJzaW9uMy4xLjAsIGh0dHA6Ly9tYXRwbG90bGliLm9yZy+17YcXAAAgAElEQVR4nOzdeXxOd/7//+eVhayCbNaKSAnV0iYSrRLEdFpak1pGG2qbqlJjazGf0Saxpp1PFaPSamuroaOtTinybS3BqEqEsZSJpaLCWCKhJnKVRM7vDz/n4yoRxXFFPO6327ndXOf1Pud6n/eJK8/r5H2dy2YYhiEAAAAAt5WLszsAAAAAVEQEbQAAAMACbs7uAIDbxzAMnT9/XswIA1Ae2Gw2Va5cWTabzdldAZyCoA1UEBcuXNCePXt08eJFZ3cFAEyurq5q0qSJKlWq5OyuAHecjQ9DAnc/wzB04MABnT9/XvXr15eLC7PCADhfSUmJsrOzVblyZYWFhXFlG/ccgjZQARQXF2vHjh0KDQ1VtWrVnN0dADCdPn1aBw8elM1mU9OmTbmyjXsKl72ACqCoqEiSVLlyZSf3BAAcXX5d+vbbb7Vq1SpduHDByT0C7hyCNlCB8GdZAOXN5dclf39/7dq1S3v27HFyj4A7h6ANAAAsV6lSJdlsNp09e9bZXQHuGII2gHvC448/rqSkJGd3o8KbN2+e6tSp4+xu4P+3bt062Ww2FRcXS5KSkpL0+OOP3/T2t0NJSclt2xdQ3nF7P6ACs9nG3bHnMozEX9W+bdu2Wr9+vcO66Ohobd68+brbZWVlqXHjxsrJybkrAl2Cxt6R5xmvSb96m2PHjunPf/6zvvnmG+Xl5SkoKEjR0dGaOXOmgoKCbqofPXr0UKdOnW5q2/Jq3B2ckpV4E/cnuN55/KXXXntNQ4cOvR1dNT3++OPq0KEDb2SBayBoA3Ca4cOHa8yYMeZj7kZwZ3Xt2lWVK1fWZ599plq1aunHH3/UsmXLdO7cuV+9L8MwVFxcLE9PT3l6elrQW5Tm15xHHx8fJ/QQuHcxdQSA03h7e6tGjRrmUr16dR07dkxdu3ZVjRo1VKVKFcXExGjnzp2SLt3GsHHjxpKkunXrymazaeLEiZKkiRMnKjw8XJ6enrr//vuveTUP/+fMmTP67rvv9Pbbb+uxxx5TSEiIYmJiNGXKFNWvX1+StG3bNrVt21aenp4KCQlRYmKiwxQCm82mjz76SLGxsfL09NTSpUuvmjpSXFys0aNHKygoSJ6envrNb36j/fv3m/W+ffuqV69eDn1r27atXn/9dUmXAvz//M//qHbt2vLw8FBoaKhmzZpl5dDcVW7kPF7pl1NH8vPzFRcXJ09PTzVs2FArVqyQzWbTunXrHLZbv369mjRpIl9fX8XFxen06dOSLp2/b7/9VuPGjZPNZlNISIiVhwvcdQjaAMqVwsJCtWvXTqtXr9aWLVt0//3363e/+50uXLggNzc3/fOf/5R0KQQeO3ZMI0aMkCR5enpq9uzZ2rNnjyZMmKBRo0bpm2++ceahlGve3t7y9vbW0qVLrzn/Ni8vT7/5zW/UsWNH7dq1S/PmzdOiRYs0ZcoUh3ZJSUkaNGiQ9uzZo9atW1+1n7/85S+aP3++5s6dqy1btsjT01OdO3e+4W8w/eyzz7Ro0SJ9+umn2rt3r2bPnq3g4OCbO+gKqKzzWJahQ4fqwIEDSktL04IFCzR+/Phrtps4caLmzZuntLQ07dq1y3yDO336dEVFRenVV1/VsWPHtGXLlls6HqCiIWgDcJq//OUv8vHxMZeFCxeqQYMGGjJkiJo2bapGjRrp/fff1/Hjx5WZmSlJCggIkCQFBgaqRo0a8vb2liS9+uqratWqlerXr6/nnntO8fHx+vzzz512bOWdu7u7PvzwQ02bNk3VqlVTbGysJk+erKNHj0qSZs6cqXbt2mn06NEKCwtT27ZtNW7cOH344YcO+xkwYIC6deum0NDQawbgv/71r0pMTFSnTp3UtGlTzZs3Tz/++KP+3//7fzfUz5ycHN1///167LHHVK9ePbVr105xcXG3PgAVRFnn8Xp++uknLV68WNOmTVPLli0VHR2tCRMmXLPtW2+9paioKEVGRurFF180P1/h5+cnd3d3+fj4qEaNGgoMDLytxwfc7QjaAJxmwIAB2r59u7l07txZ58+f15/+9Cc1btxYVatWVdWqVXX+/Hnl5ORcd1/Lli3T448/ruDgYPn4+Ojjjz8uc5t73fPPP6///Oc/WrhwoVq0aKF58+apSZMm2rFjh3bt2qVly5Y5vBH6wx/+oEOHDjncNeLhhx8udf8//fSTTpw4oZYtW5rrqlevrkaNGmnv3r031MeuXbtqz549aty4sUaMGHHVB2hx/fN4PdnZ2SouLlZERIS5LjIy8pptH3zwQfPfNWrU0MmTJ29P54EKjqANwGmqVaumsLAwc/H19VVycrIWLlyoSZMmaePGjdq+fbt8fHzMb7+8lv3796tbt27q0KGDVq5cqe3bt6tnz57X3QaX+Pj4qHPnznrzzTe1e/du1a1bV1OmTFFBQYGee+45hzdCu3btUlZWllxc/u9Xh5eX1y09v4uLi4xf3GnjyvMWEhKi/fv3a+LEiSooKNAzzzyjP/7xj7f0nBVRaefxei6P+4180ZW7u7v5b5vNxi36gBtE0AZQrmzevFk9evRQly5d1LRpU7m6uuq///2vWb/8C//KOb5bt25VlSpVlJSUpIiICIWFhengwYN3vO93O3d3d4WGhurcuXNq1qyZ9uzZ4/BG6PJyo/z8/BQcHOxwy8b8/Hzt3btX4eHhki5NATp+/LhZv3DhwlVXu729vdWtWzd9+OGH+uijjzR79uxbPNKK7crzeD2hoaFydXXV1q1bzXVX/vvXPN+NzrkH7jUEbQDlSoMGDbRy5Ur961//0tatW9W/f39VrlzZrNesWVPu7u76+uuvlZubK7vdrgYNGig/P18LFizQgQMHNG7cOP3rX/9y4lGUfydOnNATTzyhxYsXa8+ePdq/f7+mTp2qlStX6plnntErr7yiH374QQMGDNCOHTu0d+9effrpp+aH4G7UsGHDNG7cOK1cuVK7d+9W3759Va9ePf32t7+VJLVp00YbNmzQF198oaysLL388su6cOGCuf38+fM1b948/fvf/9a+ffv05ZdfqlGjRrd1LO5mZZ3H6/Hz89Nzzz2nESNGKCMjQ+np6UpISJB0Y1e5L6tXr542b96so0ePmncjAXAJQRtAuZKQkKC6deuqVatW6t69uwYPHqyqVauadS8vL7311ltKTExUcHCwpkyZohYtWmj8+PEaOXKkIiIidPToUb344otOPIryr0qVKmrevLmSk5PVsmVLRURE6OOPP1ZKSor69u2runXrasOGDcrJyVGrVq3UokULvf3227rvvvt+1fOMGjVKffr0Ud++fRUZGanCwkItW7ZMrq6ukqSOHTtq5MiRGjhwoGJiYvTQQw/pkUceMbf38/NTSkqKoqKiFBUVpfz8fP3973+/rWNxNyvrPJZl+vTpql+/vtq0aaNevXrptddekySHN7dlee2115SXl6fQ0NDrztkH7kU245eT4wDcdex2u/bs2aMmTZrwZSEAbtrGjRvVunVrnThx4qa/HfSXLr8+ZWdn64cfflB0dLTatm17W/YNlHd8MyQAAPeoLVu26PDhw3r44YeVk5OjIUOG6IknnrhtIRu41xG0AQC4R5WUlGj8+PHav3+//Pz89Jvf/EbTpk1zdreACoOgDQDAPSo6OrrM+20DuHl8GBIAAACwAEEbqED4bDOA8obXJdzLCNpABXD5S1zOnz/v5J4AgKPLr0vFxcVO7glw5zFHG6gAXF1dVaVKFR05ckSVKlVy+IpsAHCWkpIS5eTk6Ny5c3xtO+5JBG2gArDZbKpXr552796trKwsZ3cHAEwlJSU6fvy4pEvTSH7Nl+EAdzuCNlBBVKpUSU2bNtXy5cuVk5OjgIAAubnxXxyAc124cEElJSXKz8+Xh4eHatSo4ewuAXcM3wwJVDAFBQVauXKljhw5wpxIAOWCzWaTl5eXYmNjFR4e7uzuAHcMQRuogIqKinTmzBk+HAmgXHBxcZGvr698fX2d3RXgjiJoAwAAABbg1gQAAACABQjaAAAAgAUI2gAAAIAFCNoAAACABQjaAAAAgAUI2gAAAIAFCNoAAACABQjaAAAAgAUI2gAAAIAFCNoAAACABQjaAAAAgAUI2gAAAIAFCNoAAACABQjaAAAAgAUI2gAAAIAFCNoAAACABQjaAAAAgAXcnN0BK5WUlOjMmTPy8PCQzWZzdncAAABQQRmGoZ9//llVq1aVi8ula9kVOmifOXNG/v7+zu4GAAAA7hF5eXmqXr26pAoetD08PCRdOmBPT08n9wYAAAAVld1ul7+/v5k/pQoetC9PF/H09CRoAwAAwHJXTlfmw5AAAACABQjaAAAAgAUI2gAAAIAFCNoAAACABQjaAAAAgAUI2gAAAIAFCNoAAACABQjaAAAAgAUI2gAAAIAFCNoAAACABQjaAAAAgAUI2gAAAIAFCNoAAACABQjaAAAAgAXcnN0B3JpxNtstbZ9oGLepJwAAALgSV7QBAAAACxC0AQAAAAsQtAEAAAALELQBAAAACxC0AQAAAAsQtAEAAAALELQBAAAAC5QatN98802Fh4fLy8tL/v7+6ty5s/bt22fW9+3bp3bt2snT01MhISGaM2eOw/bFxcUaOXKkAgIC5Ovrqz59+qigoMChzYoVK9SkSRN5eHgoIiJCmzdvdqgfP35ccXFx8vLyUs2aNTV58uTbccwAAACA5UoN2g0aNNC7776r3bt3a+3atXJ1dVWnTp0kSUVFRerUqZMCAgK0ZcsWvfHGGxo4cKDWrFljbj9hwgQtWrRIixcv1po1a5SZmanBgweb9aysLHXp0kXx8fHatm2bWrVqpY4dOyovL89s06NHD+Xn52vTpk1KSUlRcnLyVYEeAAAAKI9shnFjXw24a9cuPfTQQzp+/LjS09P1+9//Xrm5ufL19ZUk9e7dW2fPntWXX36pkpISBQcHa/LkyRowYIAkae3atXriiSd04sQJ+fv7a+TIkUpPT9e3334rSTIMQyEhIRoxYoSGDx+unTt3qlmzZtq7d68aNmwoSUpISNCyZcu0ffv2Gzo4u90uLy8vFRYWytPT81cPzt2Ab4YEAABwvmvlzhuao2232zVv3jw1atRIgYGBysjIUIsWLcyQLUmxsbFKT0+XJB08eFCnTp1S+/btzXpMTIwkKTMzU5KUkZHhULfZbGrfvr25j4yMDNWpU8cM2ZefY9euXbLb7dfsZ1FRkex2u8MCAAAAOMN1g/by5cvl4+Mjb29vrVixQqmpqXJxcdHJkycVFBTk0DYwMFC5ubmSpJMnT0qSQxtXV1dVr17drJW2j7LqJSUlOnXq1DX7O2nSJHl5eZmLv79/mQMAAAAAWOG6Qbtdu3bavn27NmzYoMaNG+v5559XUVGRypptciOzUW7HPn5p7NixKiwsNJcr53sDAAAAd5Lb9Yre3t4KCwtTWFiYoqKiVK1aNaWmpio4OFhZWVkObXNzcxUYGChJCg4OlnTpqvTl6SUXL15Ufn6+eZU6ODjYvHp95T7Kqru4uCggIOCa/XV3d5e7u/sNHTgAAABgpV91H23DMOTm5qaoqChlZmY63K5v7dq1io6OliSFhoYqICBAaWlpZn3Dhg2SpMjISElSVFSUQ12S0tLSzH1ERUXpyJEj2r9/v8NzPPjggxX2g40AAACoOEq9oj1mzBjFxcWpVq1aOnHihN58800FBASoVatW8vT0VO3atdW/f38lJiYqPT1dn3zyiVJTUyVJLi4uGjRokBISEhQaGiofHx8NHTpU8fHx5rzpl156STNnzlRycrLi4uI0a9YsnT17Vi+88IIk6aGHHlKbNm00YMAATZ8+XYcOHdLUqVM1bdq0OzAsAAAAwK0pNWgfPnxY3bt3N6eEtG7dWmvWrJGfn5+kS182M3DgQEVERCg4OFjvvfeeYmNjze0TEhJUUFCg7t2768KFC3r22WeVkpJi1sPDw7VkyRKNGjVKSUlJeuCBB7Ry5UqHDzAuXrxYAwcO1KOPPqoqVapozJgx6t+/vxXjAAAAANxWN3wf7bsR99EuG/fRBgAAuHU3fR9tAAAAAL8OQRsAAACwAEEbAAAAsABBGwAAALAAQRsAAACwAEEbAAAAsABBGwAAALAAQRsAAACwQKnfDAkAAMonvqwMuDtwRRsAAACwAEEbAAAAsABTRwAAAHBXuNumTXFFGwAAALAAQRsAAACwAEEbAAAAsABBGwAAALAAQRsAAACwAEEbAAAAsABBGwAAALAA99EGAAC4QXfbfZzhXFzRBgAAACxA0AYAAAAsQNAGAAAALEDQBgAAACxA0AYAAAAsQNAGAAAALEDQBgAAACxA0AYAAAAsQNAGAAAALMA3QwK3gG8IAwAApeGKNgAAAGABgjYAAABgAYI2AAAAYAGCNgAAAGABgjYAAABgAYI2AAAAYAGCNgAAAGABgjYAAABgAYI2AAAAYAGCNgAAAGABvoIdwF1pnM12S9snGsZt6gkAANfGFW0AAADAAgRtAAAAwAIEbQAAAMACBG0AAADAAqUG7cmTJ+uRRx6Rj4+PatasqX79+ik3N9ehjc1mu2rZvn27Q5s333xTtWrVkpeXlzp37qzjx4871NPT0xUZGSkPDw+Fh4dr+fLlDvWCggL169dPVapUkb+/v0aMGKHi4uJbPW4AAADAUqUG7Y0bN2rkyJHKzMzU0qVLtWfPHvXo0eOqdp9++qmOHTtmLk2bNjVrc+fO1cSJE/Xuu+9q06ZNOnv2rMM+8vLy9NRTT6lly5batm2b+vTpo65duyorK8ts88orr2jz5s1atWqVPvvsMy1evFjjx4+/XccPAAAAWKLU2/utXLnS4fG0adP02GOP6aeffpKfn5+5vlq1aqpRo8Y19zFjxgwNGzZMXbp0kSTNmTNHDRo00Pbt29W8eXMtXLhQXl5emjFjhmw2m5o0aaLU1FS9//77mjZtmk6fPq2FCxcqNTVV0dHRkqSJEydq9OjRSkxMlKur6y0PAAAAAGCFG56jferUKXl4eMjb29thfd++fRUUFKTWrVtrxYoV5vrz589rx44dat++vbkuNDRUISEhSk9PlyRlZGSoXbt2sl1xP9zY2FizvnXrVhmGobZt2zrU8/LydODAgav6WFRUJLvd7rAAAAAAznBDQfv8+fMaP368+vTpIze3/7sIPmnSJC1ZskSpqamKiYnRM888o9WrV0u6NC2kpKREQUFBDvsKDAzUyZMnJUknT54ss161alW5u7s71C/XfmnSpEny8vIyF39//xs5PAAAAOC2K/ObIS9evKhevXpJkt5++22H2p///Gfz3xERETp8+LCmTZumDh06yLiBb10rq8216rbrfBvc2LFjNWbMGPOx3W4nbAMAAMAprntFu6SkRH379lVWVpa+/vpr+fj4XHdnERERys7OliQFBATIxcXlqivPubm55lXs4ODgMutnzpxRUVGRWb/c/pdXwiXJ3d1dnp6eDgsAAADgDKUGbcMw9OKLL5p3/KhevXqZO9uxY4dCQkIkSZUrV1azZs2UlpZm1rOzs3Xo0CHzg41RUVFat26dw5XrtWvXmvVHHnlENptN69evd6j7+/srLCzs1x0pAAAAcAeVOnXk5Zdf1ldffWV+wPHy/a8DAwPl6uqq5cuXKzc3V9HR0XJzc9MXX3yh+fPnO9wHe8iQIRo2bJgiIiIUGhqqESNGqHXr1mrevLkkqWfPnkpKStKwYcM0aNAgLVu2TJs3b9asWbMkSdWrV1d8fLyGDRumuXPn6ty5c3r99dc1ePBg7jgCAACAcq3UoP3BBx9Iknl1+bLs7GyFhITIzc1N06ZN0w8//CAXFxc1btxYS5Ys0VNPPWW27d+/v06cOKHBgwfrzJkz6tChgz788EOz7u/vr5UrV2rIkCGaNWuW6tevr88//1zh4eFmm5SUFA0ZMkQdOnSQm5ubevfurYSEhNs2AAAAAIAVbMaNfGrxLmW32+Xl5aXCwsIKO1973HU+HHojEivu6b8jGH/nYexxL+Pn33kYe+cqz+N/rdx5w/fRBgAAAHDjCNoAAACABQjaAAAAgAUI2gAAAIAFCNoAAACABQjaAAAAgAUI2gAAAIAFCNoAAACABQjaAAAAgAUI2gAAAIAFCNoAAACABQjaAAAAgAUI2gAAAIAFCNoAAACABQjaAAAAgAUI2gAAAIAFCNoAAACABQjaAAAAgAUI2gAAAIAFCNoAAACABQjaAAAAgAUI2gAAAIAFCNoAAACABQjaAAAAgAUI2gAAAIAFCNoAAACABQjaAAAAgAUI2gAAAIAFCNoAAACABQjaAAAAgAUI2gAAAIAFCNoAAACABQjaAAAAgAUI2gAAAIAFCNoAAACABQjaAAAAgAXcnN0BAMDdZ5zNdkvbJxrGbeoJAJRfXNEGAAAALEDQBgAAACxA0AYAAAAsQNAGAAAALEDQBgAAACxA0AYAAAAsQNAGAAAALFBq0J48ebIeeeQR+fj4qGbNmurXr59yc3Md2uzbt0/t2rWTp6enQkJCNGfOHId6cXGxRo4cqYCAAPn6+qpPnz4qKChwaLNixQo1adJEHh4eioiI0ObNmx3qx48fV1xcnLy8vFSzZk1Nnjz5Vo8ZAAAAsFypQXvjxo0aOXKkMjMztXTpUu3Zs0c9evQw60VFRerUqZMCAgK0ZcsWvfHGGxo4cKDWrFljtpkwYYIWLVqkxYsXa82aNcrMzNTgwYPNelZWlrp06aL4+Hht27ZNrVq1UseOHZWXl2e26dGjh/Lz87Vp0yalpKQoOTn5qkAPAAAAlDc2w7ixr+f67rvv9Nhjj+nMmTPy8/PTsmXL9Pvf/165ubny9fWVJPXu3Vtnz57Vl19+qZKSEgUHB2vy5MkaMGCAJGnt2rV64okndOLECfn7+2vkyJFKT0/Xt99+K0kyDEMhISEaMWKEhg8frp07d6pZs2bau3evGjZsKElKSEjQsmXLtH379jL7bLfb5eXlpcLCQnl6et7UAJV3fDubczH+zsPYOxfj71yMv/Mw9s5Vnsf/Wrnzhudonzp1Sh4eHvL29pYkZWRkqEWLFmbIlqTY2Filp6dLkg4ePKhTp06pffv2Zj0mJkaSlJmZae7jyrrNZlP79u3NfWRkZKhOnTpmyL78HLt27ZLdbr+qj0VFRbLb7Q4LAAAA4Aw3FLTPnz+v8ePHq0+fPnJzc5MknTx5UkFBQQ7tAgMDzXncJ0+elCSHNq6urqpevbpZK20fZdVLSkp06tSpq/o5adIkeXl5mYu/v/+NHB4AAABw25UZtC9evKhevXpJkt5++21zfVkzTm5kRsrt2MeVxo4dq8LCQnO5cq43AAAAcCe5Xa9YUlKivn37KisrS+vXr5ePj49ZCw4OVlZWlkP73NxcBQYGmnXp0lXpy9NLLl68qPz8fPMqdXBwsHn1+sp9lFV3cXFRQEDAVf11d3eXu7t72UcNAAAAWKzUK9qGYejFF1/U5s2btWrVKlWvXt2hHhUVpczMTIfb9a1du1bR0dGSpNDQUAUEBCgtLc2sb9iwQZIUGRlp7uPKuiSlpaWZ+4iKitKRI0e0f/9+h+d48MEHK+yHGwEAAFAxlBq0X375ZX311VdauHChpEv3sz5+/LguXrwoSXryySdVu3Zt9e/fX7t379acOXP0ySef6I9//OOlHbu4aNCgQUpISNDatWuVkZGhoUOHKj4+3pw7/dJLL2nLli1KTk7Wv//9bw0fPlxnz57VCy+8IEl66KGH1KZNGw0YMEA7duzQ0qVLNXXqVA0dOtTSQQEAAABuValTRz744ANJMq8uX5adna2QkBBVqlRJK1as0MCBAxUREaHg4GC99957io2NNdsmJCSooKBA3bt314ULF/Tss88qJSXFrIeHh2vJkiUaNWqUkpKS9MADD2jlypUOH2JcvHixBg4cqEcffVRVqlTRmDFj1L9//9s2AAAAAIAVSg3aN/JBxEaNGmndunWl79zNTe+8847eeeedUts8/fTTevrpp0ut16hRQ0uXLi2zLwAAAEB5csP30QYAAABw4wjaAAAAgAUI2gAAAIAFCNoAAACABQjaAAAAgAUI2gAAAIAFCNoAAACABQjaAAAAgAUI2gAAAIAFCNoAAACABQjaAAAAgAUI2gAAAIAFCNoAAACABQjaAAAAgAUI2gAAAIAFCNoAAACABQjaAAAAgAUI2gAAAIAFCNoAAACABQjaAAAAgAUI2gAAAIAFCNoAAACABQjaAAAAgAUI2gAAAIAFCNoAAACABQjaAAAAgAUI2gAAAIAFCNoAAACABQjaAAAAgAUI2gAAAIAFCNoAAACABQjaAAAAgAUI2gAAAIAFCNoAAACABQjaAAAAgAUI2gAAAIAFCNoAAACABQjaAAAAgAUI2gAAAIAFCNoAAACABQjaAAAAgAUI2gAAAIAFCNoAAACABQjaAAAAgAUI2gAAAIAFSg3aX3zxhWJjY+Xn5yebzabi4mKHus1mu2rZvn27Q5s333xTtWrVkpeXlzp37qzjx4871NPT0xUZGSkPDw+Fh4dr+fLlDvWCggL169dPVapUkb+/v0aMGHFVPwAAAIDyqNSgXVhYqPbt2+tPf/pTqRt/+umnOnbsmLk0bdrUrM2dO1cTJ07Uu+++q02bNuns2bPq0aOHWc/Ly9NTTz2lli1batu2berTp4+6du2qrKwss80rr7yizZs3a9WqVfrss8+0ePFijR8//laPGQAAALCcW2mFXr16SZLWrVtX6sbVqlVTjRo1rlmbMWOGhg0bpi5dukiS5syZowYNGmj79u1q3ry5Fi5cKC8vL82YMUM2m01NmjRRamqq3n//fU2bNk2nT5/WwoULlZqaqujoaEnSxIkTNXr0aCUmJsrV1fVmjxkAAACw3C3N0e7bt6+CgoLUunVrrVixwlx//vx57dixQ+3btzfXhYaGKiQkROnp6ZKkjIwMtbikgMIAACAASURBVGvXTjabzWwTGxtr1rdu3SrDMNS2bVuHel5eng4cOHDN/hQVFclutzssAAAAgDPcdNCeNGmSlixZotTUVMXExOiZZ57R6tWrJV2aFlJSUqKgoCCHbQIDA3Xy5ElJ0smTJ8usV61aVe7u7g71y7XS+uTl5WUu/v7+N3t4AAAAwC0pdepIWf785z+b/46IiNDhw4c1bdo0dejQQYZhlLl9WW2uVb/y6ve1jB07VmPGjDEf2+12wjYAAACc4rbd3i8iIkLZ2dmSpICAALm4uFx15Tk3N9e8ih0cHFxm/cyZMyoqKjLrl9v/8kr4Ze7u7vL09HRYAAAAAGe4bUF7x44dCgkJkSRVrlxZzZo1U1pamlnPzs7WoUOHzA82RkVFad26dQ5XrteuXWvWH3nkEdlsNq1fv96h7u/vr7CwsNvVbQAAAMASpU4dyc/P1+HDh80PHu7YsUOurq4KCwvTunXrlJubq+joaLm5uemLL77Q/PnzHe6DPWTIEA0bNkwREREKDQ3ViBEj1Lp1azVv3lyS1LNnTyUlJWnYsGEaNGiQli1bps2bN2vWrFmSpOrVqys+Pl7Dhg3T3Llzde7cOb3++usaPHgwdxwBAABAuVdq0F62bJn69etnPo6MjJQkpaWlyc3NTdOmTdMPP/wgFxcXNW7cWEuWLNFTTz1ltu/fv79OnDihwYMH68yZM+rQoYM+/PBDs+7v76+VK1dqyJAhmjVrlurXr6/PP/9c4eHhZpuUlBQNGTJEHTp0kJubm3r37q2EhITbOgAAAACAFWzGjXxy8S5lt9vl5eWlwsLCCjtfe1wZHxAtS2LFPf13BOPvPIy9czH+zsX4Ow9j71zlefyvlTtv2xxtAAAAAP+HoA0AAABYgKANAAAAWICgDQAAAFiAoA0AAABYgKANAAAAWICgDQAAAFiAoA0AAABYgKANAAAAWICgDQAAAFiAoA0AAABYgKANAAAAWICgDQAAAFiAoA0AAABYgKANAAAAWICgDQAAAFiAoA0AAABYgKANAAAAWICgDQAAAFiAoA0AAABYgKANAAAAWICgDQAAAFiAoA0AAABYgKANAAAAWICgDQAAAFiAoA0AAABYgKANAAAAWICgDQAAAFiAoA0AAABYgKANAAAAWICgDQAAAFiAoA0AAABYgKANAAAAWICgDQAAAFiAoA0AAABYgKANAAAAWICgDQAAAFiAoA0AAABYgKANAAAAWICgDQAAAFiAoA0AAABYgKANAAAAWICgDQAAAFiAoA0AAABYoNSg/cUXXyg2NlZ+fn6y2WwqLi52qO/bt0/t2rWTp6enQkJCNGfOHId6cXGxRo4cqYCAAPn6+qpPnz4qKChwaLNixQo1adJEHh4eioiI0ObNmx3qx48fV1xcnLy8vFSzZk1Nnjz5Vo8XAAAAuCNKDdqFhYVq3769/vSnP11VKyoqUqdOnRQQEKAtW7bojTfe0MCBA7VmzRqzzYQJE7Ro0SItXrxYa9asUWZmpgYPHmzWs7Ky1KVLF8XHx2vbtm1q1aqVOnbsqLy8PLNNjx49lJ+fr02bNiklJUXJyclXBXoAAACgPHIrrdCrVy9J0rp1666qpaamKicnR9u2bZOvr6+aNm2q9evXa8aMGYqNjVVJSYlSUlI0efJkxcbGSpJmzJihJ554QlOnTpW/v78++OADRUZG6vXXX5ckTZ8+XUuXLtWCBQs0fPhw7dy5Uxs2bNDevXvVsGFDNW/eXCNGjNBf//pX9e/f34KhAAAAAG6fm5qjnZGRoRYtWsjX19dcFxsbq/T0dEnSwYMHderUKbVv396sx8TESJIyMzPNfVxZt9lsat++vbmPjIwM1alTRw0bNnR4jl27dslut1+zX0VFRbLb7Q4LAAAA4Aw3FbRPnjypoKAgh3WBgYHKzc0165Ic2ri6uqp69epmrbR9lFUvKSnRqVOnrtmvSZMmycvLy1z8/f1v5vAAAACAW3ZTQdswjFuq3659/NLYsWNVWFhoLlfO9wYAAADupJsK2sHBweaV58tyc3MVGBho1iU5tLl48aLy8/PNq9Sl7aOsuouLiwICAq7ZL3d3d3l6ejosAAAAgDPcVNCOiopSZmamw+361q5dq+joaElSaGioAgIClJaWZtY3bNggSYqMjDT3cWVdktLS0sx9REVF6ciRI9q/f7/Dczz44IMEaAAAAJR7pd51JD8/X4cPH9aBAwckSTt27JCrq6vCwsL05JNPqnbt2urfv78SExOVnp6uTz75RKmpqZIkFxcXDRo0SAkJCQoNDZWPj4+GDh2q+Ph4c970Sy+9pJkzZyo5OVlxcXGaNWuWzp49qxdeeEGS9NBDD6lNmzYaMGCApk+frkOHDmnq1KmaNm2a1WMCAAAA3LJSg/ayZcvUr18/8/HlK9FpaWlq27atVqxYoYEDByoiIkLBwcF67733zFv5SVJCQoIKCgrUvXt3XbhwQc8++6xSUlLMenh4uJYsWaJRo0YpKSlJDzzwgFauXOnwAcbFixdr4MCBevTRR1WlShWNGTOGW/sBAADgrmAzbuZTh3cJu90uLy8vFRYWVtjpJuNstlvaPrHinv47gvF3HsbeuRh/52L8nYexd67yPP7Xyp03NUcbAAAAwPURtAEAAAALELQBAAAACxC0AQAAAAsQtAEAAAALELQBAAAACxC0AQAAAAsQtAEAAAALELQBAAAACxC0AQAAAAsQtAEAAAALELQBAAAACxC0AQAAAAsQtAEAAAALELQBAAAACxC0AQAAAAsQtAEAAAALuDm7A/e6BI29pe1db1M/AAAAcHtxRRsAAACwAEEbAAAAsABBGwAAALAAQRsAAACwAEEbAAAAsAB3HQEA4A7jjlPAvYGgDcApCBoAgIqOqSMAAACABQjaAAAAgAWYOgIAAIA74l6bNsgVbQAAAMACBG0AAADAAkwdAQAA94x7beoCnIugjXsaL7i4V/GzDwDWY+oIAAAAYAGCNgAAAGABgjYAAABgAYI2AAAAYAGCNgAAAGABgjYAAABgAYI2AAAAYAGCNgAAAGABgjYAAABgAYI2AAAAYAGCNgAAAGABgjYAAABgAYI2AAAAYIGbDtpJSUmy2WwOS1xcnFnft2+f2rVrJ09PT4WEhGjOnDkO2xcXF2vkyJEKCAiQr6+v+vTpo4KCAoc2K1asUJMmTeTh4aGIiAht3rz5ZrsLAAAA3FG3dEU7KipKx44dM5d58+ZJkoqKitSpUycFBARoy5YteuONNzRw4ECtWbPG3HbChAlatGiRFi9erDVr1igzM1ODBw8261lZWerSpYvi4+O1bds2tWrVSh07dlReXt6tdBkAAAC4I24paLu7u6tGjRrmUrVqVUlSamqqcnJyNGfOHDVt2lR/+MMf9Pzzz2vGjBmSpJKSEqWkpGjChAmKjY1VVFSUZsyYoUWLFplB+oMPPlBkZKRef/11NWnSRNOnT5evr68WLFhwi4cMAAAAWO+WgvaOHTtUo0YNNWzYUK+88opOnz4tScrIyFCLFi3k6+trto2NjVV6erok6eDBgzp16pTat29v1mNiYiRJmZmZ5j6urNtsNrVv397cx7UUFRXJbrc7LAAAAIAz3HTQbtmypT7++GOtWrVKU6ZM0fr16/W73/1OhmHo5MmTCgoKcmgfGBio3NxcSdLJkyclyaGNq6urqlevbtZK28fl+rVMmjRJXl5e5uLv73+zhwcAAADcEreb3fDJJ580//3ggw+qSZMmCgsL09atW2UYxnW3Lat+o21+aezYsRozZoz52G63E7YBAADgFLft9n4NGjRQ1apVlZ2dreDg4KuuPOfm5iowMFCSFBwcLEkObS5evKj8/HzzKnZp+/jlVe4rubu7y9PT02EBAAAAnOG2Be3Dhw/rzJkzCgkJUVRUlDIzMx1u17d27VpFR0dLkkJDQxUQEKC0tDSzvmHDBklSZGSkpEt3NLmyLklpaWnmPgAAAIDy7KanjowePVqdO3dWnTp1lJ2drVGjRunRRx9VRESEiouLVbt2bfXv31+JiYlKT0/XJ598otTUVEmSi4uLBg0apISEBIWGhsrHx0dDhw5VfHy8OdXjpZde0syZM5WcnKy4uDjNmjVLZ8+e1QsvvHB7jhwAAACw0E0H7R9//FHdu3dXXl6eatWqpd/+9reaOHGiXFxcVKlSJa1YsUIDBw5URESEgoOD9d577yk2NtbcPiEhQQUFBerevbsuXLigZ599VikpKWY9PDxcS5Ys0ahRo5SUlKQHHnhAK1euZM41AAAA7go3HbQXL1583XqjRo20bt260p/YzU3vvPOO3nnnnVLbPP3003r66advtosAAACA09y2OdoAAAAA/g9BGwAAALAAQRsAAACwAEEbAAAAsABBGwAAALAAQRsAAACwAEEbAAAAsABBGwAAALAAQRsAAACwAEEbAAAAsABBGwAAALAAQRsAAACwAEEbAAAAsABBGwAAALAAQRsAAACwAEEbAAAAsABBGwAAALAAQRsAAACwAEEbAAAAsABBGwAAALAAQRsAAACwAEEbAAAAsABBGwAAALAAQRsAAACwAEEbAAAAsABBGwAAALAAQRsAAACwAEEbAAAAsABBGwAAALAAQRsAAACwAEEbAAAAsABBGwAAALAAQRsAAACwAEEbAAAAsABBGwAAALAAQRsAAACwAEEbAAAAsABBGwAAALAAQRsAAACwgJuzOwDg7mSzjbul7d8wblNHAAAopwjaAAD8SrzRxL2Kn/1fh6B9i/iBA+AMvPYAQPlH0AYAAHcN3mTibkLQxl2NF1wAAFBe3RV3HXnzzTdVq1YteXl5qXPnzjp+/LizuwQAAABcV7kP2nPnztXEiRP17rvvatOmTTp79qx69Ojh7G4BAAAA11Xup47MmDFDw4YNU5cuXSRJc+bMUYMGDbR9+3Y1b97cyb0DAAAArq1cB+3z589rx44d+t///V9zXWhoqEJCQpSenn5V0C4qKlJxcbH5uLCwUJJkt9st7GXRrW1tv7XtS25pa6vH5k5g/J2HsXcuxt+5GH/nYeydi/Eva9+GccUHwIxy7OjRo4YkY+fOnQ7rW7RoYYwfP/6q9omJiYYkFhYWFhYWFhYWFqcseXl5ZjYt11e0jSvfEdyAsWPHasyYMebjkpISFRQUyNfXVzab7XZ3z3J2u13+/v7Ky8uTp6ens7tzz2H8nYexdy7G37kYf+dh7J3rbh9/wzD0888/q2rVqua6ch20AwIC5OLiopMnTzqsz83NVVBQ0FXt3d3d5e7u7rDO29vb0j7eCZ6ennflD1xFwfg7D2PvXIy/czH+zsPYO9fdPP5eXl4Oj8v1XUcqV66sZs2aKS0tzVyXnZ2tQ4cOKTo62ok9AwAAAK6vXF/RlqQhQ4Zo2LBhioiIUGhoqEaMGKHWrVtzxxEAAACUa65JSUlJzu7E9Tz88MOy2WxKSEjQu+++q/DwcC1YsEA+Pj7O7tod4eLiorZt28rV1dXZXbknMf7Ow9g7F+PvXIy/8zD2zlXRxt9m/NpPHAIAAAAoU7meow0AAADcrQjaAAAAgAUI2gAAAIAFCNrlQK9evdS3b99S61lZWbLZbDpy5Mid6xTKVKdOHc2bN8/Z3YCk4uJi2Ww2rVu3ztldqfBef/11tW3b1tndKDeSkpL0+OOPO7sbWr169V35xWx3q++//142m03Hjx93dlfKtbLyjdXKw+sVQdsCbdu2lc1mc1hatmxZavuZM2dq+vTpd7CHFcPlcZ4zZ47DervdLj8/P9lsNh04cMBJvat4jh07pn79+ql27dry8PDQfffdp+7du1/1hVLXcuDAAdlsNh06dMj6jt5DbuWcoGy/fB3/5cIbuzuD83D7TZ06Vffdd5/DujVr1shms+mdd95xWP/MM884NSzf7QjaFhk+fLiOHTtmLitXrryqTVFRkQzDkJ+fn/z8/JzQy7tfnTp1tGDBAod1//jHP1SlShUn9aji6tq1qw4dOqTPPvtMWVlZWrBgge677z6dO3fujvXh/Pnzd+y57gbl4ZxUZFe+hg8fPlyPPvqow7rHHnvMkufl59yRs85DRdamTRvl5OQ4XPzYsGGD6tSpow0bNpjrSkpK9O2336pNmzZO6GXFQNC2iLe3t2rUqGEu1atXN/+09/XXX6tJkyby8PDQTz/9dNWfVn788Ue1a9dOHh4eevjhh7Vjxw6Hfe/Zs0dPPfWUAgICVK1aNT399NP68ccfJUmFhYXy8/PTN99847DN//zP/6hDhw6WH/ed1qVLF23ZskWHDx82182fP1+9evVyaJeamqoHH3xQlStXVlhYmD7++GOzdujQIdlsNn355ZeKioqSt7e32rZt67DPCxcu6KWXXpKPj4/q1q17Vbg/f/68evfurbp168rb21sRERFau3atWX/yySc1evRoh23WrFkjHx8fFRQU3JaxsNKZM2f03Xff6e2339Zjjz2mkJAQxcTEaMqUKapfv75OnDihbt26qUaNGvL19VWbNm20fft2c/v7779fklS/fn3ZbDZdvn2/zWbT6tWrzXaXz8Xlv0TMmzdPderU0aJFi9SgQQMFBgZKkn766Sd17dpVnp6eatiw4VU/72X1p3HjxkpJSXHYZvbs2apfv77uljuelnVOLo/dlX45zaFt27YaPXq0Bg4cKF9fX4WEhOjvf/+7wzafffaZ6tWrJ29vb/Xp00c///yzQ3327Nlq3ry5vL29Va9ePb3xxhsqLi6WJP39739XrVq1dPHiRbO9YRiqV6/eXTHt6srXcG9vb1WqVMlhXaVKlcy27777rmrWrKmAgACNHj3a/Dn65c+0JK1bt042m80cp8vnZerUqapdu7YiIyMlSdOmTVP9+vVVuXJl1alTR1d+7cWuXbsUGRkpDw8PPf7441f9tWjTpk1q166dqlatqsDAQD3//PM6deqUJOno0aNyc3PTnj17HLZ54YUXyuWVyxs5D88995xefPFFh+1atmypiRMnmo+PHz+u5557Tn5+fgoKClLfvn11+vRpsz5//nw1bNhQHh4eqlGjhv74xz+atezsbMXExMjDw0OPPPKIdu3a5fBc33//vX7729/K399f1atXV+fOnZWTkyNJKigokI+Pj8PvBEkaNWqUnnzyyds2Tr9G8+bNVaVKFYdQvWHDBr322mvauHGj+fO7a9cunT59WjExMZKkv/71rwoNDZWXl5datGhx1V8TZsyYoeDgYPn5+enVV1+96vU0JCREU6ZMUffu3eXt7a3GjRtfNS6rV69WZGSk+fo+c+ZMs/bzzz9rwIABCgoKkqenp8LDw/Xll1+a9fL4ekXQdoIJEyZo9uzZ2rVrl7y9va+q9+rVSxcvXlR6erqSk5M1duxYh3pBQYF69OihjRs3asOGDXJxcVF8fLwkycvLS927d3cIgoZhaOHCherdu7e1B+YEvr6+6ty5s/72t79Jkv7zn/9o48aN6tGjh9nm0KFDiouLU1xcnHbu3Knhw4erf//++vbbbx32lZSUpLfeeksZGRkqLCzUiBEjzFpycrK++uorffHFF1q+fLlmz56tvLw8s15cXKyGDRvqq6++0o4dO9S5c2f97ne/M/+E37dvXy1cuFAlJSXmNgsWLFCXLl3uii9f8vb2lre3t5YuXWq+KF3JbrerTZs2WrVqlbZu3aomTZqoc+fO5ovcd999J0nKyMjQsWPH9Nprr93wc586dUpz587V559/rk2bNkm69Bej3bt3a+3atZo/f74SExN/VX/69Olz1ZulBQsW6IUXXrhr5rmWdU5u1KxZsxQeHq5//etf6tu3r/r162f+3P7www+Kj4/Xiy++qG3btiksLEyzZs1y2L6kpERvv/22vv/+e73//vv66KOP9MEHH0iS4uLiZLfbHd5MrV+/XqdOnVLXrl1vus/lzc6dO7VlyxatXbtWH330kaZNm6bly5f/qn1s375d6enp+uabb/Tpp59qy5YtSkxM1Pvvv6/9+/fr008/VVhYmCTp4sWL6tKli+677z5t3bpVw4YN0xtvvOGwv4KCAg0aNEiZmZlKTU1VTk6OBg8eLEmqXbu2OnTo4PB/4Ny5c/rHP/5RIX9PSJd+D8bFxcnT01ObNm3S6tWrdfToUfXv31/Spd8TL7/8spKTk7Vv3z599dVXatasmbl9fHy8XFxclJGRoUmTJl3z93LPnj21adMmrVu3ThcvXlTPnj0lST4+PurWrZvDeJeUlGjRokVOG29XV1e1atXKDNoXLlxQenq6nn/+efn4+Gj37t2SLoXvWrVqqUGDBpozZ46mT5+ulJQUff/99+rdu7c6duxovslbv369Ro4cqXHjxik9PV12u13Lli276rn/8pe/6JlnntH27dvVunVr9erVSxcuXJAk7d27V126dNGgQYO0e/duvfPOOxo3bpwWL14s6VLQ37p1q1JTU7Vnzx5NnTrV/At2uX29MnDbxcTEGO7u7oa3t7e5/O1vfzNWrVplSDI2btzo0L5nz55Gnz59DMMwjJ07dxqSjP3795v1GTNmGJKMnJycaz5fTk6OIck4evSoYRiG8c9//tPw9vY2/vvf/xqGYRhr1qwxvL29jYKCAguO1nliYmKMsWPHGqmpqUZ4eLhhGIbx1ltvGd26dTOys7PNcRwzZozRokULh2179OhhdOvWzTAMw2y7ePFis75o0SLD39/ffBwUFGS899575uN///vfhiRj7ty5pfavUaNGxvz58w3DMAy73W5UrVrV+OabbwzDMIxz584ZPj4+xqpVq25tEO6gRYsWGb6+voaPj4/Rvn17Y9KkScaRI0eu2ba4uNjw9vY21q9fbxiGYezfv9+QZGRnZzu0k+QwBleeN8MwjLlz51613U8//WS4ubkZqamp5rrU1FRDkpGWlnZD/Tl69Kjh6upq7Nu3zzAMwzh06JDh4uLi8P/ubnC9czJ37lyjdu3aDu0TExONVq1amY9jYmKMp556ynxcVFRkeHl5GV999ZVhGIYxevRoIzo62mEf0dHRRkxMTKl9Sk5ONtq1a2c+HjhwoBEfH28+7tevn9GzZ89ff7BONnbs2Gsed2JiolGtWjXDbreb65544gnj1VdfNQzj6p9pwzCMtLQ0Q5JRVFRk7sPHx8d8zTYMw/j888+Nhg0bmm2utHLlSsPT09PIz883140ZM8a43q/07777znBzczOKi4sNwzCMTz75xKhbt65x8eJFwzAMY/78+Q6Py6vSzkOPHj2MP/zhDw7roqOjjQkTJhiGYRhff/21cd999zkc3w8//GBIMnJzc42NGzcaAQEBRmFh4VX73rZtm2Gz2YyDBw+a66ZOnWpIMo4dO3bNfl4+7ydOnDAM49I59/X1Nc6dO2f2x9fX95rPd6ckJycb9/9/7d19VFTH+Qfw7yqsLC4v8qKAUV5WC1IDDa8S2dUGldQEq1ULwZBFaK2cEl+xpR6skRNUrMaXiomxVXExxiNqRGIoRhFWCUIlIIJZ1xBQiWIiSiVLDHCe3x/8uOUKKprw2udzDudwd3bvzJ3ZOzs7d567Y8cSEdHZs2fJ1dWViFrHJCkpKURENGfOHHrttdeIiMjZ2VnoG9pMnTpVqOPf/va3FBoaKqQ1NTXRyJEjhfENEZGjoyPFxMQI219//TUBoLKyMiJq7R/azp02SUlJFBQUREREsbGxFBUV1enx9NX+ime0u8nvf/97lJSUCH8zZswQ0l544YVHvk6n02HYsGHCzAUA+Pn5iZ5z9+5dxMTEYOzYsTA3N4ebmxsACJepAgMDYW9vjyNHjgD478xpZ7PnA8HUqVNx7949FBUVQaPRdJgh0Ol0HYJRAwICoNPpRI89//zzwv92dna4c+cOWlpaUF9fj9u3b4vawc3NDWZmZqLXb9y4ER4eHrCysoJcLoderxfaxMTEBKGhocKMxtGjR2FpaYmXXnrpx1dAD3nttdfw9ddfY//+/fD19cXevXvh7u6O0tJSNDU1YeXKlRg3bhwsLS1hYWEBg8EgHP+PMWzYMDg5OQnblZWVaG5uFrXHw+fIk8rj4OAgmtFLS0uDv7+/6LzrDx7XJl3V/n1vZGQEGxsbYUZbp9N1qNuHt/Pz8zFt2jSMHDkScrkcb731lqjdIyMj8dFHH+H+/ftobGzE4cOHB9ys6dixY2FiYiJs29nZPXVA6tixY0VXt6ZMmQKJRAKFQoGFCxfi448/Fi7D63Q6jBkzBsOGDROe/3C73LhxAxEREXBxcYGZmRmCgoLQ3Nws3CVj5syZuH//vnDpX6PR4PXXX8egQQNzWFBWVoaamhqYm5tDLpdDLpfDw8MDQGuf4uvrCxcXFzg7OyMqKgrp6enClSKdTgcbGxs4OzsL+3u4vuvq6vCHP/xB+FweP348gP9+Lk+aNAk2NjbCMgeNRoM5c+ZAJpN1+7E/yqRJk6DX63Hr1i3k5eVBqVQCaB1DtM10a7VaqFQqNDQ04KuvvkJoaKhQf3K5HDk5OaisrATQsb8wMjKCl5dXh3wf/qwFIJwvZWVl2L59uyiPxMREIY+IiAikp6fD29sbK1euxIULF4R99dX+amCeUX1A22C57a/9oMzU1PSRryOiJ166Xrp0Kc6dO4etW7eioKAAWq0WQOvgoo1arca+fftgMBhw+PBhqNXqH3lEfdfgwYMRHh6O5cuXo7a2tsOaN+rimltjY2Ph/7Y2ICLh9Y9rl7S0NCQmJmL58uXIyclBSUkJ3N3dRW0SGRmJI0eO4LvvvsO+ffv65YeaXC7HjBkzsH79epSXl2PUqFHYtGkTkpOTkZqairfffhtnz55FSUkJLC0tRcffGYlEImqfzp7/8PnSlfboSnkiIyORlpYGIoJGo+m358ij2mTQoEEd3vud1W/79z3QWq9tS5ye1B/dv38fr7zyCpydnXH48GEUFxcjPj5elM+ECRMwevRoTlbgbwAAEWVJREFUHD58GB999BHMzMwGXLzI4+qw7Rx/2ve5hYUFLl68iHfffRdSqRRRUVH49a9/LezrSZ8TkZGRqK6uxvvvv4+ioiKkp6eL8m778r9v3z7U1NTg9OnT/foL0JPe7w0NDXB3dxdNgJWUlECv18PDwwNSqRT5+fnYv38/rK2tsWzZMqhUKjQ3N3epvhctWoTz589j27ZtKCgoQE5OjqgMEokEb7zxBvbt24eGhgYcPXq01/scHx8fmJqaIi8vD3l5eULAo1KpRF5eHnQ6HWpra6FSqYQA6w8++EBUf5cvX8a6desAdO19CXT+Wdt2vjQ0NGDZsmWiPC5duiSs4/bz88NXX32FJUuWoLq6GhMnTsTGjRu7lH9v9VdGP+rV7Cfn6uqKuro6fPnll1AoFACAoqIi0XMKCgoQGxuL6dOnA4BwQrenVquxZs0abN++HRYWFvjlL3/Z/YXvRWq1Gu+88w7efPPNDh96bm5uHYItPvvsM+FKwJNYWlpi+PDhKCwsFK5G6HQ63L9/X3hOQUEBXnrpJaHjbGhoEAVTAv89gVNSUnDq1Cls2bLlqY+zLzE2NoaLiwu+++47FBQUYO7cucI6tuvXr4uCjNrapH2QCQDY2tqK7kP7cIBRZxQKBYyMjFBYWIjg4GAAnZ8jjysP0DqjFxMTg02bNqGqqkq0rr+/at8mtra2uHPnDpqamoT670r9tufq6ip8kW9TVFSEIUOGAGg9D+7du4fk5GRYWloCQKdXMSIjI6HRaDBkyBDMmzev333B/DHaAnhv3bolBAV3tR2kUimmT5+O6dOn4/XXX4e/vz9u374NV1dX6PV63Lt3T6j3zs6BtLQ0YZDwcDoAzJ8/H1OmTIGTkxN8fHy63Cf2Rba2tqKA08bGRtG2p6cnNm7cCGtra9GVgPYGDx6MoKAgBAUF4c0334SjoyMqKirg6uqKb775BlVVVcLVtc7qOy4uDr/61a8AACdPnuyw/8jISCQlJSElJQU2Nja9ficPY2NjBAQEICcnB/n5+Xj33XcBAO7u7njw4AF2794NW1tbuLu7g4hgZ2eHa9euCV/4Hubq6orCwkJhu6WlBZ9//jmCgoK6XCZPT0/his2jWFlZISIiAhEREfD09MTu3bsRFxfXZ/ur/53erp/w8PDAxIkTER0djYsXLyI7O7vDgEyhUODQoUO4fPkytFot/vznP3fYz6hRozB58mQkJCT0y5nTp+Xh4YFvv/0Wf/vb3zqkxcTEoLS0FH/9619x5coVbN++Henp6ViyZEmX979w4UKsWbMGn376KUpLSxETEyO6VKxQKJCfnw+tVovy8nKo1WpR4GMbtVqNhIQEvPDCCxg3btyzHWwvqK2txbRp03Dw4EFUVFRAr9dj8+bNOHHiBEJCQqBQKJCVlYXi4mIUFxdDrVZ3uJQulUqRnZ2Nb775BgaDAUDrLaa2bt2KS5cuITc3V3SHgEcxNzdHeHg4li5divPnz6OgoKBDINiTygO0zuiFhYVh5cqVCAkJETre/uJJbeLr64tBgwYhMTERV69exbZt20R3GOiKBQsWoKioCElJSbhy5QqSkpJw6dIlIX306NEwNjbGjh07UFlZiffee090B4A2ERER0Gq1yM7O7tezps9CJpPBx8cH69atg06nw/Hjxzvc8aYzmZmZSElJQVlZGSorK3Hw4EHY2NjA2toawcHBsLe3x+9+9ztUVFQgPT0dqampotcrFApoNBro9XpkZWVh7dq1HfLw9/fHqFGjsHbt2n7fLiqVCqdOnUJGRgYuX76MBQsWiGa4X331VSgUCsyaNQvnzp1DZWUl/vWvfwkBolqtFhs3bsTnn3+OqqoqpKWlQSaTYdSoUfDy8oKfnx+io6NRVlaGrKwsbNu2TZS/QqHAwYMH8cUXXyA3Nxd/+ctfOpTRyckJgYGBWLVqVZ8JvFapVEhLS4O5ubnwJUIikeDFF1/Ejh07hOUkEokEK1euxKpVq7Bnzx58+eWX+Pe//43169cLE1kxMTFIT0/H+++/D51Oh8WLF+PevXtPVZ4VK1YgMzMTCQkJqKioQHl5Ofbu3SucM5s3b8ahQ4eg1+tRVlaG7OxsuLq6AujD/dWPWuHNOtUWpPewtmDIh7UPhiRqDaJQqVQklUrJw8ODPvjgA1EwpE6no4CAADIxMSF3d3fKysoiAKTVakX71Wg0BIAqKip+2gPsIx5Vz0QdA5BOnDhB48ePJ2NjY1IoFLR3795HPpeoY7DS999/T1FRUWRqakoODg5CoFlbMKTBYKCwsDCSy+Vkb29PmzdvpokTJ9Lq1atF5aqpqSGJRELbtm37CWui+xkMBlqxYgV5enqSmZkZmZmZ0S9+8QvauXMnERHdvn2bXn75ZZLJZOTk5EQHDhwQ1Q8R0datW8nOzo4kEolQL9XV1TR58mQyNTUlLy8vOnbsWIdgyIcD+oiI6urqaObMmTRkyBBycXGhjIwMUTBkV8pD1BogBoAyMjJ+8jrrbk9qEyKiDz/8kJycnGjo0KEUFRVF8fHxHYIhHz6HHB0dadeuXcJ2W9CcqakphYeH07Jly0TBRW1tZGpqSrNmzaINGzaQo6Njh/IGBweTl5fXT1cBPexxwZDt65SISK1WiwKoSktLydvbm2QyGU2aNIlSU1M7BEM+vA+tVktKpZIsLCxo6NChFBgYSAUFBUJ6SUkJeXl5kVQqpYCAANq5c6fo86WwsJA8PDxoyJAh5OPjQ+np6Z0GJK9bt46kUil9++23z1o1PepR7dDS0kJLliwhKysrGjFiBKWkpIiCIYla+wW1Wk3W1tZkYmJC48aNE97/Fy9epKCgILKysiKZTEY+Pj5C8DpRa+BkYGAgSaVS8vT0pLS0NFEw5OXLl8nf359MTEzo5z//OZ04cYIA0GeffSYqZ1uAd1sgdm87c+YMARACHtskJycTANqyZYvo8Z07d5KbmxsZGxuTnZ0dzZo1i7744gshfcuWLWRra0tmZma0ePFiCg8P7xAM2b5/IeoYFJ+bm0uBgYFkYmJClpaWpFKp6OOPPxbyf/7550kmk5GVlRXNnTtXFJDaF/sryf8fJBuANmzYgPT0dNGlHNa7iouLERAQgJqaGtjY2PR2cf7nHTlyBDExMcJ9hVn38fT0RHR0NBYtWtTbRWHtLFq0CDdu3BCC51n3Wrt2LTIzM4VblbK+6afsr/iTZQAyGAzQ6/XYvn276AcOWO9pampCTU0NVq9ejdmzZ/Mgu5c9ePAA1dXVWL9+PaKjo3mQ3Y3q6uqQnp6Oq1ev9vvlCQNJQ0MDSktLkZqaikOHDvV2cQY8g8EAnU6HlJQUIXiQ9T3d0V8N7IW7/6PWrl0LX19f+Pn59XpUM2t17tw5uLi4CIM71rsOHDgg/DprfHx8bxdnQPPy8kJ8fDx27NjR79bBD2SxsbGYMmUK5s2bh2nTpvV2cQa8xMRETJgwAYGBgcIP2bC+pzv6K146whhjjDHGWDfgGW3GGGOMMca6AQ+0GWOMMcYY6wY80GaMMcYYY6wb8ECbMcYYY4yxbsADbcYYY4wxxroBD7QZY6yXNTc3QyKR4MyZM71dFPzxj3+ElZUVJBIJqqqqers4AicnJ/zjH//o7WIwxthT4V9pYIwxBgDIy8vDrl27kJubC2dnZ9ja2vZ2kRhjrF/jgTZjjDEAQGVlJezt7REQENDbRWGMsQGBl44wxlgPq6+vx+zZsyGTyfCzn/0M2dnZQlptbS3mzJkDOzs7mJmZQaVSoaSkREgfN24cduzYIdrfP//5Tzg7O+NJvz/W3NyMP/3pTxg+fDhkMhmmTp0KvV4PAHjrrbcwf/58XLt2DRKJBE5OTo/dl4eHB/bs2SNsOzs748UXXxS2k5OT8fLLLwvbn376KXx8fIRjTklJEe2vsrISISEhkMvlcHBwQGxsLAwGwyPzj4uLw5gxY3Dt2rXHlpMxxnoTD7QZY6yHLVmyBOXl5Th9+jRSU1OxevVqIa2xsREqlQonT57EhQsX4O7ujhkzZuD7778HAKjVamg0GtH+NBoNIiIiIJFIHpvvhg0bkJqaij179qCoqAgymQwzZsxAS0sL4uLisGnTJjz33HO4efMmioqKHrsvpVIJrVYLALhx4wbu3r2LkpISNDY2AgC0Wi2USiUAQKfT4Te/+Q1iYmJQXl6Od955B2vWrMHBgwcBAD/88AOCg4MxduxYXLhwAceOHUNRURGWL1/eIV8iQmxsLDIzM5GXl4fRo0c/tpyMMdariDHGWI+pr68nIyMj+uSTT4THPvnkEwJAOTk5HZ7f3NxMQ4cOpdzcXCIiqqmpocGDB9OVK1eIiKiqqooGDRpEer3+iXmPGDGCUlJShO07d+6QTCajzMxMIiLatWsXOTo6duk4Dhw4QGPGjCEiov3791NISAj5+PjQ6dOnqaWlhSwtLYUyz58/n5YvXy56fVJSEgUFBRERUWpqKnl7e4vSz507R1KplJqbm4mIyNHRkXbu3EnR0dE0fvx4unXrVpfKyRhjvYnXaDPGWA+qrKxEc3Mz/Pz8hMfa/9/U1ITVq1fj6NGjuHnzJpqbm2EwGHD9+nUAgIODA6ZMmQKNRoPExESkpaXB398fY8aMeWy+9fX1qK2txYQJE4THrKys4OrqCp1Oh1deeeWpjkOpVOLq1au4desWtFotVCoVbt68Ca1WCysrKxgMBuG4ysrKUFZWhvfee094fXNzMxwcHIT00tJSyOVyIZ2I8MMPP6CmpkaYtU5MTIRUKkVRURGsra2fqryMMdYbeOkIY4z1IPr/ddSPWuaRnJyM1NRUvP322zh79ixKSkpgaWmJpqYm4TmRkZFIS0sDEUGj0UCtVvdI2dsbOXIknJ2dodVqkZeXB6VSCaVSiby8POTl5cHX1xcmJiYAgIaGBixbtgwlJSXC36VLl3D69GkhvW0tettfaWkp9Ho97O3thTwnT56M2tpanDx5ssePlzHGngXPaDPGWA9SKBQwMjJCYWEhgoODAUC0HrqgoABz587F7NmzAQDXr1/H3bt3RfuYOXMmYmJisGnTJlRVVSE0NPSJ+VpYWGDEiBEoKCiAl5cXAKCurg46nQ5ubm7PdCxKpRLHjh3DtWvX4O3tjfr6ekRERMDMzExYnw0Anp6e0Ol0j5x19/T0REZGBp577jlhcN6ZyZMnIywsDKGhoRg6dChCQkKeqdyMMdZTeEabMcZ6kLm5OcLDw7F06VKcP38eBQUFWLVqlZCuUCiQlZWF4uJiFBcXQ61Wdxh8mpiYICwsDCtXrkRISAgsLS27lPfixYuxZs0anDhxAuXl5YiMjISjo6Mw4H9aSqUSH374Ifz9/WFkZARra2uMHj0ax48fFw20V6xYgczMTCQkJKCiogLl5eXYu3evcPeUefPmQSqVIjQ0FEVFRbh69SqOHz+OuLi4Dnm++uqr2L17N8LCwnDq1KlnKjdjjPUUHmgzxlgP27JlC1xdXTFp0iTMmzdPNNBOSEiAs7MzAgMDMXv2bCxYsKDT9chqtRpNTU144403upzvihUroFarERkZCR8fHxgMBmRkZGDw4MHPdBxKpRItLS1QqVTCYyqVCkQkutWft7c3Tp48idzcXHh7eyMwMBB79uwRbiFoZmaGM2fOQCqVYurUqfD09ERCQoJo2Uh7oaGh+Pvf/46ZM2ciPz//mcrOGGM9QUL0hBuvMsYY63OOHDmCmJgY1NTUwMiIVwEyxlhfxL0zY4z1Iw8ePEB1dTXWr1+P6OhoHmQzxlgfxktHGGOsHzlw4ADc3d1hYmKC+Ph4UdrChQshl8s7/Wv7cZmu0mq1j9zXwoULf8pDYoyxAYuXjjDG2ABx+/Zt/Oc//+k0beTIkZDJZF3eV2NjI2pqajpNMzc3x/Dhw5+pjIwx9r+EB9qMMcYYY4x1A146whhjjDHGWDfggTZjjDHGGGPd4P8A2ldNUcRQL1oAAAAASUVORK5CYII=\" class=\"pd_save\"></center>\n",
       "                        \n",
       "                    \n",
       "                \n",
       "        </div>"
      ],
      "text/plain": [
       "<IPython.core.display.HTML object>"
      ]
     },
     "metadata": {},
     "output_type": "display_data"
    }
   ],
   "source": [
    "#Bar chart cluster visual day of week vs number of casualties/accident severity\n",
    "display(combined_df)"
   ]
  },
  {
   "cell_type": "code",
   "execution_count": 48,
   "metadata": {
    "pixiedust": {
     "displayParams": {
      "handlerId": "pieChart",
      "keyFields": "Accident_Severity",
      "tableFields": "Accident_Severity,number_of_casualties",
      "title": "Accident Severity vs Number of Casualties",
      "valueFields": "number_of_casualties"
     }
    }
   },
   "outputs": [
    {
     "data": {
      "text/html": [
       "<style type=\"text/css\">.pd_warning{display:none;}</style><div class=\"pd_warning\"><em>Hey, there's something awesome here! To see it, open this notebook outside GitHub, in a viewer like Jupyter</em></div>\n",
       "        <div class=\"pd_save is-viewer-good\" style=\"padding-right:10px;text-align: center;line-height:initial !important;font-size: xx-large;font-weight: 500;color: coral;\">\n",
       "            Accident Severity vs Number of Casualties\n",
       "        </div>\n",
       "    <div id=\"chartFigure45ce0dbc\" class=\"pd_save is-viewer-good\" style=\"overflow-x:auto\">\n",
       "            \n",
       "                    \n",
       "                            <center><img style=\"max-width:initial !important\" src=\"data:image/png;base64,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\" class=\"pd_save\"></center>\n",
       "                        \n",
       "                    \n",
       "                \n",
       "        </div>"
      ],
      "text/plain": [
       "<IPython.core.display.HTML object>"
      ]
     },
     "metadata": {},
     "output_type": "display_data"
    }
   ],
   "source": [
    "#piechart visual accident severity vs casualties\n",
    "display(combined_df)"
   ]
  },
  {
   "cell_type": "code",
   "execution_count": 49,
   "metadata": {
    "pixiedust": {
     "displayParams": {
      "aggregation": "MIN",
      "chartsize": "71",
      "filter": "{}",
      "handlerId": "barChart",
      "keyFields": "age_of_driver",
      "mapboxtoken": "pk.eyJ1IjoibWFwYm94IiwiYSI6ImNpejY4M29iazA2Z2gycXA4N2pmbDZmangifQ.-g_vE53SD2WrJ6tFX7QHmA",
      "no_margin": "true",
      "rowCount": "25",
      "title": "Sex of driver vs accident severity",
      "valueFields": "Accident_Severity"
     }
    }
   },
   "outputs": [
    {
     "data": {
      "text/html": [
       "<style type=\"text/css\">.pd_warning{display:none;}</style><div class=\"pd_warning\"><em>Hey, there's something awesome here! To see it, open this notebook outside GitHub, in a viewer like Jupyter</em></div>\n",
       "        <div class=\"pd_save is-viewer-good\" style=\"padding-right:10px;text-align: center;line-height:initial !important;font-size: xx-large;font-weight: 500;color: coral;\">\n",
       "            Sex of driver vs accident severity\n",
       "        </div>\n",
       "    <div id=\"chartFiguree224987c\" class=\"pd_save is-viewer-good\" style=\"overflow-x:auto\">\n",
       "            \n",
       "                    \n",
       "                            <center><img style=\"max-width:initial !important\" src=\"data:image/png;base64,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\" class=\"pd_save\"></center>\n",
       "                        \n",
       "                    \n",
       "                \n",
       "        </div>"
      ],
      "text/plain": [
       "<IPython.core.display.HTML object>"
      ]
     },
     "metadata": {},
     "output_type": "display_data"
    }
   ],
   "source": [
    "#Visual Sex of driver vs accident severity\n",
    "display(combined_df)"
   ]
  },
  {
   "cell_type": "code",
   "execution_count": 50,
   "metadata": {
    "pixiedust": {
     "displayParams": {
      "handlerId": "barChart",
      "keyFields": "Accident_Severity",
      "title": "Accident severity vs number of casualties",
      "valueFields": "number_of_casualties"
     }
    }
   },
   "outputs": [
    {
     "data": {
      "text/html": [
       "<style type=\"text/css\">.pd_warning{display:none;}</style><div class=\"pd_warning\"><em>Hey, there's something awesome here! To see it, open this notebook outside GitHub, in a viewer like Jupyter</em></div>\n",
       "        <div class=\"pd_save is-viewer-good\" style=\"padding-right:10px;text-align: center;line-height:initial !important;font-size: xx-large;font-weight: 500;color: coral;\">\n",
       "            Accident severity vs number of casualties\n",
       "        </div>\n",
       "    <div id=\"chartFigure453a0d3d\" class=\"pd_save is-viewer-good\" style=\"overflow-x:auto\">\n",
       "            \n",
       "                    \n",
       "                            <center><img style=\"max-width:initial !important\" src=\"data:image/png;base64,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\" class=\"pd_save\"></center>\n",
       "                        \n",
       "                    \n",
       "                \n",
       "        </div>"
      ],
      "text/plain": [
       "<IPython.core.display.HTML object>"
      ]
     },
     "metadata": {},
     "output_type": "display_data"
    }
   ],
   "source": [
    "#Visual of accident severity vs number of casualties\n",
    "display(combined_df)"
   ]
  },
  {
   "cell_type": "code",
   "execution_count": 51,
   "metadata": {
    "pixiedust": {
     "displayParams": {
      "handlerId": "barChart",
      "keyFields": "sex_of_driver",
      "title": "Sex of driver vs number of casualties",
      "valueFields": "number_of_casualties"
     }
    }
   },
   "outputs": [
    {
     "data": {
      "text/html": [
       "<style type=\"text/css\">.pd_warning{display:none;}</style><div class=\"pd_warning\"><em>Hey, there's something awesome here! To see it, open this notebook outside GitHub, in a viewer like Jupyter</em></div>\n",
       "        <div class=\"pd_save is-viewer-good\" style=\"padding-right:10px;text-align: center;line-height:initial !important;font-size: xx-large;font-weight: 500;color: coral;\">\n",
       "            Sex of driver vs number of casualties\n",
       "        </div>\n",
       "    <div id=\"chartFigure64850c79\" class=\"pd_save is-viewer-good\" style=\"overflow-x:auto\">\n",
       "            \n",
       "                    \n",
       "                            <center><img style=\"max-width:initial !important\" src=\"data:image/png;base64,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\" class=\"pd_save\"></center>\n",
       "                        \n",
       "                    \n",
       "                \n",
       "        </div>"
      ],
      "text/plain": [
       "<IPython.core.display.HTML object>"
      ]
     },
     "metadata": {},
     "output_type": "display_data"
    }
   ],
   "source": [
    "#Bar chart visual Sex of driver vs number of casualties \n",
    "display(combined_df)"
   ]
  },
  {
   "cell_type": "code",
   "execution_count": 52,
   "metadata": {
    "pixiedust": {
     "displayParams": {
      "handlerId": "barChart",
      "keyFields": "urban_or_rural_area",
      "title": " number of casualties in rural area vs urban area ",
      "valueFields": "number_of_casualties"
     }
    },
    "scrolled": false
   },
   "outputs": [
    {
     "data": {
      "text/html": [
       "<style type=\"text/css\">.pd_warning{display:none;}</style><div class=\"pd_warning\"><em>Hey, there's something awesome here! To see it, open this notebook outside GitHub, in a viewer like Jupyter</em></div>\n",
       "        <div class=\"pd_save is-viewer-good\" style=\"padding-right:10px;text-align: center;line-height:initial !important;font-size: xx-large;font-weight: 500;color: coral;\">\n",
       "             number of casualties in rural area vs urban area \n",
       "        </div>\n",
       "    <div id=\"chartFigure218cc8d8\" class=\"pd_save is-viewer-good\" style=\"overflow-x:auto\">\n",
       "            \n",
       "                    \n",
       "                            <center><img style=\"max-width:initial !important\" src=\"data:image/png;base64,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\" class=\"pd_save\"></center>\n",
       "                        \n",
       "                    \n",
       "                \n",
       "        </div>"
      ],
      "text/plain": [
       "<IPython.core.display.HTML object>"
      ]
     },
     "metadata": {},
     "output_type": "display_data"
    }
   ],
   "source": [
    "#Bar chart visual number of casualties in rural area vs urban area \n",
    "display(combined_df)"
   ]
  },
  {
   "cell_type": "markdown",
   "metadata": {},
   "source": [
    "# Geographical analysis"
   ]
  },
  {
   "cell_type": "code",
   "execution_count": 53,
   "metadata": {},
   "outputs": [],
   "source": [
    "#Accdient Geographical table for visualisation\n",
    "accidentGeo = sqlContext.sql(\"select longitude, latitude, Date, Day_of_Week, road_surface_conditions, sex_of_driver, road_type, number_of_casualties,count(*) as Count from table_combined group \\\n",
    "by longitude, latitude, Date, Day_of_Week, road_surface_conditions, sex_of_driver, road_type, number_of_casualties\").orderBy(desc('count'))"
   ]
  },
  {
   "cell_type": "code",
   "execution_count": 54,
   "metadata": {
    "pixiedust": {
     "displayParams": {
      "basemap": "dark-v9",
      "chartsize": "87",
      "coloropacity": "81",
      "handlerId": "mapView",
      "keyFields": "latitude,longitude",
      "kind": "densitymap",
      "mapboxtoken": "pk.eyJ1IjoibWFwYm94IiwiYSI6ImNpejY4M29iazA2Z2gycXA4N2pmbDZmangifQ.-g_vE53SD2WrJ6tFX7QHmA",
      "valueFields": "Day_of_Week,number_of_casualties,road_surface_conditions,road_type,sex_of_driver"
     }
    }
   },
   "outputs": [
    {
     "data": {
      "text/html": [
       "<style type=\"text/css\">.pd_warning{display:none;}</style><div class=\"pd_warning\"><em>Hey, there's something awesome here! To see it, open this notebook outside GitHub, in a viewer like Jupyter</em></div>\n",
       "        <div class=\"pd_save is-viewer-good\" style=\"padding-right:10px;text-align: center;line-height:initial !important;font-size: xx-large;font-weight: 500;color: coral;\">\n",
       "            \n",
       "        </div>\n",
       "    <div id=\"chartFigurefdffa589\" class=\"pd_save is-viewer-good\" style=\"overflow-x:auto\">\n",
       "            <script>\n",
       "  window.iframeLoaded = window.iframeLoaded || function(iframe) {\n",
       "    try {\n",
       "      iframe.contentWindow.pdMessageListeners = [];\n",
       "      iframe.contentWindow[\"addPDMessageListener\"] = function(listener){\n",
       "        iframe.contentWindow.pdMessageListeners.push(listener);\n",
       "      }\n",
       "      iframe.contentWindow.addEventListener(\"message\", function(event){\n",
       "        iframe.contentWindow.pdMessageListeners.forEach(function(listener){\n",
       "          listener(event);\n",
       "        });\n",
       "      }, false);\n",
       "      iframe.contentWindow.ready = true;\n",
       "      iframe.contentWindow[\"triggerPDEvent\"] = function(eventInfo) {\n",
       "        $(document).trigger('pd_event', eventInfo);\n",
       "      }\n",
       "    } catch (e) {\n",
       "      console.log(e)\n",
       "    }\n",
       "  }\n",
       "\n",
       "  \n",
       "</script>\n",
       "<iframe id=\"mapframefdffa589\" style=\"width:764.2080000000001px;height:500px\" srcdoc=\"<!DOCTYPE html>\n",
       "<html lang=&quot;en&quot;>\n",
       "<head>\n",
       "    <meta charset=&quot;UTF-8&quot;>\n",
       "    <meta name=&quot;viewport&quot; content=&quot;width=device-width, initial-scale=1&quot;>\n",
       "    <title>Pixiedust Mapbox map</title>\n",
       "    <script src=&quot;https://api.tiles.mapbox.com/mapbox-gl-js/v0.32.1/mapbox-gl.js&quot;></script>\n",
       "    <link href=&quot;https://api.tiles.mapbox.com/mapbox-gl-js/v0.32.1/mapbox-gl.css&quot; rel=&quot;stylesheet&quot; />\n",
       "    <style>\n",
       "    .mapboxgl-popup-content h3 { \n",
       "        margin: 2px 0 2px 0;\n",
       "        font-style: italic;\n",
       "    }\n",
       "    .mapboxgl-popup {\n",
       "        max-width: 200px;\n",
       "    }\n",
       "    #map canvas {\n",
       "        cursor: crosshair;\n",
       "    }\n",
       "    .legend {\n",
       "        background-color: rgba(255,255,255, 0.75);\n",
       "        border-radius: 3px;\n",
       "        position: absolute;\n",
       "        left: 14px;\n",
       "        top: 14px;\n",
       "        box-shadow: 0 1px 2px rgba(0,0,0,0.10);\n",
       "        font-size: 12px;\n",
       "        line-height: 18px;\n",
       "        padding: 10px;\n",
       "        z-index: 1;\n",
       "    }\n",
       "    .legend h4 {\n",
       "        margin: 0 0 10px;\n",
       "    }\n",
       "    .legend div span {\n",
       "        border-radius: 50%;\n",
       "        display: inline-block;\n",
       "        height: 10px;\n",
       "        margin-right: 5px;\n",
       "        width: 10px;\n",
       "    }\n",
       "    body { \n",
       "        background-color:#333; \n",
       "        margin:0px !important; \n",
       "        overflow: hidden;\n",
       "        font-family: &quot;Helvetica Neue&quot;, Arial, Helvetica, sans-serif;\n",
       "    }\n",
       "    </style>\n",
       "</head>\n",
       "<body>\n",
       "<div id=&quot;map-fdffa589-8c31e9ef&quot; style=&quot;width:calc(764.2080000000001px - 4px);height:calc(500px - 4px)&quot; />\n",
       "\n",
       "\n",
       "<script>\n",
       "    !function(e){if(&quot;object&quot;==typeof exports&amp;&amp;&quot;undefined&quot;!=typeof module)module.exports=e();else if(&quot;function&quot;==typeof define&amp;&amp;define.amd)define([],e);else{var n;&quot;undefined&quot;!=typeof window?n=window:&quot;undefined&quot;!=typeof global?n=global:&quot;undefined&quot;!=typeof self&amp;&amp;(n=self),n.geojsonExtent=e()}}(function(){return function e(t,n,r){function s(o,u){if(!n[o]){if(!t[o]){var a=&quot;function&quot;==typeof require&amp;&amp;require;if(!u&amp;&amp;a)return a(o,!0);if(i)return i(o,!0);var f=new Error(&quot;Cannot find module &quot;+o+&quot;&quot;);throw f.code=&quot;MODULE_NOT_FOUND&quot;,f}var l=n[o]={exports:{}};t[o][0].call(l.exports,function(e){var n=t[o][1][e];return s(n?n:e)},l,l.exports,e,t,n,r)}return n[o].exports}for(var i=&quot;function&quot;==typeof require&amp;&amp;require,o=0;o<r.length;o++)s(r[o]);return s}({1:[function(require,module){function getExtent(_){for(var ext=extent(),coords=geojsonCoords(_),i=0;i<coords.length;i++)ext.include(coords[i]);return ext}var geojsonCoords=require(&quot;geojson-coords&quot;),traverse=require(&quot;traverse&quot;),extent=require(&quot;extent&quot;),geojsonTypes=[&quot;Point&quot;,&quot;MultiPoint&quot;,&quot;LineString&quot;,&quot;MultiLineString&quot;,&quot;Polygon&quot;,&quot;MultiPolygon&quot;,&quot;Feature&quot;,&quot;FeatureCollection&quot;,&quot;GeometryCollection&quot;];module.exports=function(_){return getExtent(_).bbox()},module.exports.polygon=function(_){return getExtent(_).polygon()},module.exports.bboxify=function(_){return traverse(_).map(function(value){value&amp;&amp;-1!==typeof geojsonTypes.indexOf(value.type)&amp;&amp;(console.log(value.type,value),value.bbox=getExtent(value).bbox(),this.update(value))})}},{extent:2,&quot;geojson-coords&quot;:4,traverse:7}],2:[function(require,module){function Extent(){return this instanceof Extent?(this._bbox=[1/0,1/0,-(1/0),-(1/0)],void(this._valid=!1)):new Extent}module.exports=Extent,Extent.prototype.include=function(ll){return this._valid=!0,this._bbox[0]=Math.min(this._bbox[0],ll[0]),this._bbox[1]=Math.min(this._bbox[1],ll[1]),this._bbox[2]=Math.max(this._bbox[2],ll[0]),this._bbox[3]=Math.max(this._bbox[3],ll[1]),this},Extent.prototype.union=function(other){return this._valid=!0,this._bbox[0]=Math.min(this._bbox[0],other[0]),this._bbox[1]=Math.min(this._bbox[1],other[1]),this._bbox[2]=Math.max(this._bbox[2],other[2]),this._bbox[3]=Math.max(this._bbox[3],other[3]),this},Extent.prototype.bbox=function(){return this._valid?this._bbox:null},Extent.prototype.contains=function(ll){return this._valid?this._bbox[0]<=ll[0]&amp;&amp;this._bbox[1]<=ll[1]&amp;&amp;this._bbox[2]>=ll[0]&amp;&amp;this._bbox[3]>=ll[1]:null},Extent.prototype.polygon=function(){return this._valid?{type:&quot;Polygon&quot;,coordinates:[[[this._bbox[0],this._bbox[1]],[this._bbox[2],this._bbox[1]],[this._bbox[2],this._bbox[3]],[this._bbox[0],this._bbox[3]],[this._bbox[0],this._bbox[1]]]]}:null}},{}],3:[function(require,module){module.exports=function(list){function _flatten(list){return Array.isArray(list)&amp;&amp;list.length&amp;&amp;&quot;number&quot;==typeof list[0]?[list]:list.reduce(function(acc,item){return Array.isArray(item)&amp;&amp;Array.isArray(item[0])?acc.concat(_flatten(item)):(acc.push(item),acc)},[])}return _flatten(list)}},{}],4:[function(require,module){var geojsonNormalize=require(&quot;geojson-normalize&quot;),geojsonFlatten=require(&quot;geojson-flatten&quot;),flatten=require(&quot;./flatten&quot;);module.exports=function(_){if(!_)return[];var normalized=geojsonFlatten(geojsonNormalize(_)),coordinates=[];return normalized.features.forEach(function(feature){feature.geometry&amp;&amp;(coordinates=coordinates.concat(flatten(feature.geometry.coordinates)))}),coordinates}},{&quot;./flatten&quot;:3,&quot;geojson-flatten&quot;:5,&quot;geojson-normalize&quot;:6}],5:[function(require,module){function flatten(gj){switch(gj&amp;&amp;gj.type||null){case&quot;FeatureCollection&quot;:return gj.features=gj.features.reduce(function(mem,feature){return mem.concat(flatten(feature))},[]),gj;case&quot;Feature&quot;:return flatten(gj.geometry).map(function(geom){return{type:&quot;Feature&quot;,properties:JSON.parse(JSON.stringify(gj.properties)),geometry:geom}});case&quot;MultiPoint&quot;:return gj.coordinates.map(function(_){return{type:&quot;Point&quot;,coordinates:_}});case&quot;MultiPolygon&quot;:return gj.coordinates.map(function(_){return{type:&quot;Polygon&quot;,coordinates:_}});case&quot;MultiLineString&quot;:return gj.coordinates.map(function(_){return{type:&quot;LineString&quot;,coordinates:_}});case&quot;GeometryCollection&quot;:return gj.geometries;case&quot;Point&quot;:case&quot;Polygon&quot;:case&quot;LineString&quot;:return[gj];default:return gj}}module.exports=flatten},{}],6:[function(require,module){function normalize(gj){if(!gj||!gj.type)return null;var type=types[gj.type];return type?&quot;geometry&quot;===type?{type:&quot;FeatureCollection&quot;,features:[{type:&quot;Feature&quot;,properties:{},geometry:gj}]}:&quot;feature&quot;===type?{type:&quot;FeatureCollection&quot;,features:[gj]}:&quot;featurecollection&quot;===type?gj:void 0:null}module.exports=normalize;var types={Point:&quot;geometry&quot;,MultiPoint:&quot;geometry&quot;,LineString:&quot;geometry&quot;,MultiLineString:&quot;geometry&quot;,Polygon:&quot;geometry&quot;,MultiPolygon:&quot;geometry&quot;,GeometryCollection:&quot;geometry&quot;,Feature:&quot;feature&quot;,FeatureCollection:&quot;featurecollection&quot;}},{}],7:[function(require,module){function Traverse(obj){this.value=obj}function walk(root,cb,immutable){var path=[],parents=[],alive=!0;return function walker(node_){function updateState(){if(&quot;object&quot;==typeof state.node&amp;&amp;null!==state.node){state.keys&amp;&amp;state.node_===state.node||(state.keys=objectKeys(state.node)),state.isLeaf=0==state.keys.length;for(var i=0;i<parents.length;i++)if(parents[i].node_===node_){state.circular=parents[i];break}}else state.isLeaf=!0,state.keys=null;state.notLeaf=!state.isLeaf,state.notRoot=!state.isRoot}var node=immutable?copy(node_):node_,modifiers={},keepGoing=!0,state={node:node,node_:node_,path:[].concat(path),parent:parents[parents.length-1],parents:parents,key:path.slice(-1)[0],isRoot:0===path.length,level:path.length,circular:null,update:function(x,stopHere){state.isRoot||(state.parent.node[state.key]=x),state.node=x,stopHere&amp;&amp;(keepGoing=!1)},&quot;delete&quot;:function(stopHere){delete state.parent.node[state.key],stopHere&amp;&amp;(keepGoing=!1)},remove:function(stopHere){isArray(state.parent.node)?state.parent.node.splice(state.key,1):delete state.parent.node[state.key],stopHere&amp;&amp;(keepGoing=!1)},keys:null,before:function(f){modifiers.before=f},after:function(f){modifiers.after=f},pre:function(f){modifiers.pre=f},post:function(f){modifiers.post=f},stop:function(){alive=!1},block:function(){keepGoing=!1}};if(!alive)return state;updateState();var ret=cb.call(state,state.node);return void 0!==ret&amp;&amp;state.update&amp;&amp;state.update(ret),modifiers.before&amp;&amp;modifiers.before.call(state,state.node),keepGoing?(&quot;object&quot;!=typeof state.node||null===state.node||state.circular||(parents.push(state),updateState(),forEach(state.keys,function(key,i){path.push(key),modifiers.pre&amp;&amp;modifiers.pre.call(state,state.node[key],key);var child=walker(state.node[key]);immutable&amp;&amp;hasOwnProperty.call(state.node,key)&amp;&amp;(state.node[key]=child.node),child.isLast=i==state.keys.length-1,child.isFirst=0==i,modifiers.post&amp;&amp;modifiers.post.call(state,child),path.pop()}),parents.pop()),modifiers.after&amp;&amp;modifiers.after.call(state,state.node),state):state}(root).node}function copy(src){if(&quot;object&quot;==typeof src&amp;&amp;null!==src){var dst;if(isArray(src))dst=[];else if(isDate(src))dst=new Date(src.getTime?src.getTime():src);else if(isRegExp(src))dst=new RegExp(src);else if(isError(src))dst={message:src.message};else if(isBoolean(src))dst=new Boolean(src);else if(isNumber(src))dst=new Number(src);else if(isString(src))dst=new String(src);else if(Object.create&amp;&amp;Object.getPrototypeOf)dst=Object.create(Object.getPrototypeOf(src));else if(src.constructor===Object)dst={};else{var proto=src.constructor&amp;&amp;src.constructor.prototype||src.__proto__||{},T=function(){};T.prototype=proto,dst=new T}return forEach(objectKeys(src),function(key){dst[key]=src[key]}),dst}return src}function toS(obj){return Object.prototype.toString.call(obj)}function isDate(obj){return&quot;[object Date]&quot;===toS(obj)}function isRegExp(obj){return&quot;[object RegExp]&quot;===toS(obj)}function isError(obj){return&quot;[object Error]&quot;===toS(obj)}function isBoolean(obj){return&quot;[object Boolean]&quot;===toS(obj)}function isNumber(obj){return&quot;[object Number]&quot;===toS(obj)}function isString(obj){return&quot;[object String]&quot;===toS(obj)}var traverse=module.exports=function(obj){return new Traverse(obj)};Traverse.prototype.get=function(ps){for(var node=this.value,i=0;i<ps.length;i++){var key=ps[i];if(!node||!hasOwnProperty.call(node,key)){node=void 0;break}node=node[key]}return node},Traverse.prototype.has=function(ps){for(var node=this.value,i=0;i<ps.length;i++){var key=ps[i];if(!node||!hasOwnProperty.call(node,key))return!1;node=node[key]}return!0},Traverse.prototype.set=function(ps,value){for(var node=this.value,i=0;i<ps.length-1;i++){var key=ps[i];hasOwnProperty.call(node,key)||(node[key]={}),node=node[key]}return node[ps[i]]=value,value},Traverse.prototype.map=function(cb){return walk(this.value,cb,!0)},Traverse.prototype.forEach=function(cb){return this.value=walk(this.value,cb,!1),this.value},Traverse.prototype.reduce=function(cb,init){var skip=1===arguments.length,acc=skip?this.value:init;return this.forEach(function(x){this.isRoot&amp;&amp;skip||(acc=cb.call(this,acc,x))}),acc},Traverse.prototype.paths=function(){var acc=[];return this.forEach(function(){acc.push(this.path)}),acc},Traverse.prototype.nodes=function(){var acc=[];return this.forEach(function(){acc.push(this.node)}),acc},Traverse.prototype.clone=function(){var parents=[],nodes=[];return function clone(src){for(var i=0;i<parents.length;i++)if(parents[i]===src)return nodes[i];if(&quot;object&quot;==typeof src&amp;&amp;null!==src){var dst=copy(src);return parents.push(src),nodes.push(dst),forEach(objectKeys(src),function(key){dst[key]=clone(src[key])}),parents.pop(),nodes.pop(),dst}return src}(this.value)};var objectKeys=Object.keys||function(obj){var res=[];for(var key in obj)res.push(key);return res},isArray=Array.isArray||function(xs){return&quot;[object Array]&quot;===Object.prototype.toString.call(xs)},forEach=function(xs,fn){if(xs.forEach)return xs.forEach(fn);for(var i=0;i<xs.length;i++)fn(xs[i],i,xs)};forEach(objectKeys(Traverse.prototype),function(key){traverse[key]=function(obj){var args=[].slice.call(arguments,1),t=new Traverse(obj);return t[key].apply(t,args)}});var hasOwnProperty=Object.hasOwnProperty||function(obj,key){return key in obj}},{}]},{},[1])(1)});    \n",
       "    var comment = &quot;&quot;;\n",
       "    mapboxgl.accessToken=&quot;pk.eyJ1IjoibWFwYm94IiwiYSI6ImNpejY4M29iazA2Z2gycXA4N2pmbDZmangifQ.-g_vE53SD2WrJ6tFX7QHmA&quot;;\n",
       "    var mapdata = null;\n",
       "    var map = new mapboxgl.Map({\n",
       "        container: &quot;map-fdffa589-8c31e9ef&quot;,\n",
       "        style: &quot;mapbox://styles/mapbox/dark-v9&quot;\n",
       "    });\n",
       "\n",
       "    setTimeout(function(){\n",
       "        if (window.addPDMessageListener){\n",
       "            window.addPDMessageListener(function(event){\n",
       "                streamingLayer = map.getSource(&quot;streamingLayer&quot;);\n",
       "                if (streamingLayer){\n",
       "                    streamingLayer.setData(event.data.data);\n",
       "                }else{\n",
       "                    map.addLayer({\n",
       "                        &quot;id&quot;: &quot;streamingLayer&quot;,\n",
       "                        &quot;maptype&quot;: &quot;mapbox&quot;,\n",
       "                        &quot;type&quot;: event.data.type,\n",
       "                        &quot;source&quot;: { type: &quot;geojson&quot;, data: event.data.data },\n",
       "                        &quot;layout&quot;: event.data.layout || {},\n",
       "                        &quot;paint&quot;: event.data.paint || {}\n",
       "                    });\n",
       "                    if (event.data.fitbounds &amp;&amp; event.data.data.features){\n",
       "                        function updateBounds(res, ar){\n",
       "                            if (ar[0].length >=2 &amp;&amp; ar[1].length >= 2 ){\n",
       "                                if (!res){\n",
       "                                    return ar;\n",
       "                                }\n",
       "                                return [ \n",
       "                                    [Math.min( ar[0][0]-0.1, res[0][0]), Math.min( ar[0][1]-0.1, res[0][1])],\n",
       "                                    [Math.max( ar[1][0]+0.1, res[1][0]), Math.max( ar[1][1]+0.1, res[1][1])]\n",
       "                                ]\n",
       "                            }\n",
       "                            return null;\n",
       "                        }\n",
       "                        var bbox = event.data.data.features.reduce(function(res, value){\n",
       "                            var coord = value.geometry.coordinates;\n",
       "                            if (coord.length >= 2 ){\n",
       "                                res = updateBounds( res, [coord[0], coord[1]]);\n",
       "                            }\n",
       "                            return res;\n",
       "                        }, null);\n",
       "                        if (bbox){\n",
       "                            map.fitBounds(bbox);\n",
       "                        }\n",
       "                    }\n",
       "                }\n",
       "            });\n",
       "        };\n",
       "    },100);\n",
       "\n",
       "    var popup = new mapboxgl.Popup({closeButton: false,closeOnClick: true});\n",
       "\n",
       "    function divineGeometryType(mapdata) {\n",
       "        comment = &quot;check type of first geometry. Later expand to check all geometries and make a good decision&quot;;\n",
       "        return mapdata.features[0].geometry.type;\n",
       "    }\n",
       "    \n",
       "    map.on(&quot;mousemove&quot;, function (e) {\n",
       "        var fs = map.queryRenderedFeatures(e.point,{layers:[&quot;pxlayer&quot;]});\n",
       "        if (!fs || !fs.length) {popup.remove();return;};\n",
       "        popuphtml = &quot;&quot;;\n",
       "        var hr = false;\n",
       "        fs.forEach(function(f){\n",
       "            if (hr){ \n",
       "                popuphtml += &quot;<hr>\\n&quot;;\n",
       "            }\n",
       "            hr=true;\n",
       "            popuphtml += &quot;<h3>&quot;+f.layer.id.toUpperCase()+&quot;</h3>\\n&quot;;\n",
       "            var keylength = Object.keys(f.properties).length;\n",
       "            for (var key in f.properties) {\n",
       "                popuphtml += &quot;<b>&quot;+key+&quot;: </b> &quot;+f.properties[key]+&quot;<br/>\\n&quot;;\n",
       "            }\n",
       "        });\n",
       "        popup.setLngLat(e.lngLat).setHTML(popuphtml).addTo(map);\n",
       "    });\n",
       "    \n",
       "    map.on(&quot;click&quot;, function (e) {\n",
       "        var fs = map.queryRenderedFeatures(e.point, { layers: [&quot;pxlayer&quot;] });\n",
       "        if (fs &amp;&amp; fs.length) {\n",
       "            var f = fs[0];\n",
       "            console.log(&quot;clicked&quot;, f);\n",
       "            var keylength = Object.keys(f.properties).length;\n",
       "            var payload = {type:&quot;select&quot;, targetDivId: &quot;&quot; };\n",
       "\n",
       "            for (var key in f.properties) {\n",
       "                payload[key] = f.properties[key];\n",
       "            }\n",
       "\n",
       "            if (window.triggerPDEvent) {\n",
       "                window.triggerPDEvent(payload);\n",
       "            }\n",
       "        }\n",
       "    });\n",
       "        \n",
       "    map.on(&quot;load&quot;, function() {\n",
       "        \n",
       "        mapdata={&quot;type&quot;: &quot;FeatureCollection&quot;, &quot;features&quot;: [{&quot;type&quot;: &quot;Feature&quot;, &quot;properties&quot;: {&quot;number_of_casualties&quot;: 1, &quot;Day_of_Week&quot;: &quot;Tuesday&quot;, &quot;road_surface_conditions&quot;: &quot;Wet or damp&quot;, &quot;road_type&quot;: &quot;Single carriageway&quot;, &quot;sex_of_driver&quot;: &quot;Male&quot;}, &quot;geometry&quot;: {&quot;type&quot;: &quot;Point&quot;, &quot;coordinates&quot;: [&quot;-4.177761&quot;, &quot;50.368753&quot;]}}, {&quot;type&quot;: &quot;Feature&quot;, &quot;properties&quot;: {&quot;number_of_casualties&quot;: 2, &quot;Day_of_Week&quot;: &quot;Saturday&quot;, &quot;road_surface_conditions&quot;: &quot;Dry&quot;, &quot;road_type&quot;: &quot;Single carriageway&quot;, &quot;sex_of_driver&quot;: &quot;Female&quot;}, &quot;geometry&quot;: {&quot;type&quot;: &quot;Point&quot;, &quot;coordinates&quot;: [&quot;0.555919&quot;, &quot;50.890261&quot;]}}, {&quot;type&quot;: &quot;Feature&quot;, &quot;properties&quot;: {&quot;number_of_casualties&quot;: 3, &quot;Day_of_Week&quot;: &quot;Tuesday&quot;, &quot;road_surface_conditions&quot;: &quot;Wet or damp&quot;, &quot;road_type&quot;: &quot;Single carriageway&quot;, &quot;sex_of_driver&quot;: &quot;Female&quot;}, &quot;geometry&quot;: {&quot;type&quot;: &quot;Point&quot;, &quot;coordinates&quot;: [&quot;-2.128767&quot;, &quot;51.004168&quot;]}}, {&quot;type&quot;: &quot;Feature&quot;, &quot;properties&quot;: {&quot;number_of_casualties&quot;: 3, &quot;Day_of_Week&quot;: &quot;Saturday&quot;, &quot;road_surface_conditions&quot;: &quot;Dry&quot;, &quot;road_type&quot;: &quot;Single carriageway&quot;, &quot;sex_of_driver&quot;: &quot;Unknow&quot;}, &quot;geometry&quot;: {&quot;type&quot;: &quot;Point&quot;, &quot;coordinates&quot;: [&quot;-0.22072&quot;, &quot;51.101373&quot;]}}, {&quot;type&quot;: &quot;Feature&quot;, &quot;properties&quot;: {&quot;number_of_casualties&quot;: 1, &quot;Day_of_Week&quot;: &quot;Saturday&quot;, &quot;road_surface_conditions&quot;: &quot;Dry&quot;, &quot;road_type&quot;: &quot;Dual carriageway&quot;, &quot;sex_of_driver&quot;: &quot;Female&quot;}, &quot;geometry&quot;: {&quot;type&quot;: &quot;Point&quot;, &quot;coordinates&quot;: [&quot;-0.013421&quot;, &quot;51.26887&quot;]}}, {&quot;type&quot;: &quot;Feature&quot;, &quot;properties&quot;: {&quot;number_of_casualties&quot;: 2, &quot;Day_of_Week&quot;: &quot;Sunday&quot;, &quot;road_surface_conditions&quot;: &quot;Wet or damp&quot;, &quot;road_type&quot;: &quot;Dual carriageway&quot;, &quot;sex_of_driver&quot;: &quot;Male&quot;}, &quot;geometry&quot;: {&quot;type&quot;: &quot;Point&quot;, &quot;coordinates&quot;: [&quot;0.324785&quot;, &quot;51.308714&quot;]}}, {&quot;type&quot;: &quot;Feature&quot;, &quot;properties&quot;: {&quot;number_of_casualties&quot;: 1, &quot;Day_of_Week&quot;: &quot;Sunday&quot;, &quot;road_surface_conditions&quot;: &quot;Frost or ice&quot;, &quot;road_type&quot;: &quot;Single carriageway&quot;, &quot;sex_of_driver&quot;: &quot;Male&quot;}, &quot;geometry&quot;: {&quot;type&quot;: &quot;Point&quot;, &quot;coordinates&quot;: [&quot;0.431686&quot;, &quot;51.309826&quot;]}}, {&quot;type&quot;: &quot;Feature&quot;, &quot;properties&quot;: {&quot;number_of_casualties&quot;: 1, &quot;Day_of_Week&quot;: &quot;Tuesday&quot;, &quot;road_surface_conditions&quot;: &quot;Dry&quot;, &quot;road_type&quot;: &quot;Slip road&quot;, &quot;sex_of_driver&quot;: &quot;Male&quot;}, &quot;geometry&quot;: {&quot;type&quot;: &quot;Point&quot;, &quot;coordinates&quot;: [&quot;0.192107&quot;, &quot;51.387033&quot;]}}, {&quot;type&quot;: &quot;Feature&quot;, &quot;properties&quot;: {&quot;number_of_casualties&quot;: 1, &quot;Day_of_Week&quot;: &quot;Thursday&quot;, &quot;road_surface_conditions&quot;: &quot;Wet or damp&quot;, &quot;road_type&quot;: &quot;Roundabout&quot;, &quot;sex_of_driver&quot;: &quot;Male&quot;}, &quot;geometry&quot;: {&quot;type&quot;: &quot;Point&quot;, &quot;coordinates&quot;: [&quot;-0.158729&quot;, &quot;51.398161&quot;]}}, {&quot;type&quot;: &quot;Feature&quot;, &quot;properties&quot;: {&quot;number_of_casualties&quot;: 1, &quot;Day_of_Week&quot;: &quot;Friday&quot;, &quot;road_surface_conditions&quot;: &quot;Dry&quot;, &quot;road_type&quot;: &quot;Single carriageway&quot;, &quot;sex_of_driver&quot;: &quot;Male&quot;}, &quot;geometry&quot;: {&quot;type&quot;: &quot;Point&quot;, &quot;coordinates&quot;: [&quot;-0.117036&quot;, &quot;51.39928&quot;]}}, {&quot;type&quot;: &quot;Feature&quot;, &quot;properties&quot;: {&quot;number_of_casualties&quot;: 1, &quot;Day_of_Week&quot;: &quot;Wednesday&quot;, &quot;road_surface_conditions&quot;: &quot;Dry&quot;, &quot;road_type&quot;: &quot;Single carriageway&quot;, &quot;sex_of_driver&quot;: &quot;Unknow&quot;}, &quot;geometry&quot;: {&quot;type&quot;: &quot;Point&quot;, &quot;coordinates&quot;: [&quot;-0.377292&quot;, &quot;51.400834&quot;]}}, {&quot;type&quot;: &quot;Feature&quot;, &quot;properties&quot;: {&quot;number_of_casualties&quot;: 2, &quot;Day_of_Week&quot;: &quot;Thursday&quot;, &quot;road_surface_conditions&quot;: &quot;Dry&quot;, &quot;road_type&quot;: &quot;Single carriageway&quot;, &quot;sex_of_driver&quot;: &quot;Male&quot;}, &quot;geometry&quot;: {&quot;type&quot;: &quot;Point&quot;, &quot;coordinates&quot;: [&quot;-0.013303&quot;, &quot;51.428646&quot;]}}, {&quot;type&quot;: &quot;Feature&quot;, &quot;properties&quot;: {&quot;number_of_casualties&quot;: 1, &quot;Day_of_Week&quot;: &quot;Tuesday&quot;, &quot;road_surface_conditions&quot;: &quot;Dry&quot;, &quot;road_type&quot;: &quot;Single carriageway&quot;, &quot;sex_of_driver&quot;: &quot;Unknow&quot;}, &quot;geometry&quot;: {&quot;type&quot;: &quot;Point&quot;, &quot;coordinates&quot;: [&quot;-0.219455&quot;, &quot;51.455493&quot;]}}, {&quot;type&quot;: &quot;Feature&quot;, &quot;properties&quot;: {&quot;number_of_casualties&quot;: 1, &quot;Day_of_Week&quot;: &quot;Thursday&quot;, &quot;road_surface_conditions&quot;: &quot;Dry&quot;, &quot;road_type&quot;: &quot;Dual carriageway&quot;, &quot;sex_of_driver&quot;: &quot;Male&quot;}, &quot;geometry&quot;: {&quot;type&quot;: &quot;Point&quot;, &quot;coordinates&quot;: [&quot;-0.188176&quot;, &quot;51.465328&quot;]}}, {&quot;type&quot;: &quot;Feature&quot;, &quot;properties&quot;: {&quot;number_of_casualties&quot;: 1, &quot;Day_of_Week&quot;: &quot;Wednesday&quot;, &quot;road_surface_conditions&quot;: &quot;Wet or damp&quot;, &quot;road_type&quot;: &quot;Single carriageway&quot;, &quot;sex_of_driver&quot;: &quot;Male&quot;}, &quot;geometry&quot;: {&quot;type&quot;: &quot;Point&quot;, &quot;coordinates&quot;: [&quot;-0.211496&quot;, &quot;51.472053&quot;]}}, {&quot;type&quot;: &quot;Feature&quot;, &quot;properties&quot;: {&quot;number_of_casualties&quot;: 1, &quot;Day_of_Week&quot;: &quot;Thursday&quot;, &quot;road_surface_conditions&quot;: &quot;Wet or damp&quot;, &quot;road_type&quot;: &quot;Single carriageway&quot;, &quot;sex_of_driver&quot;: &quot;Male&quot;}, &quot;geometry&quot;: {&quot;type&quot;: &quot;Point&quot;, &quot;coordinates&quot;: [&quot;-0.075715&quot;, &quot;51.528383&quot;]}}, {&quot;type&quot;: &quot;Feature&quot;, &quot;properties&quot;: {&quot;number_of_casualties&quot;: 2, &quot;Day_of_Week&quot;: &quot;Wednesday&quot;, &quot;road_surface_conditions&quot;: &quot;Dry&quot;, &quot;road_type&quot;: &quot;Single carriageway&quot;, &quot;sex_of_driver&quot;: &quot;Unknow&quot;}, &quot;geometry&quot;: {&quot;type&quot;: &quot;Point&quot;, &quot;coordinates&quot;: [&quot;0.116467&quot;, &quot;51.534299&quot;]}}, {&quot;type&quot;: &quot;Feature&quot;, &quot;properties&quot;: {&quot;number_of_casualties&quot;: 1, &quot;Day_of_Week&quot;: &quot;Sunday&quot;, &quot;road_surface_conditions&quot;: &quot;Dry&quot;, &quot;road_type&quot;: &quot;Single carriageway&quot;, &quot;sex_of_driver&quot;: &quot;Unknow&quot;}, &quot;geometry&quot;: {&quot;type&quot;: &quot;Point&quot;, &quot;coordinates&quot;: [&quot;0.657437&quot;, &quot;51.54412&quot;]}}, {&quot;type&quot;: &quot;Feature&quot;, &quot;properties&quot;: {&quot;number_of_casualties&quot;: 1, &quot;Day_of_Week&quot;: &quot;Tuesday&quot;, &quot;road_surface_conditions&quot;: &quot;Dry&quot;, &quot;road_type&quot;: &quot;Dual carriageway&quot;, &quot;sex_of_driver&quot;: &quot;Male&quot;}, &quot;geometry&quot;: {&quot;type&quot;: &quot;Point&quot;, &quot;coordinates&quot;: [&quot;-1.807492&quot;, &quot;51.567569&quot;]}}, {&quot;type&quot;: &quot;Feature&quot;, &quot;properties&quot;: {&quot;number_of_casualties&quot;: 2, &quot;Day_of_Week&quot;: &quot;Friday&quot;, &quot;road_surface_conditions&quot;: &quot;Dry&quot;, &quot;road_type&quot;: &quot;Single carriageway&quot;, &quot;sex_of_driver&quot;: &quot;Male&quot;}, &quot;geometry&quot;: {&quot;type&quot;: &quot;Point&quot;, &quot;coordinates&quot;: [&quot;-0.098065&quot;, &quot;51.569107&quot;]}}, {&quot;type&quot;: &quot;Feature&quot;, &quot;properties&quot;: {&quot;number_of_casualties&quot;: 1, &quot;Day_of_Week&quot;: &quot;Monday&quot;, &quot;road_surface_conditions&quot;: &quot;Dry&quot;, &quot;road_type&quot;: &quot;Single carriageway&quot;, &quot;sex_of_driver&quot;: &quot;Male&quot;}, &quot;geometry&quot;: {&quot;type&quot;: &quot;Point&quot;, &quot;coordinates&quot;: [&quot;-0.322484&quot;, &quot;51.570119&quot;]}}, {&quot;type&quot;: &quot;Feature&quot;, &quot;properties&quot;: {&quot;number_of_casualties&quot;: 1, &quot;Day_of_Week&quot;: &quot;Tuesday&quot;, &quot;road_surface_conditions&quot;: &quot;Dry&quot;, &quot;road_type&quot;: &quot;Single carriageway&quot;, &quot;sex_of_driver&quot;: &quot;Unknow&quot;}, &quot;geometry&quot;: {&quot;type&quot;: &quot;Point&quot;, &quot;coordinates&quot;: [&quot;-0.310896&quot;, &quot;51.599681&quot;]}}, {&quot;type&quot;: &quot;Feature&quot;, &quot;properties&quot;: {&quot;number_of_casualties&quot;: 5, &quot;Day_of_Week&quot;: &quot;Wednesday&quot;, &quot;road_surface_conditions&quot;: &quot;Dry&quot;, &quot;road_type&quot;: &quot;Single carriageway&quot;, &quot;sex_of_driver&quot;: &quot;Unknow&quot;}, &quot;geometry&quot;: {&quot;type&quot;: &quot;Point&quot;, &quot;coordinates&quot;: [&quot;-3.419018&quot;, &quot;51.603898&quot;]}}, {&quot;type&quot;: &quot;Feature&quot;, &quot;properties&quot;: {&quot;number_of_casualties&quot;: 1, &quot;Day_of_Week&quot;: &quot;Thursday&quot;, &quot;road_surface_conditions&quot;: &quot;Dry&quot;, &quot;road_type&quot;: &quot;Single carriageway&quot;, &quot;sex_of_driver&quot;: &quot;Unknow&quot;}, &quot;geometry&quot;: {&quot;type&quot;: &quot;Point&quot;, &quot;coordinates&quot;: [&quot;-0.12776&quot;, &quot;51.637603&quot;]}}, {&quot;type&quot;: &quot;Feature&quot;, &quot;properties&quot;: {&quot;number_of_casualties&quot;: 1, &quot;Day_of_Week&quot;: &quot;Monday&quot;, &quot;road_surface_conditions&quot;: &quot;Wet or damp&quot;, &quot;road_type&quot;: &quot;Single carriageway&quot;, &quot;sex_of_driver&quot;: &quot;Male&quot;}, &quot;geometry&quot;: {&quot;type&quot;: &quot;Point&quot;, &quot;coordinates&quot;: [&quot;-1.844186&quot;, &quot;51.642271&quot;]}}, {&quot;type&quot;: &quot;Feature&quot;, &quot;properties&quot;: {&quot;number_of_casualties&quot;: 2, &quot;Day_of_Week&quot;: &quot;Sunday&quot;, &quot;road_surface_conditions&quot;: &quot;Dry&quot;, &quot;road_type&quot;: &quot;Single carriageway&quot;, &quot;sex_of_driver&quot;: &quot;Male&quot;}, &quot;geometry&quot;: {&quot;type&quot;: &quot;Point&quot;, &quot;coordinates&quot;: [&quot;-3.700248&quot;, &quot;51.643738&quot;]}}, {&quot;type&quot;: &quot;Feature&quot;, &quot;properties&quot;: {&quot;number_of_casualties&quot;: 1, &quot;Day_of_Week&quot;: &quot;Thursday&quot;, &quot;road_surface_conditions&quot;: &quot;Dry&quot;, &quot;road_type&quot;: &quot;Dual carriageway&quot;, &quot;sex_of_driver&quot;: &quot;Male&quot;}, &quot;geometry&quot;: {&quot;type&quot;: &quot;Point&quot;, &quot;coordinates&quot;: [&quot;-0.030117&quot;, &quot;51.682137&quot;]}}, {&quot;type&quot;: &quot;Feature&quot;, &quot;properties&quot;: {&quot;number_of_casualties&quot;: 1, &quot;Day_of_Week&quot;: &quot;Sunday&quot;, &quot;road_surface_conditions&quot;: &quot;Dry&quot;, &quot;road_type&quot;: &quot;Single carriageway&quot;, &quot;sex_of_driver&quot;: &quot;Unknow&quot;}, &quot;geometry&quot;: {&quot;type&quot;: &quot;Point&quot;, &quot;coordinates&quot;: [&quot;-4.148356&quot;, &quot;51.687103&quot;]}}, {&quot;type&quot;: &quot;Feature&quot;, &quot;properties&quot;: {&quot;number_of_casualties&quot;: 5, &quot;Day_of_Week&quot;: &quot;Saturday&quot;, &quot;road_surface_conditions&quot;: &quot;Wet or damp&quot;, &quot;road_type&quot;: &quot;Single carriageway&quot;, &quot;sex_of_driver&quot;: &quot;Male&quot;}, &quot;geometry&quot;: {&quot;type&quot;: &quot;Point&quot;, &quot;coordinates&quot;: [&quot;-0.174692&quot;, &quot;51.699688&quot;]}}, {&quot;type&quot;: &quot;Feature&quot;, &quot;properties&quot;: {&quot;number_of_casualties&quot;: 1, &quot;Day_of_Week&quot;: &quot;Friday&quot;, &quot;road_surface_conditions&quot;: &quot;Dry&quot;, &quot;road_type&quot;: &quot;Dual carriageway&quot;, &quot;sex_of_driver&quot;: &quot;Male&quot;}, &quot;geometry&quot;: {&quot;type&quot;: &quot;Point&quot;, &quot;coordinates&quot;: [&quot;0.14154&quot;, &quot;51.723558&quot;]}}, {&quot;type&quot;: &quot;Feature&quot;, &quot;properties&quot;: {&quot;number_of_casualties&quot;: 1, &quot;Day_of_Week&quot;: &quot;Saturday&quot;, &quot;road_surface_conditions&quot;: &quot;Dry&quot;, &quot;road_type&quot;: &quot;Single carriageway&quot;, &quot;sex_of_driver&quot;: &quot;Male&quot;}, &quot;geometry&quot;: {&quot;type&quot;: &quot;Point&quot;, &quot;coordinates&quot;: [&quot;-3.706431&quot;, &quot;51.800193&quot;]}}, {&quot;type&quot;: &quot;Feature&quot;, &quot;properties&quot;: {&quot;number_of_casualties&quot;: 1, &quot;Day_of_Week&quot;: &quot;Monday&quot;, &quot;road_surface_conditions&quot;: &quot;Wet or damp&quot;, &quot;road_type&quot;: &quot;Single carriageway&quot;, &quot;sex_of_driver&quot;: &quot;Female&quot;}, &quot;geometry&quot;: {&quot;type&quot;: &quot;Point&quot;, &quot;coordinates&quot;: [&quot;-3.224513&quot;, &quot;51.84882&quot;]}}, {&quot;type&quot;: &quot;Feature&quot;, &quot;properties&quot;: {&quot;number_of_casualties&quot;: 1, &quot;Day_of_Week&quot;: &quot;Sunday&quot;, &quot;road_surface_conditions&quot;: &quot;Dry&quot;, &quot;road_type&quot;: &quot;Single carriageway&quot;, &quot;sex_of_driver&quot;: &quot;Male&quot;}, &quot;geometry&quot;: {&quot;type&quot;: &quot;Point&quot;, &quot;coordinates&quot;: [&quot;-4.728741&quot;, &quot;51.858429&quot;]}}, {&quot;type&quot;: &quot;Feature&quot;, &quot;properties&quot;: {&quot;number_of_casualties&quot;: 1, &quot;Day_of_Week&quot;: &quot;Saturday&quot;, &quot;road_surface_conditions&quot;: &quot;Dry&quot;, &quot;road_type&quot;: &quot;Single carriageway&quot;, &quot;sex_of_driver&quot;: &quot;Female&quot;}, &quot;geometry&quot;: {&quot;type&quot;: &quot;Point&quot;, &quot;coordinates&quot;: [&quot;0.855359&quot;, &quot;51.879546&quot;]}}, {&quot;type&quot;: &quot;Feature&quot;, &quot;properties&quot;: {&quot;number_of_casualties&quot;: 1, &quot;Day_of_Week&quot;: &quot;Sunday&quot;, &quot;road_surface_conditions&quot;: &quot;Dry&quot;, &quot;road_type&quot;: &quot;Dual carriageway&quot;, &quot;sex_of_driver&quot;: &quot;Male&quot;}, &quot;geometry&quot;: {&quot;type&quot;: &quot;Point&quot;, &quot;coordinates&quot;: [&quot;-3.350872&quot;, &quot;51.937711&quot;]}}, {&quot;type&quot;: &quot;Feature&quot;, &quot;properties&quot;: {&quot;number_of_casualties&quot;: 1, &quot;Day_of_Week&quot;: &quot;Thursday&quot;, &quot;road_surface_conditions&quot;: &quot;Wet or damp&quot;, &quot;road_type&quot;: &quot;Single carriageway&quot;, &quot;sex_of_driver&quot;: &quot;Male&quot;}, &quot;geometry&quot;: {&quot;type&quot;: &quot;Point&quot;, &quot;coordinates&quot;: [&quot;-0.3585&quot;, &quot;52.034905&quot;]}}, {&quot;type&quot;: &quot;Feature&quot;, &quot;properties&quot;: {&quot;number_of_casualties&quot;: 1, &quot;Day_of_Week&quot;: &quot;Sunday&quot;, &quot;road_surface_conditions&quot;: &quot;Dry&quot;, &quot;road_type&quot;: &quot;Single carriageway&quot;, &quot;sex_of_driver&quot;: &quot;Unknow&quot;}, &quot;geometry&quot;: {&quot;type&quot;: &quot;Point&quot;, &quot;coordinates&quot;: [&quot;1.118583&quot;, &quot;52.046086&quot;]}}, {&quot;type&quot;: &quot;Feature&quot;, &quot;properties&quot;: {&quot;number_of_casualties&quot;: 1, &quot;Day_of_Week&quot;: &quot;Wednesday&quot;, &quot;road_surface_conditions&quot;: &quot;Dry&quot;, &quot;road_type&quot;: &quot;Single carriageway&quot;, &quot;sex_of_driver&quot;: &quot;Female&quot;}, &quot;geometry&quot;: {&quot;type&quot;: &quot;Point&quot;, &quot;coordinates&quot;: [&quot;-3.139679&quot;, &quot;52.082186&quot;]}}, {&quot;type&quot;: &quot;Feature&quot;, &quot;properties&quot;: {&quot;number_of_casualties&quot;: 2, &quot;Day_of_Week&quot;: &quot;Saturday&quot;, &quot;road_surface_conditions&quot;: &quot;Dry&quot;, &quot;road_type&quot;: &quot;Single carriageway&quot;, &quot;sex_of_driver&quot;: &quot;Male&quot;}, &quot;geometry&quot;: {&quot;type&quot;: &quot;Point&quot;, &quot;coordinates&quot;: [&quot;-0.90182&quot;, &quot;52.116855&quot;]}}, {&quot;type&quot;: &quot;Feature&quot;, &quot;properties&quot;: {&quot;number_of_casualties&quot;: 1, &quot;Day_of_Week&quot;: &quot;Wednesday&quot;, &quot;road_surface_conditions&quot;: &quot;Dry&quot;, &quot;road_type&quot;: &quot;Dual carriageway&quot;, &quot;sex_of_driver&quot;: &quot;Male&quot;}, &quot;geometry&quot;: {&quot;type&quot;: &quot;Point&quot;, &quot;coordinates&quot;: [&quot;-0.377475&quot;, &quot;52.157884&quot;]}}, {&quot;type&quot;: &quot;Feature&quot;, &quot;properties&quot;: {&quot;number_of_casualties&quot;: 1, &quot;Day_of_Week&quot;: &quot;Thursday&quot;, &quot;road_surface_conditions&quot;: &quot;Dry&quot;, &quot;road_type&quot;: &quot;Dual carriageway&quot;, &quot;sex_of_driver&quot;: &quot;Male&quot;}, &quot;geometry&quot;: {&quot;type&quot;: &quot;Point&quot;, &quot;coordinates&quot;: [&quot;-0.765858&quot;, &quot;52.254961&quot;]}}, {&quot;type&quot;: &quot;Feature&quot;, &quot;properties&quot;: {&quot;number_of_casualties&quot;: 1, &quot;Day_of_Week&quot;: &quot;Friday&quot;, &quot;road_surface_conditions&quot;: &quot;Dry&quot;, &quot;road_type&quot;: &quot;Single carriageway&quot;, &quot;sex_of_driver&quot;: &quot;Male&quot;}, &quot;geometry&quot;: {&quot;type&quot;: &quot;Point&quot;, &quot;coordinates&quot;: [&quot;-0.701928&quot;, &quot;52.300452&quot;]}}, {&quot;type&quot;: &quot;Feature&quot;, &quot;properties&quot;: {&quot;number_of_casualties&quot;: 3, &quot;Day_of_Week&quot;: &quot;Wednesday&quot;, &quot;road_surface_conditions&quot;: &quot;Dry&quot;, &quot;road_type&quot;: &quot;Single carriageway&quot;, &quot;sex_of_driver&quot;: &quot;Female&quot;}, &quot;geometry&quot;: {&quot;type&quot;: &quot;Point&quot;, &quot;coordinates&quot;: [&quot;-0.588328&quot;, &quot;52.309282&quot;]}}, {&quot;type&quot;: &quot;Feature&quot;, &quot;properties&quot;: {&quot;number_of_casualties&quot;: 2, &quot;Day_of_Week&quot;: &quot;Friday&quot;, &quot;road_surface_conditions&quot;: &quot;Dry&quot;, &quot;road_type&quot;: &quot;Dual carriageway&quot;, &quot;sex_of_driver&quot;: &quot;Male&quot;}, &quot;geometry&quot;: {&quot;type&quot;: &quot;Point&quot;, &quot;coordinates&quot;: [&quot;-0.549379&quot;, &quot;52.391042&quot;]}}, {&quot;type&quot;: &quot;Feature&quot;, &quot;properties&quot;: {&quot;number_of_casualties&quot;: 6, &quot;Day_of_Week&quot;: &quot;Monday&quot;, &quot;road_surface_conditions&quot;: &quot;Dry&quot;, &quot;road_type&quot;: &quot;Single carriageway&quot;, &quot;sex_of_driver&quot;: &quot;Male&quot;}, &quot;geometry&quot;: {&quot;type&quot;: &quot;Point&quot;, &quot;coordinates&quot;: [&quot;1.577813&quot;, &quot;52.39248&quot;]}}, {&quot;type&quot;: &quot;Feature&quot;, &quot;properties&quot;: {&quot;number_of_casualties&quot;: 2, &quot;Day_of_Week&quot;: &quot;Tuesday&quot;, &quot;road_surface_conditions&quot;: &quot;Dry&quot;, &quot;road_type&quot;: &quot;Single carriageway&quot;, &quot;sex_of_driver&quot;: &quot;Male&quot;}, &quot;geometry&quot;: {&quot;type&quot;: &quot;Point&quot;, &quot;coordinates&quot;: [&quot;-3.985875&quot;, &quot;52.495645&quot;]}}, {&quot;type&quot;: &quot;Feature&quot;, &quot;properties&quot;: {&quot;number_of_casualties&quot;: 1, &quot;Day_of_Week&quot;: &quot;Thursday&quot;, &quot;road_surface_conditions&quot;: &quot;Dry&quot;, &quot;road_type&quot;: &quot;Single carriageway&quot;, &quot;sex_of_driver&quot;: &quot;Male&quot;}, &quot;geometry&quot;: {&quot;type&quot;: &quot;Point&quot;, &quot;coordinates&quot;: [&quot;1.027907&quot;, &quot;52.580887&quot;]}}, {&quot;type&quot;: &quot;Feature&quot;, &quot;properties&quot;: {&quot;number_of_casualties&quot;: 1, &quot;Day_of_Week&quot;: &quot;Monday&quot;, &quot;road_surface_conditions&quot;: &quot;Dry&quot;, &quot;road_type&quot;: &quot;Single carriageway&quot;, &quot;sex_of_driver&quot;: &quot;Male&quot;}, &quot;geometry&quot;: {&quot;type&quot;: &quot;Point&quot;, &quot;coordinates&quot;: [&quot;-2.131959&quot;, &quot;52.595397&quot;]}}, {&quot;type&quot;: &quot;Feature&quot;, &quot;properties&quot;: {&quot;number_of_casualties&quot;: 3, &quot;Day_of_Week&quot;: &quot;Tuesday&quot;, &quot;road_surface_conditions&quot;: &quot;Wet or damp&quot;, &quot;road_type&quot;: &quot;Single carriageway&quot;, &quot;sex_of_driver&quot;: &quot;Male&quot;}, &quot;geometry&quot;: {&quot;type&quot;: &quot;Point&quot;, &quot;coordinates&quot;: [&quot;-3.176382&quot;, &quot;52.615966&quot;]}}, {&quot;type&quot;: &quot;Feature&quot;, &quot;properties&quot;: {&quot;number_of_casualties&quot;: 1, &quot;Day_of_Week&quot;: &quot;Wednesday&quot;, &quot;road_surface_conditions&quot;: &quot;Wet or damp&quot;, &quot;road_type&quot;: &quot;Single carriageway&quot;, &quot;sex_of_driver&quot;: &quot;Male&quot;}, &quot;geometry&quot;: {&quot;type&quot;: &quot;Point&quot;, &quot;coordinates&quot;: [&quot;1.337697&quot;, &quot;52.66609&quot;]}}, {&quot;type&quot;: &quot;Feature&quot;, &quot;properties&quot;: {&quot;number_of_casualties&quot;: 1, &quot;Day_of_Week&quot;: &quot;Wednesday&quot;, &quot;road_surface_conditions&quot;: &quot;Wet or damp&quot;, &quot;road_type&quot;: &quot;Dual carriageway&quot;, &quot;sex_of_driver&quot;: &quot;Male&quot;}, &quot;geometry&quot;: {&quot;type&quot;: &quot;Point&quot;, &quot;coordinates&quot;: [&quot;-1.479076&quot;, &quot;52.897478&quot;]}}, {&quot;type&quot;: &quot;Feature&quot;, &quot;properties&quot;: {&quot;number_of_casualties&quot;: 1, &quot;Day_of_Week&quot;: &quot;Wednesday&quot;, &quot;road_surface_conditions&quot;: &quot;Dry&quot;, &quot;road_type&quot;: &quot;Single carriageway&quot;, &quot;sex_of_driver&quot;: &quot;Female&quot;}, &quot;geometry&quot;: {&quot;type&quot;: &quot;Point&quot;, &quot;coordinates&quot;: [&quot;-1.118586&quot;, &quot;52.910034&quot;]}}, {&quot;type&quot;: &quot;Feature&quot;, &quot;properties&quot;: {&quot;number_of_casualties&quot;: 1, &quot;Day_of_Week&quot;: &quot;Tuesday&quot;, &quot;road_surface_conditions&quot;: &quot;Dry&quot;, &quot;road_type&quot;: &quot;Single carriageway&quot;, &quot;sex_of_driver&quot;: &quot;Male&quot;}, &quot;geometry&quot;: {&quot;type&quot;: &quot;Point&quot;, &quot;coordinates&quot;: [&quot;-1.108422&quot;, &quot;52.914776&quot;]}}, {&quot;type&quot;: &quot;Feature&quot;, &quot;properties&quot;: {&quot;number_of_casualties&quot;: 1, &quot;Day_of_Week&quot;: &quot;Sunday&quot;, &quot;road_surface_conditions&quot;: &quot;Dry&quot;, &quot;road_type&quot;: &quot;Single carriageway&quot;, &quot;sex_of_driver&quot;: &quot;Male&quot;}, &quot;geometry&quot;: {&quot;type&quot;: &quot;Point&quot;, &quot;coordinates&quot;: [&quot;-4.457756&quot;, &quot;52.928665&quot;]}}, {&quot;type&quot;: &quot;Feature&quot;, &quot;properties&quot;: {&quot;number_of_casualties&quot;: 1, &quot;Day_of_Week&quot;: &quot;Friday&quot;, &quot;road_surface_conditions&quot;: &quot;Dry&quot;, &quot;road_type&quot;: &quot;Dual carriageway&quot;, &quot;sex_of_driver&quot;: &quot;Male&quot;}, &quot;geometry&quot;: {&quot;type&quot;: &quot;Point&quot;, &quot;coordinates&quot;: [&quot;-1.279989&quot;, &quot;52.944704&quot;]}}, {&quot;type&quot;: &quot;Feature&quot;, &quot;properties&quot;: {&quot;number_of_casualties&quot;: 1, &quot;Day_of_Week&quot;: &quot;Saturday&quot;, &quot;road_surface_conditions&quot;: &quot;Dry&quot;, &quot;road_type&quot;: &quot;Single carriageway&quot;, &quot;sex_of_driver&quot;: &quot;Male&quot;}, &quot;geometry&quot;: {&quot;type&quot;: &quot;Point&quot;, &quot;coordinates&quot;: [&quot;-1.139052&quot;, &quot;52.953342&quot;]}}, {&quot;type&quot;: &quot;Feature&quot;, &quot;properties&quot;: {&quot;number_of_casualties&quot;: 4, &quot;Day_of_Week&quot;: &quot;Tuesday&quot;, &quot;road_surface_conditions&quot;: &quot;Wet or damp&quot;, &quot;road_type&quot;: &quot;Single carriageway&quot;, &quot;sex_of_driver&quot;: &quot;Male&quot;}, &quot;geometry&quot;: {&quot;type&quot;: &quot;Point&quot;, &quot;coordinates&quot;: [&quot;-1.16962&quot;, &quot;52.955897&quot;]}}, {&quot;type&quot;: &quot;Feature&quot;, &quot;properties&quot;: {&quot;number_of_casualties&quot;: 1, &quot;Day_of_Week&quot;: &quot;Friday&quot;, &quot;road_surface_conditions&quot;: &quot;Dry&quot;, &quot;road_type&quot;: &quot;Single carriageway&quot;, &quot;sex_of_driver&quot;: &quot;Male&quot;}, &quot;geometry&quot;: {&quot;type&quot;: &quot;Point&quot;, &quot;coordinates&quot;: [&quot;-1.154555&quot;, &quot;52.964393&quot;]}}, {&quot;type&quot;: &quot;Feature&quot;, &quot;properties&quot;: {&quot;number_of_casualties&quot;: 2, &quot;Day_of_Week&quot;: &quot;Thursday&quot;, &quot;road_surface_conditions&quot;: &quot;Dry&quot;, &quot;road_type&quot;: &quot;Single carriageway&quot;, &quot;sex_of_driver&quot;: &quot;Male&quot;}, &quot;geometry&quot;: {&quot;type&quot;: &quot;Point&quot;, &quot;coordinates&quot;: [&quot;-1.228694&quot;, &quot;52.964699&quot;]}}, {&quot;type&quot;: &quot;Feature&quot;, &quot;properties&quot;: {&quot;number_of_casualties&quot;: 1, &quot;Day_of_Week&quot;: &quot;Friday&quot;, &quot;road_surface_conditions&quot;: &quot;Dry&quot;, &quot;road_type&quot;: &quot;Single carriageway&quot;, &quot;sex_of_driver&quot;: &quot;Male&quot;}, &quot;geometry&quot;: {&quot;type&quot;: &quot;Point&quot;, &quot;coordinates&quot;: [&quot;-3.177892&quot;, &quot;52.975003&quot;]}}, {&quot;type&quot;: &quot;Feature&quot;, &quot;properties&quot;: {&quot;number_of_casualties&quot;: 1, &quot;Day_of_Week&quot;: &quot;Monday&quot;, &quot;road_surface_conditions&quot;: &quot;Dry&quot;, &quot;road_type&quot;: &quot;Single carriageway&quot;, &quot;sex_of_driver&quot;: &quot;Male&quot;}, &quot;geometry&quot;: {&quot;type&quot;: &quot;Point&quot;, &quot;coordinates&quot;: [&quot;-1.211843&quot;, &quot;53.03084&quot;]}}, {&quot;type&quot;: &quot;Feature&quot;, &quot;properties&quot;: {&quot;number_of_casualties&quot;: 1, &quot;Day_of_Week&quot;: &quot;Thursday&quot;, &quot;road_surface_conditions&quot;: &quot;Wet or damp&quot;, &quot;road_type&quot;: &quot;Single carriageway&quot;, &quot;sex_of_driver&quot;: &quot;Unknow&quot;}, &quot;geometry&quot;: {&quot;type&quot;: &quot;Point&quot;, &quot;coordinates&quot;: [&quot;-1.242529&quot;, &quot;53.079464&quot;]}}, {&quot;type&quot;: &quot;Feature&quot;, &quot;properties&quot;: {&quot;number_of_casualties&quot;: 1, &quot;Day_of_Week&quot;: &quot;Wednesday&quot;, &quot;road_surface_conditions&quot;: &quot;Wet or damp&quot;, &quot;road_type&quot;: &quot;Single carriageway&quot;, &quot;sex_of_driver&quot;: &quot;Male&quot;}, &quot;geometry&quot;: {&quot;type&quot;: &quot;Point&quot;, &quot;coordinates&quot;: [&quot;-1.301274&quot;, &quot;53.11899&quot;]}}, {&quot;type&quot;: &quot;Feature&quot;, &quot;properties&quot;: {&quot;number_of_casualties&quot;: 2, &quot;Day_of_Week&quot;: &quot;Sunday&quot;, &quot;road_surface_conditions&quot;: &quot;Dry&quot;, &quot;road_type&quot;: &quot;Roundabout&quot;, &quot;sex_of_driver&quot;: &quot;Male&quot;}, &quot;geometry&quot;: {&quot;type&quot;: &quot;Point&quot;, &quot;coordinates&quot;: [&quot;-1.282184&quot;, &quot;53.120431&quot;]}}, {&quot;type&quot;: &quot;Feature&quot;, &quot;properties&quot;: {&quot;number_of_casualties&quot;: 1, &quot;Day_of_Week&quot;: &quot;Friday&quot;, &quot;road_surface_conditions&quot;: &quot;Dry&quot;, &quot;road_type&quot;: &quot;Single carriageway&quot;, &quot;sex_of_driver&quot;: &quot;Male&quot;}, &quot;geometry&quot;: {&quot;type&quot;: &quot;Point&quot;, &quot;coordinates&quot;: [&quot;-1.268561&quot;, &quot;53.122811&quot;]}}, {&quot;type&quot;: &quot;Feature&quot;, &quot;properties&quot;: {&quot;number_of_casualties&quot;: 1, &quot;Day_of_Week&quot;: &quot;Thursday&quot;, &quot;road_surface_conditions&quot;: &quot;Wet or damp&quot;, &quot;road_type&quot;: &quot;Single carriageway&quot;, &quot;sex_of_driver&quot;: &quot;Male&quot;}, &quot;geometry&quot;: {&quot;type&quot;: &quot;Point&quot;, &quot;coordinates&quot;: [&quot;-1.212594&quot;, &quot;53.139399&quot;]}}, {&quot;type&quot;: &quot;Feature&quot;, &quot;properties&quot;: {&quot;number_of_casualties&quot;: 2, &quot;Day_of_Week&quot;: &quot;Saturday&quot;, &quot;road_surface_conditions&quot;: &quot;Dry&quot;, &quot;road_type&quot;: &quot;Single carriageway&quot;, &quot;sex_of_driver&quot;: &quot;Male&quot;}, &quot;geometry&quot;: {&quot;type&quot;: &quot;Point&quot;, &quot;coordinates&quot;: [&quot;-3.811309&quot;, &quot;53.174273&quot;]}}, {&quot;type&quot;: &quot;Feature&quot;, &quot;properties&quot;: {&quot;number_of_casualties&quot;: 1, &quot;Day_of_Week&quot;: &quot;Thursday&quot;, &quot;road_surface_conditions&quot;: &quot;Dry&quot;, &quot;road_type&quot;: &quot;Single carriageway&quot;, &quot;sex_of_driver&quot;: &quot;Male&quot;}, &quot;geometry&quot;: {&quot;type&quot;: &quot;Point&quot;, &quot;coordinates&quot;: [&quot;-4.167837&quot;, &quot;53.225812&quot;]}}, {&quot;type&quot;: &quot;Feature&quot;, &quot;properties&quot;: {&quot;number_of_casualties&quot;: 7, &quot;Day_of_Week&quot;: &quot;Thursday&quot;, &quot;road_surface_conditions&quot;: &quot;Dry&quot;, &quot;road_type&quot;: &quot;Single carriageway&quot;, &quot;sex_of_driver&quot;: &quot;Male&quot;}, &quot;geometry&quot;: {&quot;type&quot;: &quot;Point&quot;, &quot;coordinates&quot;: [&quot;-1.509633&quot;, &quot;53.300391&quot;]}}, {&quot;type&quot;: &quot;Feature&quot;, &quot;properties&quot;: {&quot;number_of_casualties&quot;: 1, &quot;Day_of_Week&quot;: &quot;Tuesday&quot;, &quot;road_surface_conditions&quot;: &quot;Dry&quot;, &quot;road_type&quot;: &quot;Single carriageway&quot;, &quot;sex_of_driver&quot;: &quot;Male&quot;}, &quot;geometry&quot;: {&quot;type&quot;: &quot;Point&quot;, &quot;coordinates&quot;: [&quot;-3.383257&quot;, &quot;53.307397&quot;]}}, {&quot;type&quot;: &quot;Feature&quot;, &quot;properties&quot;: {&quot;number_of_casualties&quot;: 3, &quot;Day_of_Week&quot;: &quot;Sunday&quot;, &quot;road_surface_conditions&quot;: &quot;Wet or damp&quot;, &quot;road_type&quot;: &quot;Single carriageway&quot;, &quot;sex_of_driver&quot;: &quot;Male&quot;}, &quot;geometry&quot;: {&quot;type&quot;: &quot;Point&quot;, &quot;coordinates&quot;: [&quot;-3.415461&quot;, &quot;53.313626&quot;]}}, {&quot;type&quot;: &quot;Feature&quot;, &quot;properties&quot;: {&quot;number_of_casualties&quot;: 1, &quot;Day_of_Week&quot;: &quot;Wednesday&quot;, &quot;road_surface_conditions&quot;: &quot;Dry&quot;, &quot;road_type&quot;: &quot;Single carriageway&quot;, &quot;sex_of_driver&quot;: &quot;Female&quot;}, &quot;geometry&quot;: {&quot;type&quot;: &quot;Point&quot;, &quot;coordinates&quot;: [&quot;-3.463004&quot;, &quot;53.320757&quot;]}}, {&quot;type&quot;: &quot;Feature&quot;, &quot;properties&quot;: {&quot;number_of_casualties&quot;: 1, &quot;Day_of_Week&quot;: &quot;Tuesday&quot;, &quot;road_surface_conditions&quot;: &quot;Dry&quot;, &quot;road_type&quot;: &quot;Single carriageway&quot;, &quot;sex_of_driver&quot;: &quot;Male&quot;}, &quot;geometry&quot;: {&quot;type&quot;: &quot;Point&quot;, &quot;coordinates&quot;: [&quot;-2.153576&quot;, &quot;53.404245&quot;]}}, {&quot;type&quot;: &quot;Feature&quot;, &quot;properties&quot;: {&quot;number_of_casualties&quot;: 2, &quot;Day_of_Week&quot;: &quot;Saturday&quot;, &quot;road_surface_conditions&quot;: &quot;Dry&quot;, &quot;road_type&quot;: &quot;Single carriageway&quot;, &quot;sex_of_driver&quot;: &quot;Male&quot;}, &quot;geometry&quot;: {&quot;type&quot;: &quot;Point&quot;, &quot;coordinates&quot;: [&quot;-2.262196&quot;, &quot;53.417394&quot;]}}, {&quot;type&quot;: &quot;Feature&quot;, &quot;properties&quot;: {&quot;number_of_casualties&quot;: 1, &quot;Day_of_Week&quot;: &quot;Sunday&quot;, &quot;road_surface_conditions&quot;: &quot;Wet or damp&quot;, &quot;road_type&quot;: &quot;Single carriageway&quot;, &quot;sex_of_driver&quot;: &quot;Male&quot;}, &quot;geometry&quot;: {&quot;type&quot;: &quot;Point&quot;, &quot;coordinates&quot;: [&quot;-2.331922&quot;, &quot;53.419692&quot;]}}, {&quot;type&quot;: &quot;Feature&quot;, &quot;properties&quot;: {&quot;number_of_casualties&quot;: 2, &quot;Day_of_Week&quot;: &quot;Saturday&quot;, &quot;road_surface_conditions&quot;: &quot;Dry&quot;, &quot;road_type&quot;: &quot;Single carriageway&quot;, &quot;sex_of_driver&quot;: &quot;Male&quot;}, &quot;geometry&quot;: {&quot;type&quot;: &quot;Point&quot;, &quot;coordinates&quot;: [&quot;-1.369774&quot;, &quot;53.473542&quot;]}}, {&quot;type&quot;: &quot;Feature&quot;, &quot;properties&quot;: {&quot;number_of_casualties&quot;: 1, &quot;Day_of_Week&quot;: &quot;Saturday&quot;, &quot;road_surface_conditions&quot;: &quot;Wet or damp&quot;, &quot;road_type&quot;: &quot;Roundabout&quot;, &quot;sex_of_driver&quot;: &quot;Male&quot;}, &quot;geometry&quot;: {&quot;type&quot;: &quot;Point&quot;, &quot;coordinates&quot;: [&quot;-1.150137&quot;, &quot;53.47906&quot;]}}, {&quot;type&quot;: &quot;Feature&quot;, &quot;properties&quot;: {&quot;number_of_casualties&quot;: 1, &quot;Day_of_Week&quot;: &quot;Friday&quot;, &quot;road_surface_conditions&quot;: &quot;Wet or damp&quot;, &quot;road_type&quot;: &quot;Single carriageway&quot;, &quot;sex_of_driver&quot;: &quot;Male&quot;}, &quot;geometry&quot;: {&quot;type&quot;: &quot;Point&quot;, &quot;coordinates&quot;: [&quot;-2.242474&quot;, &quot;53.494988&quot;]}}, {&quot;type&quot;: &quot;Feature&quot;, &quot;properties&quot;: {&quot;number_of_casualties&quot;: 1, &quot;Day_of_Week&quot;: &quot;Friday&quot;, &quot;road_surface_conditions&quot;: &quot;Wet or damp&quot;, &quot;road_type&quot;: &quot;Single carriageway&quot;, &quot;sex_of_driver&quot;: &quot;Unknow&quot;}, &quot;geometry&quot;: {&quot;type&quot;: &quot;Point&quot;, &quot;coordinates&quot;: [&quot;-1.41114&quot;, &quot;53.518525&quot;]}}, {&quot;type&quot;: &quot;Feature&quot;, &quot;properties&quot;: {&quot;number_of_casualties&quot;: 1, &quot;Day_of_Week&quot;: &quot;Sunday&quot;, &quot;road_surface_conditions&quot;: &quot;Wet or damp&quot;, &quot;road_type&quot;: &quot;Single carriageway&quot;, &quot;sex_of_driver&quot;: &quot;Male&quot;}, &quot;geometry&quot;: {&quot;type&quot;: &quot;Point&quot;, &quot;coordinates&quot;: [&quot;-2.573211&quot;, &quot;53.534711&quot;]}}, {&quot;type&quot;: &quot;Feature&quot;, &quot;properties&quot;: {&quot;number_of_casualties&quot;: 3, &quot;Day_of_Week&quot;: &quot;Monday&quot;, &quot;road_surface_conditions&quot;: &quot;Dry&quot;, &quot;road_type&quot;: &quot;Single carriageway&quot;, &quot;sex_of_driver&quot;: &quot;Male&quot;}, &quot;geometry&quot;: {&quot;type&quot;: &quot;Point&quot;, &quot;coordinates&quot;: [&quot;-2.091233&quot;, &quot;53.581057&quot;]}}, {&quot;type&quot;: &quot;Feature&quot;, &quot;properties&quot;: {&quot;number_of_casualties&quot;: 1, &quot;Day_of_Week&quot;: &quot;Tuesday&quot;, &quot;road_surface_conditions&quot;: &quot;Dry&quot;, &quot;road_type&quot;: &quot;Single carriageway&quot;, &quot;sex_of_driver&quot;: &quot;Male&quot;}, &quot;geometry&quot;: {&quot;type&quot;: &quot;Point&quot;, &quot;coordinates&quot;: [&quot;-1.803251&quot;, &quot;53.639335&quot;]}}, {&quot;type&quot;: &quot;Feature&quot;, &quot;properties&quot;: {&quot;number_of_casualties&quot;: 1, &quot;Day_of_Week&quot;: &quot;Tuesday&quot;, &quot;road_surface_conditions&quot;: &quot;Wet or damp&quot;, &quot;road_type&quot;: &quot;Single carriageway&quot;, &quot;sex_of_driver&quot;: &quot;Male&quot;}, &quot;geometry&quot;: {&quot;type&quot;: &quot;Point&quot;, &quot;coordinates&quot;: [&quot;-1.758148&quot;, &quot;53.681811&quot;]}}, {&quot;type&quot;: &quot;Feature&quot;, &quot;properties&quot;: {&quot;number_of_casualties&quot;: 1, &quot;Day_of_Week&quot;: &quot;Friday&quot;, &quot;road_surface_conditions&quot;: &quot;Wet or damp&quot;, &quot;road_type&quot;: &quot;Dual carriageway&quot;, &quot;sex_of_driver&quot;: &quot;Female&quot;}, &quot;geometry&quot;: {&quot;type&quot;: &quot;Point&quot;, &quot;coordinates&quot;: [&quot;-1.76026&quot;, &quot;53.688647&quot;]}}, {&quot;type&quot;: &quot;Feature&quot;, &quot;properties&quot;: {&quot;number_of_casualties&quot;: 1, &quot;Day_of_Week&quot;: &quot;Saturday&quot;, &quot;road_surface_conditions&quot;: &quot;Dry&quot;, &quot;road_type&quot;: &quot;Single carriageway&quot;, &quot;sex_of_driver&quot;: &quot;Male&quot;}, &quot;geometry&quot;: {&quot;type&quot;: &quot;Point&quot;, &quot;coordinates&quot;: [&quot;-1.480679&quot;, &quot;53.696409&quot;]}}, {&quot;type&quot;: &quot;Feature&quot;, &quot;properties&quot;: {&quot;number_of_casualties&quot;: 1, &quot;Day_of_Week&quot;: &quot;Monday&quot;, &quot;road_surface_conditions&quot;: &quot;Dry&quot;, &quot;road_type&quot;: &quot;Single carriageway&quot;, &quot;sex_of_driver&quot;: &quot;Male&quot;}, &quot;geometry&quot;: {&quot;type&quot;: &quot;Point&quot;, &quot;coordinates&quot;: [&quot;-1.461126&quot;, &quot;53.721391&quot;]}}, {&quot;type&quot;: &quot;Feature&quot;, &quot;properties&quot;: {&quot;number_of_casualties&quot;: 1, &quot;Day_of_Week&quot;: &quot;Thursday&quot;, &quot;road_surface_conditions&quot;: &quot;Dry&quot;, &quot;road_type&quot;: &quot;Single carriageway&quot;, &quot;sex_of_driver&quot;: &quot;Male&quot;}, &quot;geometry&quot;: {&quot;type&quot;: &quot;Point&quot;, &quot;coordinates&quot;: [&quot;-1.627548&quot;, &quot;53.747576&quot;]}}, {&quot;type&quot;: &quot;Feature&quot;, &quot;properties&quot;: {&quot;number_of_casualties&quot;: 1, &quot;Day_of_Week&quot;: &quot;Tuesday&quot;, &quot;road_surface_conditions&quot;: &quot;Dry&quot;, &quot;road_type&quot;: &quot;Single carriageway&quot;, &quot;sex_of_driver&quot;: &quot;Unknow&quot;}, &quot;geometry&quot;: {&quot;type&quot;: &quot;Point&quot;, &quot;coordinates&quot;: [&quot;-1.787002&quot;, &quot;53.784815&quot;]}}, {&quot;type&quot;: &quot;Feature&quot;, &quot;properties&quot;: {&quot;number_of_casualties&quot;: 3, &quot;Day_of_Week&quot;: &quot;Wednesday&quot;, &quot;road_surface_conditions&quot;: &quot;Dry&quot;, &quot;road_type&quot;: &quot;Single carriageway&quot;, &quot;sex_of_driver&quot;: &quot;Male&quot;}, &quot;geometry&quot;: {&quot;type&quot;: &quot;Point&quot;, &quot;coordinates&quot;: [&quot;-1.529499&quot;, &quot;53.803263&quot;]}}, {&quot;type&quot;: &quot;Feature&quot;, &quot;properties&quot;: {&quot;number_of_casualties&quot;: 1, &quot;Day_of_Week&quot;: &quot;Tuesday&quot;, &quot;road_surface_conditions&quot;: &quot;Wet or damp&quot;, &quot;road_type&quot;: &quot;Dual carriageway&quot;, &quot;sex_of_driver&quot;: &quot;Male&quot;}, &quot;geometry&quot;: {&quot;type&quot;: &quot;Point&quot;, &quot;coordinates&quot;: [&quot;-1.689692&quot;, &quot;53.804835&quot;]}}, {&quot;type&quot;: &quot;Feature&quot;, &quot;properties&quot;: {&quot;number_of_casualties&quot;: 1, &quot;Day_of_Week&quot;: &quot;Saturday&quot;, &quot;road_surface_conditions&quot;: &quot;Dry&quot;, &quot;road_type&quot;: &quot;Single carriageway&quot;, &quot;sex_of_driver&quot;: &quot;Male&quot;}, &quot;geometry&quot;: {&quot;type&quot;: &quot;Point&quot;, &quot;coordinates&quot;: [&quot;-1.469082&quot;, &quot;53.827379&quot;]}}, {&quot;type&quot;: &quot;Feature&quot;, &quot;properties&quot;: {&quot;number_of_casualties&quot;: 1, &quot;Day_of_Week&quot;: &quot;Friday&quot;, &quot;road_surface_conditions&quot;: &quot;Dry&quot;, &quot;road_type&quot;: &quot;Dual carriageway&quot;, &quot;sex_of_driver&quot;: &quot;Female&quot;}, &quot;geometry&quot;: {&quot;type&quot;: &quot;Point&quot;, &quot;coordinates&quot;: [&quot;-1.339747&quot;, &quot;53.838979&quot;]}}, {&quot;type&quot;: &quot;Feature&quot;, &quot;properties&quot;: {&quot;number_of_casualties&quot;: 1, &quot;Day_of_Week&quot;: &quot;Monday&quot;, &quot;road_surface_conditions&quot;: &quot;Dry&quot;, &quot;road_type&quot;: &quot;Single carriageway&quot;, &quot;sex_of_driver&quot;: &quot;Male&quot;}, &quot;geometry&quot;: {&quot;type&quot;: &quot;Point&quot;, &quot;coordinates&quot;: [&quot;-1.905135&quot;, &quot;53.861327&quot;]}}, {&quot;type&quot;: &quot;Feature&quot;, &quot;properties&quot;: {&quot;number_of_casualties&quot;: 3, &quot;Day_of_Week&quot;: &quot;Wednesday&quot;, &quot;road_surface_conditions&quot;: &quot;Wet or damp&quot;, &quot;road_type&quot;: &quot;Single carriageway&quot;, &quot;sex_of_driver&quot;: &quot;Female&quot;}, &quot;geometry&quot;: {&quot;type&quot;: &quot;Point&quot;, &quot;coordinates&quot;: [&quot;-1.051095&quot;, &quot;53.86526&quot;]}}, {&quot;type&quot;: &quot;Feature&quot;, &quot;properties&quot;: {&quot;number_of_casualties&quot;: 1, &quot;Day_of_Week&quot;: &quot;Monday&quot;, &quot;road_surface_conditions&quot;: &quot;Dry&quot;, &quot;road_type&quot;: &quot;Single carriageway&quot;, &quot;sex_of_driver&quot;: &quot;Male&quot;}, &quot;geometry&quot;: {&quot;type&quot;: &quot;Point&quot;, &quot;coordinates&quot;: [&quot;-1.624286&quot;, &quot;53.877073&quot;]}}, {&quot;type&quot;: &quot;Feature&quot;, &quot;properties&quot;: {&quot;number_of_casualties&quot;: 5, &quot;Day_of_Week&quot;: &quot;Wednesday&quot;, &quot;road_surface_conditions&quot;: &quot;Dry&quot;, &quot;road_type&quot;: &quot;Single carriageway&quot;, &quot;sex_of_driver&quot;: &quot;Male&quot;}, &quot;geometry&quot;: {&quot;type&quot;: &quot;Point&quot;, &quot;coordinates&quot;: [&quot;-1.240139&quot;, &quot;54.567055&quot;]}}, {&quot;type&quot;: &quot;Feature&quot;, &quot;properties&quot;: {&quot;number_of_casualties&quot;: 2, &quot;Day_of_Week&quot;: &quot;Tuesday&quot;, &quot;road_surface_conditions&quot;: &quot;Dry&quot;, &quot;road_type&quot;: &quot;Single carriageway&quot;, &quot;sex_of_driver&quot;: &quot;Male&quot;}, &quot;geometry&quot;: {&quot;type&quot;: &quot;Point&quot;, &quot;coordinates&quot;: [&quot;-1.251502&quot;, &quot;54.568132&quot;]}}, {&quot;type&quot;: &quot;Feature&quot;, &quot;properties&quot;: {&quot;number_of_casualties&quot;: 4, &quot;Day_of_Week&quot;: &quot;Sunday&quot;, &quot;road_surface_conditions&quot;: &quot;Dry&quot;, &quot;road_type&quot;: &quot;Single carriageway&quot;, &quot;sex_of_driver&quot;: &quot;Male&quot;}, &quot;geometry&quot;: {&quot;type&quot;: &quot;Point&quot;, &quot;coordinates&quot;: [&quot;-2.528233&quot;, &quot;54.593147&quot;]}}, {&quot;type&quot;: &quot;Feature&quot;, &quot;properties&quot;: {&quot;number_of_casualties&quot;: 2, &quot;Day_of_Week&quot;: &quot;Sunday&quot;, &quot;road_surface_conditions&quot;: &quot;Dry&quot;, &quot;road_type&quot;: &quot;Single carriageway&quot;, &quot;sex_of_driver&quot;: &quot;Unknow&quot;}, &quot;geometry&quot;: {&quot;type&quot;: &quot;Point&quot;, &quot;coordinates&quot;: [&quot;-3.558241&quot;, &quot;54.633061&quot;]}}, {&quot;type&quot;: &quot;Feature&quot;, &quot;properties&quot;: {&quot;number_of_casualties&quot;: 2, &quot;Day_of_Week&quot;: &quot;Friday&quot;, &quot;road_surface_conditions&quot;: &quot;Wet or damp&quot;, &quot;road_type&quot;: &quot;Single carriageway&quot;, &quot;sex_of_driver&quot;: &quot;Male&quot;}, &quot;geometry&quot;: {&quot;type&quot;: &quot;Point&quot;, &quot;coordinates&quot;: [&quot;-5.226275&quot;, &quot;56.702915&quot;]}}]};\n",
       "        geomtype = divineGeometryType(mapdata);\n",
       "        \n",
       "        comment = &quot;this is a densitymap...&quot;;\n",
       "        map.addSource(&quot;pxdatasource&quot;, {\n",
       "            &quot;type&quot;:&quot;geojson&quot;,\n",
       "            &quot;data&quot;:mapdata,\n",
       "            &quot;cluster&quot;: true, \n",
       "            &quot;clusterMaxZoom&quot;: 11, \n",
       "            &quot;clusterRadius&quot;: 20\n",
       "        });\n",
       "        var layers = [];\n",
       "        \n",
       "            layers.push([1.0, &quot;#ffffcc&quot;]);\n",
       "        \n",
       "            layers.push([1.0, &quot;#acf98d&quot;]);\n",
       "        \n",
       "            layers.push([1.0, &quot;#56ec97&quot;]);\n",
       "        \n",
       "            layers.push([2.0, &quot;#26bdd7&quot;]);\n",
       "        \n",
       "            layers.push([7.0, &quot;#253494&quot;]);\n",
       "        \n",
       "\n",
       "        layers.forEach(function(layer,i) {\n",
       "            map.addLayer({\n",
       "                &quot;id&quot;: &quot;cluster-&quot; + i, \n",
       "                &quot;type&quot;: &quot;circle&quot;, \n",
       "                &quot;source&quot;: &quot;pxdatasource&quot;, \n",
       "                &quot;paint&quot;: {\n",
       "                    &quot;circle-color&quot;: layer[1],\n",
       "                    &quot;circle-radius&quot;: 70, \n",
       "                    &quot;circle-blur&quot;: 1\n",
       "                }, \n",
       "                &quot;filter&quot;: i === layers.length-1 ? [&quot;>=&quot;, &quot;number_of_casualties&quot;, layer[0]] : \n",
       "                    [&quot;all&quot;, [&quot;>=&quot;, &quot;number_of_casualties&quot;, layer[0]], [&quot;<&quot;, &quot;number_of_casualties&quot;, layers[i+1][0]]]\n",
       "\n",
       "            }, &quot;waterway-label&quot;);\n",
       "        });\n",
       "        \n",
       "        map.addLayer({\n",
       "            &quot;id&quot;: &quot;pxlayer&quot;, \n",
       "            &quot;type&quot;: &quot;circle&quot;, \n",
       "            &quot;source&quot;: &quot;pxdatasource&quot;, \n",
       "            &quot;paint&quot;: {\n",
       "                &quot;circle-color&quot;: &quot;rgba(0,255,0,0.5)&quot;, \n",
       "                &quot;circle-radius&quot;: 20, \n",
       "                &quot;circle-blur&quot;: 1\n",
       "            }, \n",
       "            &quot;filter&quot;: [&quot;!=&quot;, &quot;cluster&quot;, true]\n",
       "        }, &quot;waterway-label&quot;);\n",
       "\n",
       "        \n",
       "        \n",
       "\n",
       "        comment = &quot;Add user layers&quot;;\n",
       "        var layers = [];\n",
       "        \n",
       "        layers.sort(function(a,b) {\n",
       "            return a[1] - b[1];\n",
       "        });\n",
       "        for (layersi=layers.length-1; layersi>=0; layersi--) {\n",
       "            map.addLayer(layers[layersi][0]);\n",
       "            comment = &quot;User layer legend&quot;;\n",
       "            \n",
       "        }\n",
       "        \n",
       "        map.fitBounds([[&quot;-0.013303&quot;, &quot;50.368753&quot;], [&quot;1.577813&quot;, &quot;56.702915&quot;]]);\n",
       "        \n",
       "        \n",
       "    });\n",
       "</script>\n",
       "</body>\n",
       "</html>\" onload=\"iframeLoaded(this)\"></iframe>\n",
       "<script>\n",
       "  var iframe = document.getElementById('mapframefdffa589');\n",
       "  iframe.setAttribute('srcdoc', atob('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'));\n",
       "</script>\n",
       "\n",
       "        </div>"
      ],
      "text/plain": [
       "<IPython.core.display.HTML object>"
      ]
     },
     "metadata": {},
     "output_type": "display_data"
    }
   ],
   "source": [
    "#Visual of accident casuality in the UK\n",
    "display(accidentGeo)"
   ]
  },
  {
   "cell_type": "code",
   "execution_count": 55,
   "metadata": {
    "pixiedust": {
     "displayParams": {
      "basemap": "dark-v9",
      "colorrampname": "Yellow to Blue",
      "filter": "{\"field\": \"road_type\", \"constraint\": \"None\", \"value\": \"Single carriageway\", \"case_matter\": \"false\", \"regex\": \"false\"}",
      "handlerId": "mapView",
      "keyFields": "latitude,longitude",
      "kind": "densitymap",
      "mapboxtoken": "pk.eyJ1IjoibWFwYm94IiwiYSI6ImNpejY4M29iazA2Z2gycXA4N2pmbDZmangifQ.-g_vE53SD2WrJ6tFX7QHmA",
      "no_margin": "true",
      "title": "Highest Casualty On Single Carriage Way Road Type",
      "valueFields": "Date,Day_of_Week,number_of_casualties,road_surface_conditions,road_type,sex_of_driver"
     }
    }
   },
   "outputs": [
    {
     "data": {
      "text/html": [
       "<style type=\"text/css\">.pd_warning{display:none;}</style><div class=\"pd_warning\"><em>Hey, there's something awesome here! To see it, open this notebook outside GitHub, in a viewer like Jupyter</em></div>"
      ],
      "text/plain": [
       "<IPython.core.display.HTML object>"
      ]
     },
     "metadata": {
      "pixieapp_metadata": null
     },
     "output_type": "display_data"
    }
   ],
   "source": [
    "#Visual highest casialty single carriage way road type\n",
    "display(accidentGeo)"
   ]
  },
  {
   "cell_type": "code",
   "execution_count": null,
   "metadata": {},
   "outputs": [],
   "source": []
  }
 ],
 "metadata": {
  "kernelspec": {
   "display_name": "Python 3",
   "language": "python",
   "name": "python3"
  },
  "language_info": {
   "codemirror_mode": {
    "name": "ipython",
    "version": 3
   },
   "file_extension": ".py",
   "mimetype": "text/x-python",
   "name": "python",
   "nbconvert_exporter": "python",
   "pygments_lexer": "ipython3",
   "version": "3.6.8"
  },
  "toc": {
   "base_numbering": 1,
   "nav_menu": {},
   "number_sections": true,
   "sideBar": true,
   "skip_h1_title": false,
   "title_cell": "Table of Contents",
   "title_sidebar": "Contents",
   "toc_cell": false,
   "toc_position": {},
   "toc_section_display": true,
   "toc_window_display": false
  }
 },
 "nbformat": 4,
 "nbformat_minor": 2
}
